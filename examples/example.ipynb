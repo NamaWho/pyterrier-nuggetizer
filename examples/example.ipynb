{
 "cells": [
  {
   "cell_type": "markdown",
   "id": "7518c5c9-79ab-4daa-a7af-a5c699821c3a",
   "metadata": {},
   "source": [
    "# 📘 Nuggetizer: A lightweight nugget-based evaluation framework for pyterrier-rag"
   ]
  },
  {
   "cell_type": "markdown",
   "id": "a3c04970-bc5a-4e55-a669-fa19abcd1574",
   "metadata": {},
   "source": [
    "## 📌 Introduction\n",
    "In this notebook, we demonstrate how to evaluate a Retrieval-Augmented Generation (RAG) system\n",
    "using a semantic nugget-based evaluation framework inspired by the \"AutoNuggetizer\" used in TREC 2024.\n",
    "The goal is to assess the factual informativeness of generated answers through fine-grained nugget detection\n",
    "and scoring. This setup is general and compatible with Google Colab (T4 GPU)."
   ]
  },
  {
   "cell_type": "markdown",
   "id": "37a5defa-adae-403b-a890-751d489416ab",
   "metadata": {},
   "source": [
    "## 🎯 Motivation and Background\n",
    "- The Problem: Traditional RAG evaluations rely on lexical overlap or ROUGE scores, which miss semantic correctness.\n",
    "- The Solution: Nugget evaluation, originally proposed in TREC QA 2003, revived by AutoNuggetizer, uses semantically atomic facts (“nuggets”) to evaluate answers.\n",
    "- Inspiration: This library reimplements a simplified, local version of AutoNuggetizer with modular hooks into PyTerrier and HuggingFace models."
   ]
  },
  {
   "cell_type": "markdown",
   "id": "421df4f6-9dda-45b7-9de6-464cd3313fca",
   "metadata": {},
   "source": [
    "## ⚙️ Installation and Setup"
   ]
  },
  {
   "cell_type": "code",
   "execution_count": 1,
   "id": "d3f5d1de-738e-422b-9680-fa58dc3cc671",
   "metadata": {},
   "outputs": [
    {
     "name": "stdout",
     "output_type": "stream",
     "text": [
      "\u001b[33mWARNING: The directory '/mnt/primary/launcher-cache/pip' or its parent directory is not owned or is not writable by the current user. The cache has been disabled. Check the permissions and owner of that directory. If executing pip with sudo, you should use sudo's -H flag.\u001b[0m\u001b[33m\n",
      "\u001b[0mCollecting git+https://github.com/MattiWe/ir_datasets.git@add-msmarco-v2.1-trec-rag\n",
      "  Cloning https://github.com/MattiWe/ir_datasets.git (to revision add-msmarco-v2.1-trec-rag) to /tmp/pip-req-build-vjn8t4co\n",
      "  Running command git clone --filter=blob:none --quiet https://github.com/MattiWe/ir_datasets.git /tmp/pip-req-build-vjn8t4co\n",
      "  Running command git checkout -b add-msmarco-v2.1-trec-rag --track origin/add-msmarco-v2.1-trec-rag\n",
      "  Switched to a new branch 'add-msmarco-v2.1-trec-rag'\n",
      "  Branch 'add-msmarco-v2.1-trec-rag' set up to track remote branch 'add-msmarco-v2.1-trec-rag' from 'origin'.\n",
      "  Resolved https://github.com/MattiWe/ir_datasets.git to commit bd018b783e3d25942b69290f7be19eeb929022c2\n",
      "  Installing build dependencies ... \u001b[?25ldone\n",
      "\u001b[?25h  Getting requirements to build wheel ... \u001b[?25ldone\n",
      "\u001b[?25h  Preparing metadata (pyproject.toml) ... \u001b[?25ldone\n",
      "\u001b[?25hRequirement already satisfied: beautifulsoup4>=4.4.1 in /mnt/primary/conda-envs/nuggetizer/lib/python3.10/site-packages (from ir_datasets==0.5.10) (4.13.4)\n",
      "Requirement already satisfied: inscriptis>=2.2.0 in /mnt/primary/conda-envs/nuggetizer/lib/python3.10/site-packages (from ir_datasets==0.5.10) (2.6.0)\n",
      "Requirement already satisfied: lxml>=4.5.2 in /mnt/primary/conda-envs/nuggetizer/lib/python3.10/site-packages (from ir_datasets==0.5.10) (5.4.0)\n",
      "Requirement already satisfied: numpy>=1.18.1 in /mnt/primary/conda-envs/nuggetizer/lib/python3.10/site-packages (from ir_datasets==0.5.10) (1.26.4)\n",
      "Requirement already satisfied: pyyaml>=5.3.1 in /mnt/primary/conda-envs/nuggetizer/lib/python3.10/site-packages (from ir_datasets==0.5.10) (6.0.2)\n",
      "Requirement already satisfied: requests>=2.22.0 in /mnt/primary/conda-envs/nuggetizer/lib/python3.10/site-packages (from ir_datasets==0.5.10) (2.32.3)\n",
      "Requirement already satisfied: tqdm>=4.38.0 in /mnt/primary/conda-envs/nuggetizer/lib/python3.10/site-packages (from ir_datasets==0.5.10) (4.67.1)\n",
      "Requirement already satisfied: trec-car-tools>=2.5.4 in /mnt/primary/conda-envs/nuggetizer/lib/python3.10/site-packages (from ir_datasets==0.5.10) (2.6)\n",
      "Requirement already satisfied: lz4>=3.1.10 in /mnt/primary/conda-envs/nuggetizer/lib/python3.10/site-packages (from ir_datasets==0.5.10) (4.4.4)\n",
      "Requirement already satisfied: warc3-wet>=0.2.3 in /mnt/primary/conda-envs/nuggetizer/lib/python3.10/site-packages (from ir_datasets==0.5.10) (0.2.5)\n",
      "Requirement already satisfied: warc3-wet-clueweb09>=0.2.5 in /mnt/primary/conda-envs/nuggetizer/lib/python3.10/site-packages (from ir_datasets==0.5.10) (0.2.5)\n",
      "Requirement already satisfied: zlib-state>=0.1.3 in /mnt/primary/conda-envs/nuggetizer/lib/python3.10/site-packages (from ir_datasets==0.5.10) (0.1.9)\n",
      "Requirement already satisfied: ijson>=3.1.3 in /mnt/primary/conda-envs/nuggetizer/lib/python3.10/site-packages (from ir_datasets==0.5.10) (3.3.0)\n",
      "Requirement already satisfied: unlzw3>=0.2.1 in /mnt/primary/conda-envs/nuggetizer/lib/python3.10/site-packages (from ir_datasets==0.5.10) (0.2.3)\n",
      "Requirement already satisfied: pyarrow>=16.1.0 in /mnt/primary/conda-envs/nuggetizer/lib/python3.10/site-packages (from ir_datasets==0.5.10) (20.0.0)\n",
      "Requirement already satisfied: soupsieve>1.2 in /mnt/primary/conda-envs/nuggetizer/lib/python3.10/site-packages (from beautifulsoup4>=4.4.1->ir_datasets==0.5.10) (2.7)\n",
      "Requirement already satisfied: typing-extensions>=4.0.0 in /mnt/primary/conda-envs/nuggetizer/lib/python3.10/site-packages (from beautifulsoup4>=4.4.1->ir_datasets==0.5.10) (4.12.2)\n",
      "Requirement already satisfied: charset-normalizer<4,>=2 in /mnt/primary/conda-envs/nuggetizer/lib/python3.10/site-packages (from requests>=2.22.0->ir_datasets==0.5.10) (3.4.2)\n",
      "Requirement already satisfied: idna<4,>=2.5 in /mnt/primary/conda-envs/nuggetizer/lib/python3.10/site-packages (from requests>=2.22.0->ir_datasets==0.5.10) (3.10)\n",
      "Requirement already satisfied: urllib3<3,>=1.21.1 in /mnt/primary/conda-envs/nuggetizer/lib/python3.10/site-packages (from requests>=2.22.0->ir_datasets==0.5.10) (2.4.0)\n",
      "Requirement already satisfied: certifi>=2017.4.17 in /mnt/primary/conda-envs/nuggetizer/lib/python3.10/site-packages (from requests>=2.22.0->ir_datasets==0.5.10) (2025.4.26)\n",
      "Requirement already satisfied: cbor>=1.0.0 in /mnt/primary/conda-envs/nuggetizer/lib/python3.10/site-packages (from trec-car-tools>=2.5.4->ir_datasets==0.5.10) (1.0.0)\n",
      "\u001b[33mWARNING: Running pip as the 'root' user can result in broken permissions and conflicting behaviour with the system package manager, possibly rendering your system unusable. It is recommended to use a virtual environment instead: https://pip.pypa.io/warnings/venv. Use the --root-user-action option if you know what you are doing and want to suppress this warning.\u001b[0m\u001b[33m\n",
      "\u001b[0m"
     ]
    }
   ],
   "source": [
    "!pip install git+https://github.com/MattiWe/ir_datasets.git@add-msmarco-v2.1-trec-rag"
   ]
  },
  {
   "cell_type": "code",
   "execution_count": 2,
   "id": "56b2ebd4-f984-4ec3-aabb-6e5adca3a20f",
   "metadata": {},
   "outputs": [
    {
     "name": "stdout",
     "output_type": "stream",
     "text": [
      "\u001b[33mWARNING: The directory '/mnt/primary/launcher-cache/pip' or its parent directory is not owned or is not writable by the current user. The cache has been disabled. Check the permissions and owner of that directory. If executing pip with sudo, you should use sudo's -H flag.\u001b[0m\u001b[33m\n",
      "\u001b[0mCollecting git+https://github.com/terrier-org/pyterrier@hf-upload-fix\n",
      "  Cloning https://github.com/terrier-org/pyterrier (to revision hf-upload-fix) to /tmp/pip-req-build-fm0liycm\n",
      "  Running command git clone --filter=blob:none --quiet https://github.com/terrier-org/pyterrier /tmp/pip-req-build-fm0liycm\n",
      "\u001b[33m  WARNING: Did not find branch or tag 'hf-upload-fix', assuming revision or ref.\u001b[0m\u001b[33m\n",
      "\u001b[0m  Running command git checkout -q hf-upload-fix\n",
      "  error: pathspec 'hf-upload-fix' did not match any file(s) known to git\n",
      "  \u001b[1;31merror\u001b[0m: \u001b[1msubprocess-exited-with-error\u001b[0m\n",
      "  \n",
      "  \u001b[31m×\u001b[0m \u001b[32mgit checkout -q hf-upload-fix\u001b[0m did not run successfully.\n",
      "  \u001b[31m│\u001b[0m exit code: \u001b[1;36m1\u001b[0m\n",
      "  \u001b[31m╰─>\u001b[0m See above for output.\n",
      "  \n",
      "  \u001b[1;35mnote\u001b[0m: This error originates from a subprocess, and is likely not a problem with pip.\n",
      "\u001b[1;31merror\u001b[0m: \u001b[1msubprocess-exited-with-error\u001b[0m\n",
      "\n",
      "\u001b[31m×\u001b[0m \u001b[32mgit checkout -q hf-upload-fix\u001b[0m did not run successfully.\n",
      "\u001b[31m│\u001b[0m exit code: \u001b[1;36m1\u001b[0m\n",
      "\u001b[31m╰─>\u001b[0m See above for output.\n",
      "\n",
      "\u001b[1;35mnote\u001b[0m: This error originates from a subprocess, and is likely not a problem with pip.\n"
     ]
    }
   ],
   "source": [
    "!pip install git+https://github.com/terrier-org/pyterrier@hf-upload-fix"
   ]
  },
  {
   "cell_type": "code",
   "execution_count": 3,
   "id": "bcda75f3-f54f-46c1-8635-6888b41002fa",
   "metadata": {},
   "outputs": [
    {
     "name": "stdout",
     "output_type": "stream",
     "text": [
      "\u001b[33mWARNING: The directory '/mnt/primary/launcher-cache/pip' or its parent directory is not owned or is not writable by the current user. The cache has been disabled. Check the permissions and owner of that directory. If executing pip with sudo, you should use sudo's -H flag.\u001b[0m\u001b[33m\n",
      "\u001b[0m\u001b[33mWARNING: Running pip as the 'root' user can result in broken permissions and conflicting behaviour with the system package manager, possibly rendering your system unusable. It is recommended to use a virtual environment instead: https://pip.pypa.io/warnings/venv. Use the --root-user-action option if you know what you are doing and want to suppress this warning.\u001b[0m\u001b[33m\n",
      "\u001b[0m"
     ]
    }
   ],
   "source": [
    "!pip install -q pyterrier_t5 pyterrier_pisa"
   ]
  },
  {
   "cell_type": "code",
   "execution_count": 4,
   "id": "abe1c6a1-8a49-436f-80b6-39b1634c9ab5",
   "metadata": {},
   "outputs": [
    {
     "name": "stdout",
     "output_type": "stream",
     "text": [
      "\u001b[33mWARNING: The directory '/mnt/primary/launcher-cache/pip' or its parent directory is not owned or is not writable by the current user. The cache has been disabled. Check the permissions and owner of that directory. If executing pip with sudo, you should use sudo's -H flag.\u001b[0m\u001b[33m\n",
      "\u001b[0m\u001b[33mWARNING: Running pip as the 'root' user can result in broken permissions and conflicting behaviour with the system package manager, possibly rendering your system unusable. It is recommended to use a virtual environment instead: https://pip.pypa.io/warnings/venv. Use the --root-user-action option if you know what you are doing and want to suppress this warning.\u001b[0m\u001b[33m\n",
      "\u001b[0m"
     ]
    }
   ],
   "source": [
    "!pip install -q git+https://github.com/terrierteam/pyterrier_rag.git"
   ]
  },
  {
   "cell_type": "code",
   "execution_count": 5,
   "id": "7275f3bc-b007-4ae6-a04b-a906c83be541",
   "metadata": {},
   "outputs": [
    {
     "name": "stdout",
     "output_type": "stream",
     "text": [
      "\u001b[33mWARNING: The directory '/mnt/primary/launcher-cache/pip' or its parent directory is not owned or is not writable by the current user. The cache has been disabled. Check the permissions and owner of that directory. If executing pip with sudo, you should use sudo's -H flag.\u001b[0m\u001b[33m\n",
      "\u001b[0m\u001b[33mWARNING: Running pip as the 'root' user can result in broken permissions and conflicting behaviour with the system package manager, possibly rendering your system unusable. It is recommended to use a virtual environment instead: https://pip.pypa.io/warnings/venv. Use the --root-user-action option if you know what you are doing and want to suppress this warning.\u001b[0m\u001b[33m\n",
      "\u001b[0m"
     ]
    }
   ],
   "source": [
    "!pip install -q --no-deps ../."
   ]
  },
  {
   "cell_type": "code",
   "execution_count": 6,
   "id": "fe713d5c-c5f6-4f84-8429-740f2cab3948",
   "metadata": {},
   "outputs": [
    {
     "name": "stderr",
     "output_type": "stream",
     "text": [
      "/opt/miniconda3/envs/nuggetizer/lib/python3.10/site-packages/tqdm/auto.py:21: TqdmWarning: IProgress not found. Please update jupyter and ipywidgets. See https://ipywidgets.readthedocs.io/en/stable/user_install.html\n",
      "  from .autonotebook import tqdm as notebook_tqdm\n"
     ]
    }
   ],
   "source": [
    "import pyterrier as pt\n",
    "from pyterrier_rag.backend import Backend"
   ]
  },
  {
   "cell_type": "markdown",
   "id": "11648e98-66ab-487f-998e-fab8d232c8ba",
   "metadata": {},
   "source": [
    "# Dataset"
   ]
  },
  {
   "cell_type": "code",
   "execution_count": 7,
   "id": "74c43bcb-63d3-40af-98d5-0918f370ae88",
   "metadata": {},
   "outputs": [],
   "source": [
    "import ir_datasets\n",
    "dataset = ir_datasets.load('msmarco-segment-v2.1')"
   ]
  },
  {
   "cell_type": "code",
   "execution_count": 8,
   "id": "94859fe6-63f4-495a-b51c-18058d795fb7",
   "metadata": {},
   "outputs": [],
   "source": [
    "pt_dataset = pt.get_dataset(\"irds:msmarco-segment-v2.1\")"
   ]
  },
  {
   "cell_type": "markdown",
   "id": "938bc72d-8861-4f58-a2b6-6b0a4f2c4cc4",
   "metadata": {},
   "source": [
    "# Pipelines"
   ]
  },
  {
   "cell_type": "code",
   "execution_count": 9,
   "id": "eb5944f7-91b8-468d-bd92-b66a0305e44a",
   "metadata": {},
   "outputs": [],
   "source": [
    "def rename_segment(run):\n",
    "    run = run.rename(columns={\"segment\": \"text\"})\n",
    "    return run\n",
    "rename_pipe = pt.apply.generic(rename_segment)"
   ]
  },
  {
   "cell_type": "code",
   "execution_count": 10,
   "id": "da2c9fa9-963a-4370-9c9f-1c805bed29e9",
   "metadata": {},
   "outputs": [
    {
     "name": "stderr",
     "output_type": "stream",
     "text": [
      "You are using the default legacy behaviour of the <class 'transformers.models.t5.tokenization_t5.T5Tokenizer'>. This is expected, and simply means that the `legacy` (previous) behavior will be used so nothing changes for you. If you want to use the new behaviour, set `legacy=False`. This should only be set if you understand what it means, and thoroughly read the reason why this was added as explained in https://github.com/huggingface/transformers/pull/24565\n"
     ]
    }
   ],
   "source": [
    "import pyterrier_alpha as pta\n",
    "from pyterrier_pisa import PisaIndex\n",
    "from pyterrier_t5 import MonoT5ReRanker\n",
    "\n",
    "index = pta.Artifact.from_hf('namawho/msmarco-segment-v2.1.pisa')\n",
    "bm25_ret = index.bm25() >> pt.text.get_text(pt_dataset, \"segment\") >> rename_pipe\n",
    "\n",
    "monoT5 = MonoT5ReRanker(batch_size=64, verbose=False)\n",
    "monoT5_ret = bm25_ret % 10 >> monoT5"
   ]
  },
  {
   "cell_type": "markdown",
   "id": "62bf39de-7eb2-4c4d-95d7-567d2223aaa9",
   "metadata": {},
   "source": [
    "# Building a baseline retrieval run to generate baseline nuggets"
   ]
  },
  {
   "cell_type": "code",
   "execution_count": 11,
   "id": "a8f7a963-1f70-4b5f-85c3-820f8089e370",
   "metadata": {},
   "outputs": [],
   "source": [
    "from datasets import load_dataset\n",
    "dataset = load_dataset(\"namawho/trec-raggy-dev\")[\"validation\"].to_pandas()\n",
    "topics_df  = dataset[[\"qid\", \"query\"]]\n",
    "answers_df = dataset[[\"qid\", \"query\", \"gold_answer\"]]"
   ]
  },
  {
   "cell_type": "code",
   "execution_count": 12,
   "id": "a1b1e4a1-24d9-42bb-9a26-ffae53ca5fac",
   "metadata": {},
   "outputs": [
    {
     "name": "stderr",
     "output_type": "stream",
     "text": [
      "Passing a tuple of `past_key_values` is deprecated and will be removed in Transformers v4.48.0. You should pass an instance of `EncoderDecoderCache` instead, e.g. `past_key_values=EncoderDecoderCache.from_legacy_cache(past_key_values)`.\n"
     ]
    },
    {
     "data": {
      "text/html": [
       "<div>\n",
       "<style scoped>\n",
       "    .dataframe tbody tr th:only-of-type {\n",
       "        vertical-align: middle;\n",
       "    }\n",
       "\n",
       "    .dataframe tbody tr th {\n",
       "        vertical-align: top;\n",
       "    }\n",
       "\n",
       "    .dataframe thead th {\n",
       "        text-align: right;\n",
       "    }\n",
       "</style>\n",
       "<table border=\"1\" class=\"dataframe\">\n",
       "  <thead>\n",
       "    <tr style=\"text-align: right;\">\n",
       "      <th></th>\n",
       "      <th>qid</th>\n",
       "      <th>query</th>\n",
       "      <th>docno</th>\n",
       "      <th>text</th>\n",
       "      <th>score</th>\n",
       "      <th>rank</th>\n",
       "    </tr>\n",
       "  </thead>\n",
       "  <tbody>\n",
       "    <tr>\n",
       "      <th>0</th>\n",
       "      <td>23287</td>\n",
       "      <td>are landlords liable if someone breaks in a hu...</td>\n",
       "      <td>msmarco_v2.1_doc_02_759557285#0_1325339642</td>\n",
       "      <td>Is a landlord liable if a tenant or visitor is...</td>\n",
       "      <td>-0.002110</td>\n",
       "      <td>0</td>\n",
       "    </tr>\n",
       "    <tr>\n",
       "      <th>1</th>\n",
       "      <td>23287</td>\n",
       "      <td>are landlords liable if someone breaks in a hu...</td>\n",
       "      <td>msmarco_v2.1_doc_48_841527758#3_1529122925</td>\n",
       "      <td>1996), reh'g denied (1996).) If a landlord is ...</td>\n",
       "      <td>-0.035341</td>\n",
       "      <td>6</td>\n",
       "    </tr>\n",
       "    <tr>\n",
       "      <th>2</th>\n",
       "      <td>23287</td>\n",
       "      <td>are landlords liable if someone breaks in a hu...</td>\n",
       "      <td>msmarco_v2.1_doc_02_759557285#1_1325342568</td>\n",
       "      <td>To do this, the injured person must show that:...</td>\n",
       "      <td>-0.003268</td>\n",
       "      <td>1</td>\n",
       "    </tr>\n",
       "    <tr>\n",
       "      <th>3</th>\n",
       "      <td>23287</td>\n",
       "      <td>are landlords liable if someone breaks in a hu...</td>\n",
       "      <td>msmarco_v2.1_doc_48_841527758#12_1529136555</td>\n",
       "      <td>But if the tenant has a month-to-month rental ...</td>\n",
       "      <td>-0.027581</td>\n",
       "      <td>5</td>\n",
       "    </tr>\n",
       "    <tr>\n",
       "      <th>4</th>\n",
       "      <td>23287</td>\n",
       "      <td>are landlords liable if someone breaks in a hu...</td>\n",
       "      <td>msmarco_v2.1_doc_48_841527758#11_1529134815</td>\n",
       "      <td>most courts hold landlords liable for knowing ...</td>\n",
       "      <td>-0.065491</td>\n",
       "      <td>8</td>\n",
       "    </tr>\n",
       "    <tr>\n",
       "      <th>...</th>\n",
       "      <td>...</td>\n",
       "      <td>...</td>\n",
       "      <td>...</td>\n",
       "      <td>...</td>\n",
       "      <td>...</td>\n",
       "      <td>...</td>\n",
       "    </tr>\n",
       "    <tr>\n",
       "      <th>95</th>\n",
       "      <td>395948</td>\n",
       "      <td>information about who howard gardner and what ...</td>\n",
       "      <td>msmarco_v2.1_doc_43_701261032#3_1477785431</td>\n",
       "      <td>Multiple Intelligences Test\\nBased on the work...</td>\n",
       "      <td>-4.660836</td>\n",
       "      <td>8</td>\n",
       "    </tr>\n",
       "    <tr>\n",
       "      <th>96</th>\n",
       "      <td>395948</td>\n",
       "      <td>information about who howard gardner and what ...</td>\n",
       "      <td>msmarco_v2.1_doc_45_911384240#2_1740648328</td>\n",
       "      <td>He is the director of Harvard Project Zero , A...</td>\n",
       "      <td>-0.016688</td>\n",
       "      <td>2</td>\n",
       "    </tr>\n",
       "    <tr>\n",
       "      <th>97</th>\n",
       "      <td>395948</td>\n",
       "      <td>information about who howard gardner and what ...</td>\n",
       "      <td>msmarco_v2.1_doc_01_1630976798#1_2378503407</td>\n",
       "      <td>and some of the issues around its conceptualiz...</td>\n",
       "      <td>-0.748225</td>\n",
       "      <td>6</td>\n",
       "    </tr>\n",
       "    <tr>\n",
       "      <th>98</th>\n",
       "      <td>395948</td>\n",
       "      <td>information about who howard gardner and what ...</td>\n",
       "      <td>msmarco_v2.1_doc_44_376498252#0_936606965</td>\n",
       "      <td>Multiple Intelligences (Howard Gardner) - Inst...</td>\n",
       "      <td>-5.776029</td>\n",
       "      <td>9</td>\n",
       "    </tr>\n",
       "    <tr>\n",
       "      <th>99</th>\n",
       "      <td>395948</td>\n",
       "      <td>information about who howard gardner and what ...</td>\n",
       "      <td>msmarco_v2.1_doc_26_1758869456#6_3043248021</td>\n",
       "      <td>nine\\nThose who define intelligence as academi...</td>\n",
       "      <td>-4.245888</td>\n",
       "      <td>7</td>\n",
       "    </tr>\n",
       "  </tbody>\n",
       "</table>\n",
       "<p>100 rows × 6 columns</p>\n",
       "</div>"
      ],
      "text/plain": [
       "       qid                                              query  \\\n",
       "0    23287  are landlords liable if someone breaks in a hu...   \n",
       "1    23287  are landlords liable if someone breaks in a hu...   \n",
       "2    23287  are landlords liable if someone breaks in a hu...   \n",
       "3    23287  are landlords liable if someone breaks in a hu...   \n",
       "4    23287  are landlords liable if someone breaks in a hu...   \n",
       "..     ...                                                ...   \n",
       "95  395948  information about who howard gardner and what ...   \n",
       "96  395948  information about who howard gardner and what ...   \n",
       "97  395948  information about who howard gardner and what ...   \n",
       "98  395948  information about who howard gardner and what ...   \n",
       "99  395948  information about who howard gardner and what ...   \n",
       "\n",
       "                                          docno  \\\n",
       "0    msmarco_v2.1_doc_02_759557285#0_1325339642   \n",
       "1    msmarco_v2.1_doc_48_841527758#3_1529122925   \n",
       "2    msmarco_v2.1_doc_02_759557285#1_1325342568   \n",
       "3   msmarco_v2.1_doc_48_841527758#12_1529136555   \n",
       "4   msmarco_v2.1_doc_48_841527758#11_1529134815   \n",
       "..                                          ...   \n",
       "95   msmarco_v2.1_doc_43_701261032#3_1477785431   \n",
       "96   msmarco_v2.1_doc_45_911384240#2_1740648328   \n",
       "97  msmarco_v2.1_doc_01_1630976798#1_2378503407   \n",
       "98    msmarco_v2.1_doc_44_376498252#0_936606965   \n",
       "99  msmarco_v2.1_doc_26_1758869456#6_3043248021   \n",
       "\n",
       "                                                 text     score  rank  \n",
       "0   Is a landlord liable if a tenant or visitor is... -0.002110     0  \n",
       "1   1996), reh'g denied (1996).) If a landlord is ... -0.035341     6  \n",
       "2   To do this, the injured person must show that:... -0.003268     1  \n",
       "3   But if the tenant has a month-to-month rental ... -0.027581     5  \n",
       "4   most courts hold landlords liable for knowing ... -0.065491     8  \n",
       "..                                                ...       ...   ...  \n",
       "95  Multiple Intelligences Test\\nBased on the work... -4.660836     8  \n",
       "96  He is the director of Harvard Project Zero , A... -0.016688     2  \n",
       "97  and some of the issues around its conceptualiz... -0.748225     6  \n",
       "98  Multiple Intelligences (Howard Gardner) - Inst... -5.776029     9  \n",
       "99  nine\\nThose who define intelligence as academi... -4.245888     7  \n",
       "\n",
       "[100 rows x 6 columns]"
      ]
     },
     "execution_count": 12,
     "metadata": {},
     "output_type": "execute_result"
    }
   ],
   "source": [
    "baseline = (monoT5_ret)(topics_df.head(10))\n",
    "baseline"
   ]
  },
  {
   "cell_type": "markdown",
   "id": "010b0d35-68e3-4918-97a9-440209c0d7b3",
   "metadata": {},
   "source": [
    "# Nuggetizer setup"
   ]
  },
  {
   "cell_type": "code",
   "execution_count": 13,
   "id": "d428aa08-c6ce-4f9f-962d-e69791e08f5b",
   "metadata": {},
   "outputs": [
    {
     "name": "stderr",
     "output_type": "stream",
     "text": [
      "Loading checkpoint shards: 100%|██████████| 9/9 [00:05<00:00,  1.66it/s]\n"
     ]
    }
   ],
   "source": [
    "from pyterrier_rag.backend import HuggingFaceBackend\n",
    "\n",
    "backend =  HuggingFaceBackend(\"hugging-quants/Meta-Llama-3.1-70B-Instruct-AWQ-INT4\",\n",
    "                                          max_new_tokens=2048,\n",
    "                                          model_args={\n",
    "                                              \"device_map\": \"cuda\"\n",
    "                                          }\n",
    "                                         )"
   ]
  },
  {
   "cell_type": "code",
   "execution_count": 14,
   "id": "ed0516ff-760b-46d0-b1c7-ccc3e3fd9bb4",
   "metadata": {},
   "outputs": [],
   "source": [
    "from fastchat.conversation import register_conv_template, get_conv_template, Conversation, SeparatorStyle\n",
    "\n",
    "register_conv_template(\n",
    "    Conversation(\n",
    "        name=\"meta-llama-3.1-sp\",\n",
    "        system_message=\"\",\n",
    "        roles=(\"user\", \"assistant\"),\n",
    "        sep_style=SeparatorStyle.ADD_COLON_SINGLE,\n",
    "        sep=\"\\n\",\n",
    "        messages=[],\n",
    "    )\n",
    ")\n",
    "\n",
    "conv_template = get_conv_template(\"meta-llama-3.1-sp\")"
   ]
  },
  {
   "cell_type": "code",
   "execution_count": 15,
   "id": "15180598-f175-4882-8c1b-44232c8a76d6",
   "metadata": {},
   "outputs": [],
   "source": [
    "import pandas as pd\n",
    "\n",
    "def save_csv(path, content):\n",
    "    content.to_csv(path, index=False)\n",
    "\n",
    "def load_csv(path):\n",
    "    try:\n",
    "        content = pd.read_csv(path)\n",
    "        return content\n",
    "    except Exception:\n",
    "        return None"
   ]
  },
  {
   "cell_type": "code",
   "execution_count": 16,
   "id": "bec0c3eb-3896-4f50-adc8-eaef610d51af",
   "metadata": {},
   "outputs": [],
   "source": [
    "from open_nuggetizer.nuggetizer import Nuggetizer\n",
    "\n",
    "nuggetizer = Nuggetizer(\n",
    "    backend=backend, \n",
    "    conversation_template=conv_template,\n",
    "    verbose=True\n",
    ")\n",
    "\n",
    "nuggets = load_csv(\"nuggets.csv\")\n",
    "if nuggets is None:\n",
    "    nuggets = nuggetizer.create(baseline)\n",
    "    save_csv(\"nuggets.csv\", nuggets)\n",
    "\n",
    "scored_nuggets = load_csv(\"scored_nuggets.csv\")\n",
    "if scored_nuggets is None:\n",
    "    scored_nuggets = nuggetizer.score(nuggets)\n",
    "    save_csv(\"scored_nuggets.csv\", scored_nuggets)"
   ]
  },
  {
   "cell_type": "markdown",
   "id": "221e6935-f55d-4b68-a9cf-e517e9f20727",
   "metadata": {},
   "source": [
    "# Evaluation"
   ]
  },
  {
   "cell_type": "code",
   "execution_count": 17,
   "id": "bd8df853-4120-442c-ad08-6ccd743bbc97",
   "metadata": {},
   "outputs": [
    {
     "name": "stderr",
     "output_type": "stream",
     "text": [
      "/opt/miniconda3/envs/nuggetizer/lib/python3.10/site-packages/transformers/generation/configuration_utils.py:633: UserWarning: `do_sample` is set to `False`. However, `top_p` is set to `0.9` -- this flag is only used in sample-based generation modes. You should set `do_sample=True` or unset `top_p`.\n",
      "  warnings.warn(\n",
      "A decoder-only architecture is being used, but right-padding was detected! For correct generation results, please set `padding_side='left'` when initializing the tokenizer.\n",
      "From v4.47 onwards, when a model cache is to be returned, `generate` will return a `Cache` instance instead by default (as opposed to the legacy tuple of tuples format). If you want to keep returning the legacy format, please set `return_legacy_cache=True`.\n"
     ]
    },
    {
     "data": {
      "text/html": [
       "<div>\n",
       "<style scoped>\n",
       "    .dataframe tbody tr th:only-of-type {\n",
       "        vertical-align: middle;\n",
       "    }\n",
       "\n",
       "    .dataframe tbody tr th {\n",
       "        vertical-align: top;\n",
       "    }\n",
       "\n",
       "    .dataframe thead th {\n",
       "        text-align: right;\n",
       "    }\n",
       "</style>\n",
       "<table border=\"1\" class=\"dataframe\">\n",
       "  <thead>\n",
       "    <tr style=\"text-align: right;\">\n",
       "      <th></th>\n",
       "      <th>prompt</th>\n",
       "      <th>qid</th>\n",
       "      <th>query_0</th>\n",
       "      <th>qanswer</th>\n",
       "    </tr>\n",
       "  </thead>\n",
       "  <tbody>\n",
       "    <tr>\n",
       "      <th>0</th>\n",
       "      <td>You are an helpful assistant.\\nuser: Use the c...</td>\n",
       "      <td>23287</td>\n",
       "      <td>are landlords liable if someone breaks in a hu...</td>\n",
       "      <td>Landlords are generally not liable for injurie...</td>\n",
       "    </tr>\n",
       "    <tr>\n",
       "      <th>1</th>\n",
       "      <td>You are an helpful assistant.\\nuser: Use the c...</td>\n",
       "      <td>30611</td>\n",
       "      <td>average age of men at marriage</td>\n",
       "      <td>assistant\\n\\n26.8 years</td>\n",
       "    </tr>\n",
       "  </tbody>\n",
       "</table>\n",
       "</div>"
      ],
      "text/plain": [
       "                                              prompt    qid  \\\n",
       "0  You are an helpful assistant.\\nuser: Use the c...  23287   \n",
       "1  You are an helpful assistant.\\nuser: Use the c...  30611   \n",
       "\n",
       "                                             query_0  \\\n",
       "0  are landlords liable if someone breaks in a hu...   \n",
       "1                     average age of men at marriage   \n",
       "\n",
       "                                             qanswer  \n",
       "0  Landlords are generally not liable for injurie...  \n",
       "1                            assistant\\n\\n26.8 years  "
      ]
     },
     "execution_count": 17,
     "metadata": {},
     "output_type": "execute_result"
    }
   ],
   "source": [
    "from pyterrier_rag.prompt import Concatenator\n",
    "from pyterrier_rag.readers import Reader\n",
    "from pyterrier_rag.prompt import PromptTransformer\n",
    "from jinja2 import Template\n",
    "\n",
    "def make_callable_template(template: Template):\n",
    "    def template_call(**kwargs):\n",
    "        return template.render(**kwargs)\n",
    "\n",
    "    return template_call\n",
    "\n",
    "GENERIC_PROMPT = Template(\n",
    "    \"Use the context information to answer the Question: \\n Context: {{ context }} \\n Question: {{ query }} \\n Answer:\"\n",
    ")\n",
    "\n",
    "prompt = PromptTransformer(\n",
    "            instruction=make_callable_template(GENERIC_PROMPT),\n",
    "            system_message=\"You are an helpful assistant.\",\n",
    "            conversation_template=conv_template,\n",
    "            input_fields=[\n",
    "                \"context\",\n",
    "                \"query\",\n",
    "            ],\n",
    "        )\n",
    "\n",
    "reader = Reader(backend, prompt)\n",
    "rag_pipeline = monoT5_ret % 3 >> Concatenator() >> reader\n",
    "\n",
    "results = (rag_pipeline)(topics_df.head(2))\n",
    "results"
   ]
  },
  {
   "cell_type": "code",
   "execution_count": 18,
   "id": "f050527d-4725-4be2-88bc-ebb3debe9271",
   "metadata": {},
   "outputs": [
    {
     "name": "stdout",
     "output_type": "stream",
     "text": [
      "                                              prompt    qid  \\\n",
      "0  You are an helpful assistant.\\nuser: Use the c...  23287   \n",
      "1  You are an helpful assistant.\\nuser: Use the c...  30611   \n",
      "\n",
      "                                             query_0  \\\n",
      "0  are landlords liable if someone breaks in a hu...   \n",
      "1                     average age of men at marriage   \n",
      "\n",
      "                                             qanswer  \n",
      "0  Landlords are generally not liable for injurie...  \n",
      "1                            assistant\\n\\n26.8 years           qid                                              query  nugget_id  \\\n",
      "0     23287  are landlords liable if someone breaks in a hu...    23287_1   \n",
      "1     23287  are landlords liable if someone breaks in a hu...    23287_2   \n",
      "2     23287  are landlords liable if someone breaks in a hu...    23287_3   \n",
      "3     23287  are landlords liable if someone breaks in a hu...    23287_4   \n",
      "4     23287  are landlords liable if someone breaks in a hu...    23287_5   \n",
      "..      ...                                                ...        ...   \n",
      "220  395948  information about who howard gardner and what ...  395948_19   \n",
      "221  395948  information about who howard gardner and what ...  395948_20   \n",
      "222  395948  information about who howard gardner and what ...  395948_21   \n",
      "223  395948  information about who howard gardner and what ...  395948_22   \n",
      "224  395948  information about who howard gardner and what ...  395948_23   \n",
      "\n",
      "                                                nugget  importance  \n",
      "0      Landlord liable for injuries on rental property           0  \n",
      "1                Tenant must prove landlord negligence           1  \n",
      "2                  Landlord must maintain common areas           1  \n",
      "3    Tenant can sue for medical bills and lost earn...           1  \n",
      "4    Landlord liable for injuries caused by tenant'...           1  \n",
      "..                                                 ...         ...  \n",
      "220                          Naturalistic intelligence           0  \n",
      "221  Gardner has been a member of organizations suc...           0  \n",
      "222  He has been the co-director of The Good Projec...           1  \n",
      "223              Gardner retired from teaching in 2019           1  \n",
      "224  He published his intellectual memoir A Synthes...           1  \n",
      "\n",
      "[225 rows x 5 columns]\n"
     ]
    },
    {
     "name": "stderr",
     "output_type": "stream",
     "text": [
      "pt.apply.by_query():   0%|          | 0/33 [00:00<?, ?it/s]\n",
      "  0%|          | 0/2 [00:00<?, ?window/s]\u001b[A/opt/miniconda3/envs/nuggetizer/lib/python3.10/site-packages/transformers/generation/configuration_utils.py:633: UserWarning: `do_sample` is set to `False`. However, `top_p` is set to `0.9` -- this flag is only used in sample-based generation modes. You should set `do_sample=True` or unset `top_p`.\n",
      "  warnings.warn(\n",
      "\n",
      " 50%|█████     | 1/2 [00:02<00:02,  2.90s/window]\u001b[A\n",
      "100%|██████████| 2/2 [00:10<00:00,  5.45s/window]\u001b[A\n",
      "pt.apply.by_query(): 100%|██████████| 33/33 [00:10<00:00,  3.02it/s]\n",
      "100%|██████████| 3/3 [00:17<00:00,  5.93s/window]"
     ]
    },
    {
     "name": "stdout",
     "output_type": "stream",
     "text": [
      "RUN:       qid                                              query  \\\n",
      "0   23287  are landlords liable if someone breaks in a hu...   \n",
      "1   23287  are landlords liable if someone breaks in a hu...   \n",
      "2   23287  are landlords liable if someone breaks in a hu...   \n",
      "3   23287  are landlords liable if someone breaks in a hu...   \n",
      "4   23287  are landlords liable if someone breaks in a hu...   \n",
      "5   23287  are landlords liable if someone breaks in a hu...   \n",
      "6   23287  are landlords liable if someone breaks in a hu...   \n",
      "7   23287  are landlords liable if someone breaks in a hu...   \n",
      "8   23287  are landlords liable if someone breaks in a hu...   \n",
      "9   23287  are landlords liable if someone breaks in a hu...   \n",
      "10  23287  are landlords liable if someone breaks in a hu...   \n",
      "11  23287  are landlords liable if someone breaks in a hu...   \n",
      "12  30611                     average age of men at marriage   \n",
      "13  30611                     average age of men at marriage   \n",
      "14  30611                     average age of men at marriage   \n",
      "15  30611                     average age of men at marriage   \n",
      "16  30611                     average age of men at marriage   \n",
      "17  30611                     average age of men at marriage   \n",
      "18  30611                     average age of men at marriage   \n",
      "19  30611                     average age of men at marriage   \n",
      "20  30611                     average age of men at marriage   \n",
      "21  30611                     average age of men at marriage   \n",
      "22  30611                     average age of men at marriage   \n",
      "23  30611                     average age of men at marriage   \n",
      "24  30611                     average age of men at marriage   \n",
      "25  30611                     average age of men at marriage   \n",
      "26  30611                     average age of men at marriage   \n",
      "27  30611                     average age of men at marriage   \n",
      "28  30611                     average age of men at marriage   \n",
      "29  30611                     average age of men at marriage   \n",
      "30  30611                     average age of men at marriage   \n",
      "31  30611                     average age of men at marriage   \n",
      "32  30611                     average age of men at marriage   \n",
      "\n",
      "                                              qanswer nugget_id  \\\n",
      "0   Landlords are generally not liable for injurie...   23287_1   \n",
      "1   Landlords are generally not liable for injurie...   23287_2   \n",
      "2   Landlords are generally not liable for injurie...   23287_3   \n",
      "3   Landlords are generally not liable for injurie...   23287_4   \n",
      "4   Landlords are generally not liable for injurie...   23287_5   \n",
      "5   Landlords are generally not liable for injurie...   23287_6   \n",
      "6   Landlords are generally not liable for injurie...   23287_7   \n",
      "7   Landlords are generally not liable for injurie...   23287_8   \n",
      "8   Landlords are generally not liable for injurie...   23287_9   \n",
      "9   Landlords are generally not liable for injurie...  23287_10   \n",
      "10  Landlords are generally not liable for injurie...  23287_11   \n",
      "11  Landlords are generally not liable for injurie...  23287_12   \n",
      "12                            assistant\\n\\n26.8 years   30611_1   \n",
      "13                            assistant\\n\\n26.8 years   30611_2   \n",
      "14                            assistant\\n\\n26.8 years   30611_3   \n",
      "15                            assistant\\n\\n26.8 years   30611_4   \n",
      "16                            assistant\\n\\n26.8 years   30611_5   \n",
      "17                            assistant\\n\\n26.8 years   30611_6   \n",
      "18                            assistant\\n\\n26.8 years   30611_7   \n",
      "19                            assistant\\n\\n26.8 years   30611_8   \n",
      "20                            assistant\\n\\n26.8 years   30611_9   \n",
      "21                            assistant\\n\\n26.8 years  30611_10   \n",
      "22                            assistant\\n\\n26.8 years  30611_11   \n",
      "23                            assistant\\n\\n26.8 years  30611_12   \n",
      "24                            assistant\\n\\n26.8 years  30611_13   \n",
      "25                            assistant\\n\\n26.8 years  30611_14   \n",
      "26                            assistant\\n\\n26.8 years  30611_15   \n",
      "27                            assistant\\n\\n26.8 years  30611_16   \n",
      "28                            assistant\\n\\n26.8 years  30611_17   \n",
      "29                            assistant\\n\\n26.8 years  30611_18   \n",
      "30                            assistant\\n\\n26.8 years  30611_19   \n",
      "31                            assistant\\n\\n26.8 years  30611_20   \n",
      "32                            assistant\\n\\n26.8 years  30611_21   \n",
      "\n",
      "                                               nugget  importance  assignment  \n",
      "0     Landlord liable for injuries on rental property           0           0  \n",
      "1               Tenant must prove landlord negligence           1           0  \n",
      "2                 Landlord must maintain common areas           1           0  \n",
      "3   Tenant can sue for medical bills and lost earn...           1           1  \n",
      "4   Landlord liable for injuries caused by tenant'...           1           0  \n",
      "5                 Landlord must know dog is dangerous           0           0  \n",
      "6              Landlord must have power to remove dog           0           0  \n",
      "7    Landlord liable for injuries off rental property           0           0  \n",
      "8   Landlord must maintain property in safe condition           0           0  \n",
      "9    Landlord liable for faulty wiring and toxic mold           0           0  \n",
      "10  Landlord not liable for conditions arising aft...           1           1  \n",
      "11  Landlord can be held liable for tenant's behav...           1           0  \n",
      "12       average age of men at marriage is 26.8 years           1           0  \n",
      "13  average age of men at marriage in US is 26.8 y...           1           0  \n",
      "14  average age of men at marriage in UK is 30.8 y...           0           0  \n",
      "15  average age of men at marriage in Alabama is 2...           0           0  \n",
      "16  average age of men at marriage in District of ...           0           0  \n",
      "17  average age of men at marriage in Moldova is 2...           0           0  \n",
      "18  average age of men at marriage in Mexico is 23...           0           0  \n",
      "19  average age of men at marriage in Europe varie...           0           0  \n",
      "20  average age of men at marriage in Northern Eur...           1           0  \n",
      "21  average age of men at marriage in Southern Eur...           0           0  \n",
      "22  average age of men at marriage in Western Euro...           0           0  \n",
      "23  average age of men at marriage has increased o...           1           1  \n",
      "24  average age of men at marriage has increased b...           0           0  \n",
      "25  average age of men at marriage is higher in co...           0           0  \n",
      "26  average age of men at marriage is higher in co...           0           0  \n",
      "27  average age of men at marriage is higher in co...           0           0  \n",
      "28  average age of men at marriage is higher in we...           0           0  \n",
      "29  average age of men at marriage is around 28-30...           0           0  \n",
      "30  average age of men at marriage is around 25-35...           0           0  \n",
      "31       ideal age for men to get married is 27 years           0           0  \n",
      "32  average age of men at marriage has increased i...           0           0  \n",
      "ANSWER: ScoredAnswer(qid=23287, query='are landlords liable if someone breaks in a hurts tenant', nugget_id='23287_1', nugget='Landlord liable for injuries on rental property', qanswer=\"Landlords are generally not liable for injuries caused by criminal acts of third parties, such as a break-in, unless the landlord failed to provide adequate security measures that would have prevented the crime. In other words, if a landlord has taken reasonable steps to secure the property, such as installing locks and security cameras, they are unlikely to be held liable for injuries caused by a break-in. However, if the landlord has been negligent in maintaining the property's security, such as failing to repair a broken lock or ignoring reports of suspicious activity, they may be held liable for any resulting injuries.\", assignment=0)\n",
      "ANSWER: ScoredAnswer(qid=23287, query='are landlords liable if someone breaks in a hurts tenant', nugget_id='23287_2', nugget='Tenant must prove landlord negligence', qanswer=\"Landlords are generally not liable for injuries caused by criminal acts of third parties, such as a break-in, unless the landlord failed to provide adequate security measures that would have prevented the crime. In other words, if a landlord has taken reasonable steps to secure the property, such as installing locks and security cameras, they are unlikely to be held liable for injuries caused by a break-in. However, if the landlord has been negligent in maintaining the property's security, such as failing to repair a broken lock or ignoring reports of suspicious activity, they may be held liable for any resulting injuries.\", assignment=0)\n",
      "ANSWER: ScoredAnswer(qid=23287, query='are landlords liable if someone breaks in a hurts tenant', nugget_id='23287_3', nugget='Landlord must maintain common areas', qanswer=\"Landlords are generally not liable for injuries caused by criminal acts of third parties, such as a break-in, unless the landlord failed to provide adequate security measures that would have prevented the crime. In other words, if a landlord has taken reasonable steps to secure the property, such as installing locks and security cameras, they are unlikely to be held liable for injuries caused by a break-in. However, if the landlord has been negligent in maintaining the property's security, such as failing to repair a broken lock or ignoring reports of suspicious activity, they may be held liable for any resulting injuries.\", assignment=0)\n",
      "ANSWER: ScoredAnswer(qid=23287, query='are landlords liable if someone breaks in a hurts tenant', nugget_id='23287_4', nugget='Tenant can sue for medical bills and lost earnings', qanswer=\"Landlords are generally not liable for injuries caused by criminal acts of third parties, such as a break-in, unless the landlord failed to provide adequate security measures that would have prevented the crime. In other words, if a landlord has taken reasonable steps to secure the property, such as installing locks and security cameras, they are unlikely to be held liable for injuries caused by a break-in. However, if the landlord has been negligent in maintaining the property's security, such as failing to repair a broken lock or ignoring reports of suspicious activity, they may be held liable for any resulting injuries.\", assignment=1)\n",
      "ANSWER: ScoredAnswer(qid=23287, query='are landlords liable if someone breaks in a hurts tenant', nugget_id='23287_5', nugget=\"Landlord liable for injuries caused by tenant's dog\", qanswer=\"Landlords are generally not liable for injuries caused by criminal acts of third parties, such as a break-in, unless the landlord failed to provide adequate security measures that would have prevented the crime. In other words, if a landlord has taken reasonable steps to secure the property, such as installing locks and security cameras, they are unlikely to be held liable for injuries caused by a break-in. However, if the landlord has been negligent in maintaining the property's security, such as failing to repair a broken lock or ignoring reports of suspicious activity, they may be held liable for any resulting injuries.\", assignment=0)\n",
      "ANSWER: ScoredAnswer(qid=23287, query='are landlords liable if someone breaks in a hurts tenant', nugget_id='23287_6', nugget='Landlord must know dog is dangerous', qanswer=\"Landlords are generally not liable for injuries caused by criminal acts of third parties, such as a break-in, unless the landlord failed to provide adequate security measures that would have prevented the crime. In other words, if a landlord has taken reasonable steps to secure the property, such as installing locks and security cameras, they are unlikely to be held liable for injuries caused by a break-in. However, if the landlord has been negligent in maintaining the property's security, such as failing to repair a broken lock or ignoring reports of suspicious activity, they may be held liable for any resulting injuries.\", assignment=0)\n",
      "ANSWER: ScoredAnswer(qid=23287, query='are landlords liable if someone breaks in a hurts tenant', nugget_id='23287_7', nugget='Landlord must have power to remove dog', qanswer=\"Landlords are generally not liable for injuries caused by criminal acts of third parties, such as a break-in, unless the landlord failed to provide adequate security measures that would have prevented the crime. In other words, if a landlord has taken reasonable steps to secure the property, such as installing locks and security cameras, they are unlikely to be held liable for injuries caused by a break-in. However, if the landlord has been negligent in maintaining the property's security, such as failing to repair a broken lock or ignoring reports of suspicious activity, they may be held liable for any resulting injuries.\", assignment=0)\n",
      "ANSWER: ScoredAnswer(qid=23287, query='are landlords liable if someone breaks in a hurts tenant', nugget_id='23287_8', nugget='Landlord liable for injuries off rental property', qanswer=\"Landlords are generally not liable for injuries caused by criminal acts of third parties, such as a break-in, unless the landlord failed to provide adequate security measures that would have prevented the crime. In other words, if a landlord has taken reasonable steps to secure the property, such as installing locks and security cameras, they are unlikely to be held liable for injuries caused by a break-in. However, if the landlord has been negligent in maintaining the property's security, such as failing to repair a broken lock or ignoring reports of suspicious activity, they may be held liable for any resulting injuries.\", assignment=0)\n",
      "ANSWER: ScoredAnswer(qid=23287, query='are landlords liable if someone breaks in a hurts tenant', nugget_id='23287_9', nugget='Landlord must maintain property in safe condition', qanswer=\"Landlords are generally not liable for injuries caused by criminal acts of third parties, such as a break-in, unless the landlord failed to provide adequate security measures that would have prevented the crime. In other words, if a landlord has taken reasonable steps to secure the property, such as installing locks and security cameras, they are unlikely to be held liable for injuries caused by a break-in. However, if the landlord has been negligent in maintaining the property's security, such as failing to repair a broken lock or ignoring reports of suspicious activity, they may be held liable for any resulting injuries.\", assignment=0)\n",
      "ANSWER: ScoredAnswer(qid=23287, query='are landlords liable if someone breaks in a hurts tenant', nugget_id='23287_10', nugget='Landlord liable for faulty wiring and toxic mold', qanswer=\"Landlords are generally not liable for injuries caused by criminal acts of third parties, such as a break-in, unless the landlord failed to provide adequate security measures that would have prevented the crime. In other words, if a landlord has taken reasonable steps to secure the property, such as installing locks and security cameras, they are unlikely to be held liable for injuries caused by a break-in. However, if the landlord has been negligent in maintaining the property's security, such as failing to repair a broken lock or ignoring reports of suspicious activity, they may be held liable for any resulting injuries.\", assignment=0)\n",
      "ANSWER: ScoredAnswer(qid=23287, query='are landlords liable if someone breaks in a hurts tenant', nugget_id='23287_11', nugget='Landlord not liable for conditions arising after tenant takes possession', qanswer=\"Landlords are generally not liable for injuries caused by criminal acts of third parties, such as a break-in, unless the landlord failed to provide adequate security measures that would have prevented the crime. In other words, if a landlord has taken reasonable steps to secure the property, such as installing locks and security cameras, they are unlikely to be held liable for injuries caused by a break-in. However, if the landlord has been negligent in maintaining the property's security, such as failing to repair a broken lock or ignoring reports of suspicious activity, they may be held liable for any resulting injuries.\", assignment=1)\n",
      "ANSWER: ScoredAnswer(qid=23287, query='are landlords liable if someone breaks in a hurts tenant', nugget_id='23287_12', nugget=\"Landlord can be held liable for tenant's behavior if aware and does nothing\", qanswer=\"Landlords are generally not liable for injuries caused by criminal acts of third parties, such as a break-in, unless the landlord failed to provide adequate security measures that would have prevented the crime. In other words, if a landlord has taken reasonable steps to secure the property, such as installing locks and security cameras, they are unlikely to be held liable for injuries caused by a break-in. However, if the landlord has been negligent in maintaining the property's security, such as failing to repair a broken lock or ignoring reports of suspicious activity, they may be held liable for any resulting injuries.\", assignment=0)\n",
      "ANSWER: ScoredAnswer(qid=30611, query='average age of men at marriage', nugget_id='30611_1', nugget='average age of men at marriage is 26.8 years', qanswer='assistant\\n\\n26.8 years', assignment=0)\n",
      "ANSWER: ScoredAnswer(qid=30611, query='average age of men at marriage', nugget_id='30611_2', nugget='average age of men at marriage in US is 26.8 years', qanswer='assistant\\n\\n26.8 years', assignment=0)\n",
      "ANSWER: ScoredAnswer(qid=30611, query='average age of men at marriage', nugget_id='30611_3', nugget='average age of men at marriage in UK is 30.8 years', qanswer='assistant\\n\\n26.8 years', assignment=0)\n",
      "ANSWER: ScoredAnswer(qid=30611, query='average age of men at marriage', nugget_id='30611_4', nugget='average age of men at marriage in Alabama is 25.5 years', qanswer='assistant\\n\\n26.8 years', assignment=0)\n",
      "ANSWER: ScoredAnswer(qid=30611, query='average age of men at marriage', nugget_id='30611_5', nugget='average age of men at marriage in District of Columbia is 30 years', qanswer='assistant\\n\\n26.8 years', assignment=0)\n",
      "ANSWER: ScoredAnswer(qid=30611, query='average age of men at marriage', nugget_id='30611_6', nugget='average age of men at marriage in Moldova is 26 years', qanswer='assistant\\n\\n26.8 years', assignment=0)\n",
      "ANSWER: ScoredAnswer(qid=30611, query='average age of men at marriage', nugget_id='30611_7', nugget='average age of men at marriage in Mexico is 23.3 years', qanswer='assistant\\n\\n26.8 years', assignment=0)\n",
      "ANSWER: ScoredAnswer(qid=30611, query='average age of men at marriage', nugget_id='30611_8', nugget='average age of men at marriage in Europe varies by country', qanswer='assistant\\n\\n26.8 years', assignment=0)\n",
      "ANSWER: ScoredAnswer(qid=30611, query='average age of men at marriage', nugget_id='30611_9', nugget='average age of men at marriage in Northern Europe is around 30 years', qanswer='assistant\\n\\n26.8 years', assignment=0)\n",
      "ANSWER: ScoredAnswer(qid=30611, query='average age of men at marriage', nugget_id='30611_10', nugget='average age of men at marriage in Southern Europe is around 30 years', qanswer='assistant\\n\\n26.8 years', assignment=0)\n",
      "ANSWER: ScoredAnswer(qid=30611, query='average age of men at marriage', nugget_id='30611_11', nugget='average age of men at marriage in Western Europe is around 30 years', qanswer='assistant\\n\\n26.8 years', assignment=0)\n",
      "ANSWER: ScoredAnswer(qid=30611, query='average age of men at marriage', nugget_id='30611_12', nugget='average age of men at marriage has increased over the past two decades', qanswer='assistant\\n\\n26.8 years', assignment=1)\n",
      "ANSWER: ScoredAnswer(qid=30611, query='average age of men at marriage', nugget_id='30611_13', nugget='average age of men at marriage has increased by two years since 1980', qanswer='assistant\\n\\n26.8 years', assignment=0)\n",
      "ANSWER: ScoredAnswer(qid=30611, query='average age of men at marriage', nugget_id='30611_14', nugget='average age of men at marriage is higher in countries with higher social status', qanswer='assistant\\n\\n26.8 years', assignment=0)\n",
      "ANSWER: ScoredAnswer(qid=30611, query='average age of men at marriage', nugget_id='30611_15', nugget='average age of men at marriage is higher in countries with better education system', qanswer='assistant\\n\\n26.8 years', assignment=0)\n",
      "ANSWER: ScoredAnswer(qid=30611, query='average age of men at marriage', nugget_id='30611_16', nugget='average age of men at marriage is higher in countries with better employment', qanswer='assistant\\n\\n26.8 years', assignment=0)\n",
      "ANSWER: ScoredAnswer(qid=30611, query='average age of men at marriage', nugget_id='30611_17', nugget='average age of men at marriage is higher in wealthier countries', qanswer='assistant\\n\\n26.8 years', assignment=0)\n",
      "ANSWER: ScoredAnswer(qid=30611, query='average age of men at marriage', nugget_id='30611_18', nugget='average age of men at marriage is around 28-30 years old', qanswer='assistant\\n\\n26.8 years', assignment=0)\n",
      "ANSWER: ScoredAnswer(qid=30611, query='average age of men at marriage', nugget_id='30611_19', nugget='average age of men at marriage is around 25-35 years old', qanswer='assistant\\n\\n26.8 years', assignment=0)\n",
      "ANSWER: ScoredAnswer(qid=30611, query='average age of men at marriage', nugget_id='30611_20', nugget='ideal age for men to get married is 27 years', qanswer='assistant\\n\\n26.8 years', assignment=0)\n",
      "ANSWER: ScoredAnswer(qid=30611, query='average age of men at marriage', nugget_id='30611_21', nugget='average age of men at marriage has increased in the last 60 years', qanswer='assistant\\n\\n26.8 years', assignment=0)\n"
     ]
    },
    {
     "name": "stderr",
     "output_type": "stream",
     "text": [
      "\n"
     ]
    },
    {
     "data": {
      "text/plain": [
       "<generator object NuggetScoreEvaluator.iter_calc at 0x7f5bf0cb8890>"
      ]
     },
     "execution_count": 18,
     "metadata": {},
     "output_type": "execute_result"
    }
   ],
   "source": [
    "nuggetizer.VitalScore().runtime_impl(scored_nuggets, results)"
   ]
  },
  {
   "cell_type": "code",
   "execution_count": 19,
   "id": "dea85e93-6c63-4105-9f48-58be6b4d8acc",
   "metadata": {},
   "outputs": [
    {
     "name": "stderr",
     "output_type": "stream",
     "text": [
      "/opt/miniconda3/envs/nuggetizer/lib/python3.10/site-packages/transformers/generation/configuration_utils.py:633: UserWarning: `do_sample` is set to `False`. However, `top_p` is set to `0.9` -- this flag is only used in sample-based generation modes. You should set `do_sample=True` or unset `top_p`.\n",
      "  warnings.warn(\n",
      "A decoder-only architecture is being used, but right-padding was detected! For correct generation results, please set `padding_side='left'` when initializing the tokenizer.\n"
     ]
    },
    {
     "ename": "ValueError",
     "evalue": "max() arg is an empty sequence",
     "output_type": "error",
     "traceback": [
      "\u001b[0;31m---------------------------------------------------------------------------\u001b[0m",
      "\u001b[0;31mValueError\u001b[0m                                Traceback (most recent call last)",
      "Cell \u001b[0;32mIn[19], line 3\u001b[0m\n\u001b[1;32m      1\u001b[0m \u001b[38;5;28;01mimport\u001b[39;00m\u001b[38;5;250m \u001b[39m\u001b[38;5;21;01mpyterrier_rag\u001b[39;00m\u001b[38;5;21;01m.\u001b[39;00m\u001b[38;5;21;01mmeasures\u001b[39;00m\n\u001b[0;32m----> 3\u001b[0m results \u001b[38;5;241m=\u001b[39m \u001b[43mpt\u001b[49m\u001b[38;5;241;43m.\u001b[39;49m\u001b[43mExperiment\u001b[49m\u001b[43m(\u001b[49m\n\u001b[1;32m      4\u001b[0m \u001b[43m    \u001b[49m\u001b[43m[\u001b[49m\n\u001b[1;32m      5\u001b[0m \u001b[43m        \u001b[49m\u001b[43mrag_pipeline\u001b[49m\n\u001b[1;32m      6\u001b[0m \u001b[43m    \u001b[49m\u001b[43m]\u001b[49m\u001b[43m,\u001b[49m\n\u001b[1;32m      7\u001b[0m \u001b[43m    \u001b[49m\u001b[43mtopics_df\u001b[49m\u001b[38;5;241;43m.\u001b[39;49m\u001b[43mhead\u001b[49m\u001b[43m(\u001b[49m\u001b[38;5;241;43m2\u001b[39;49m\u001b[43m)\u001b[49m\u001b[43m,\u001b[49m\u001b[43m \u001b[49m\n\u001b[1;32m      8\u001b[0m \u001b[43m    \u001b[49m\u001b[43manswers_df\u001b[49m\u001b[43m,\u001b[49m\n\u001b[1;32m      9\u001b[0m \u001b[43m    \u001b[49m\u001b[43m[\u001b[49m\u001b[43mpyterrier_rag\u001b[49m\u001b[38;5;241;43m.\u001b[39;49m\u001b[43mmeasures\u001b[49m\u001b[38;5;241;43m.\u001b[39;49m\u001b[43mF1\u001b[49m\u001b[43m,\u001b[49m\u001b[43m \u001b[49m\u001b[43mnuggetizer\u001b[49m\u001b[38;5;241;43m.\u001b[39;49m\u001b[43mVitalScore\u001b[49m\u001b[43m(\u001b[49m\u001b[43m)\u001b[49m\u001b[43m]\u001b[49m\u001b[43m,\u001b[49m\n\u001b[1;32m     10\u001b[0m \u001b[43m    \u001b[49m\u001b[38;5;66;43;03m#batch_size=25,\u001b[39;49;00m\n\u001b[1;32m     11\u001b[0m \u001b[43m    \u001b[49m\u001b[43mnames\u001b[49m\u001b[38;5;241;43m=\u001b[39;49m\u001b[43m[\u001b[49m\u001b[38;5;124;43m'\u001b[39;49m\u001b[38;5;124;43mbaseline retriever\u001b[39;49m\u001b[38;5;124;43m'\u001b[39;49m\u001b[43m]\u001b[49m\u001b[43m,\u001b[49m\n\u001b[1;32m     12\u001b[0m \u001b[43m)\u001b[49m\n",
      "File \u001b[0;32m/opt/miniconda3/envs/nuggetizer/lib/python3.10/site-packages/pyterrier/pipelines.py:647\u001b[0m, in \u001b[0;36mExperiment\u001b[0;34m(retr_systems, topics, qrels, eval_metrics, names, perquery, dataframe, batch_size, filter_by_qrels, filter_by_topics, baseline, test, correction, correction_alpha, highlight, round, verbose, save_dir, save_mode, save_format, precompute_prefix, **kwargs)\u001b[0m\n\u001b[1;32m    644\u001b[0m         \u001b[38;5;28;01mraise\u001b[39;00m \u001b[38;5;167;01mValueError\u001b[39;00m(\u001b[38;5;124m\"\u001b[39m\u001b[38;5;124mUnrecognised save_mode \u001b[39m\u001b[38;5;132;01m%s\u001b[39;00m\u001b[38;5;124m\"\u001b[39m \u001b[38;5;241m%\u001b[39m \u001b[38;5;28mstr\u001b[39m(save_format)) \n\u001b[1;32m    645\u001b[0m     save_file \u001b[38;5;241m=\u001b[39m os\u001b[38;5;241m.\u001b[39mpath\u001b[38;5;241m.\u001b[39mjoin(save_dir, \u001b[38;5;124m\"\u001b[39m\u001b[38;5;132;01m%s\u001b[39;00m\u001b[38;5;124m.\u001b[39m\u001b[38;5;132;01m%s\u001b[39;00m\u001b[38;5;124m\"\u001b[39m \u001b[38;5;241m%\u001b[39m (name, save_ext))\n\u001b[0;32m--> 647\u001b[0m time, evalMeasuresDict \u001b[38;5;241m=\u001b[39m \u001b[43m_run_and_evaluate\u001b[49m\u001b[43m(\u001b[49m\n\u001b[1;32m    648\u001b[0m \u001b[43m    \u001b[49m\u001b[43msystem\u001b[49m\u001b[43m,\u001b[49m\u001b[43m \u001b[49m\u001b[43mexecution_topics\u001b[49m\u001b[43m,\u001b[49m\u001b[43m \u001b[49m\u001b[43mqrels\u001b[49m\u001b[43m,\u001b[49m\u001b[43m \u001b[49m\u001b[43meval_metrics\u001b[49m\u001b[43m,\u001b[49m\u001b[43m \u001b[49m\n\u001b[1;32m    649\u001b[0m \u001b[43m    \u001b[49m\u001b[43mperquery\u001b[49m\u001b[38;5;241;43m=\u001b[39;49m\u001b[43mperquery\u001b[49m\u001b[43m \u001b[49m\u001b[38;5;129;43;01mor\u001b[39;49;00m\u001b[43m \u001b[49m\u001b[43mbaseline\u001b[49m\u001b[43m \u001b[49m\u001b[38;5;129;43;01mis\u001b[39;49;00m\u001b[43m \u001b[49m\u001b[38;5;129;43;01mnot\u001b[39;49;00m\u001b[43m \u001b[49m\u001b[38;5;28;43;01mNone\u001b[39;49;00m\u001b[43m,\u001b[49m\u001b[43m \u001b[49m\n\u001b[1;32m    650\u001b[0m \u001b[43m    \u001b[49m\u001b[43mbatch_size\u001b[49m\u001b[38;5;241;43m=\u001b[39;49m\u001b[43mbatch_size\u001b[49m\u001b[43m,\u001b[49m\u001b[43m \u001b[49m\n\u001b[1;32m    651\u001b[0m \u001b[43m    \u001b[49m\u001b[43mbackfill_qids\u001b[49m\u001b[38;5;241;43m=\u001b[39;49m\u001b[43mall_topic_qids\u001b[49m\u001b[43m \u001b[49m\u001b[38;5;28;43;01mif\u001b[39;49;00m\u001b[43m \u001b[49m\u001b[43mperquery\u001b[49m\u001b[43m \u001b[49m\u001b[38;5;28;43;01melse\u001b[39;49;00m\u001b[43m \u001b[49m\u001b[38;5;28;43;01mNone\u001b[39;49;00m\u001b[43m,\u001b[49m\n\u001b[1;32m    652\u001b[0m \u001b[43m    \u001b[49m\u001b[43msave_file\u001b[49m\u001b[38;5;241;43m=\u001b[39;49m\u001b[43msave_file\u001b[49m\u001b[43m,\u001b[49m\n\u001b[1;32m    653\u001b[0m \u001b[43m    \u001b[49m\u001b[43msave_mode\u001b[49m\u001b[38;5;241;43m=\u001b[39;49m\u001b[43msave_mode\u001b[49m\u001b[43m,\u001b[49m\n\u001b[1;32m    654\u001b[0m \u001b[43m    \u001b[49m\u001b[43msave_format\u001b[49m\u001b[38;5;241;43m=\u001b[39;49m\u001b[43msave_format\u001b[49m\u001b[43m,\u001b[49m\n\u001b[1;32m    655\u001b[0m \u001b[43m    \u001b[49m\u001b[43mpbar\u001b[49m\u001b[38;5;241;43m=\u001b[39;49m\u001b[43mpbar\u001b[49m\u001b[43m)\u001b[49m\n\u001b[1;32m    657\u001b[0m \u001b[38;5;28;01mif\u001b[39;00m baseline \u001b[38;5;129;01mis\u001b[39;00m \u001b[38;5;129;01mnot\u001b[39;00m \u001b[38;5;28;01mNone\u001b[39;00m:\n\u001b[1;32m    658\u001b[0m     evalDictsPerQ\u001b[38;5;241m.\u001b[39mappend(evalMeasuresDict)\n",
      "File \u001b[0;32m/opt/miniconda3/envs/nuggetizer/lib/python3.10/site-packages/pyterrier/pipelines.py:372\u001b[0m, in \u001b[0;36m_run_and_evaluate\u001b[0;34m(system, topics, qrels, metrics, pbar, save_mode, save_file, save_format, perquery, batch_size, backfill_qids)\u001b[0m\n\u001b[1;32m    369\u001b[0m     \u001b[38;5;28;01mif\u001b[39;00m \u001b[38;5;28mlen\u001b[39m(res) \u001b[38;5;241m==\u001b[39m \u001b[38;5;241m0\u001b[39m:\n\u001b[1;32m    370\u001b[0m         \u001b[38;5;28;01mraise\u001b[39;00m \u001b[38;5;167;01mValueError\u001b[39;00m(\u001b[38;5;124m\"\u001b[39m\u001b[38;5;132;01m%d\u001b[39;00m\u001b[38;5;124m topics, but no results received from \u001b[39m\u001b[38;5;132;01m%s\u001b[39;00m\u001b[38;5;124m\"\u001b[39m \u001b[38;5;241m%\u001b[39m (\u001b[38;5;28mlen\u001b[39m(topics), \u001b[38;5;28mstr\u001b[39m(system)) )\n\u001b[0;32m--> 372\u001b[0m     evalMeasuresDict \u001b[38;5;241m=\u001b[39m \u001b[43m_ir_measures_to_dict\u001b[49m\u001b[43m(\u001b[49m\n\u001b[1;32m    373\u001b[0m \u001b[43m        \u001b[49m\u001b[43mir_measures\u001b[49m\u001b[38;5;241;43m.\u001b[39;49m\u001b[43miter_calc\u001b[49m\u001b[43m(\u001b[49m\u001b[43mmetrics\u001b[49m\u001b[43m,\u001b[49m\u001b[43m \u001b[49m\u001b[43mqrels\u001b[49m\u001b[43m,\u001b[49m\u001b[43m \u001b[49m\u001b[43mres\u001b[49m\u001b[38;5;241;43m.\u001b[39;49m\u001b[43mrename\u001b[49m\u001b[43m(\u001b[49m\u001b[43mcolumns\u001b[49m\u001b[38;5;241;43m=\u001b[39;49m\u001b[43m_irmeasures_columns\u001b[49m\u001b[43m)\u001b[49m\u001b[43m)\u001b[49m\u001b[43m,\u001b[49m\u001b[43m \u001b[49m\n\u001b[1;32m    374\u001b[0m \u001b[43m        \u001b[49m\u001b[43mmetrics\u001b[49m\u001b[43m,\u001b[49m\n\u001b[1;32m    375\u001b[0m \u001b[43m        \u001b[49m\u001b[43mrev_mapping\u001b[49m\u001b[43m,\u001b[49m\n\u001b[1;32m    376\u001b[0m \u001b[43m        \u001b[49m\u001b[43mnum_q\u001b[49m\u001b[43m,\u001b[49m\n\u001b[1;32m    377\u001b[0m \u001b[43m        \u001b[49m\u001b[43mperquery\u001b[49m\u001b[43m,\u001b[49m\n\u001b[1;32m    378\u001b[0m \u001b[43m        \u001b[49m\u001b[43mbackfill_qids\u001b[49m\u001b[43m)\u001b[49m\n\u001b[1;32m    379\u001b[0m     pbar\u001b[38;5;241m.\u001b[39mupdate()\n\u001b[1;32m    380\u001b[0m \u001b[38;5;28;01melse\u001b[39;00m:\n",
      "File \u001b[0;32m/opt/miniconda3/envs/nuggetizer/lib/python3.10/site-packages/pyterrier/pipelines.py:140\u001b[0m, in \u001b[0;36m_ir_measures_to_dict\u001b[0;34m(seq, measures, rev_mapping, num_q, perquery, backfill_qids)\u001b[0m\n\u001b[1;32m    137\u001b[0m \u001b[38;5;28;01massert\u001b[39;00m backfill_qids \u001b[38;5;129;01mis\u001b[39;00m \u001b[38;5;28;01mNone\u001b[39;00m, \u001b[38;5;124m\"\u001b[39m\u001b[38;5;124mbackfill_qids only supported when perquery=True\u001b[39m\u001b[38;5;124m\"\u001b[39m\n\u001b[1;32m    139\u001b[0m metric_agg \u001b[38;5;241m=\u001b[39m {rev_mapping\u001b[38;5;241m.\u001b[39mget(m, \u001b[38;5;28mstr\u001b[39m(m)): m\u001b[38;5;241m.\u001b[39maggregator() \u001b[38;5;28;01mfor\u001b[39;00m m \u001b[38;5;129;01min\u001b[39;00m measures}\n\u001b[0;32m--> 140\u001b[0m \u001b[38;5;28;01mfor\u001b[39;00m metric \u001b[38;5;129;01min\u001b[39;00m seq:\n\u001b[1;32m    141\u001b[0m     measure_name \u001b[38;5;241m=\u001b[39m rev_mapping\u001b[38;5;241m.\u001b[39mget(metric\u001b[38;5;241m.\u001b[39mmeasure, \u001b[38;5;28mstr\u001b[39m(metric\u001b[38;5;241m.\u001b[39mmeasure))\n\u001b[1;32m    142\u001b[0m     metric_agg[measure_name]\u001b[38;5;241m.\u001b[39madd(metric\u001b[38;5;241m.\u001b[39mvalue)\n",
      "File \u001b[0;32m/opt/miniconda3/envs/nuggetizer/lib/python3.10/site-packages/ir_measures/providers/base.py:23\u001b[0m, in \u001b[0;36mEvaluator.iter_calc\u001b[0;34m(self, run)\u001b[0m\n\u001b[1;32m     19\u001b[0m \u001b[38;5;250m\u001b[39m\u001b[38;5;124;03m\"\"\"\u001b[39;00m\n\u001b[1;32m     20\u001b[0m \u001b[38;5;124;03mYields per-topic metrics this run.\u001b[39;00m\n\u001b[1;32m     21\u001b[0m \u001b[38;5;124;03m\"\"\"\u001b[39;00m\n\u001b[1;32m     22\u001b[0m expected_measure_qids \u001b[38;5;241m=\u001b[39m \u001b[38;5;28mset\u001b[39m(itertools\u001b[38;5;241m.\u001b[39mproduct(\u001b[38;5;28mself\u001b[39m\u001b[38;5;241m.\u001b[39mmeasures, \u001b[38;5;28mself\u001b[39m\u001b[38;5;241m.\u001b[39mqrel_qids))\n\u001b[0;32m---> 23\u001b[0m \u001b[38;5;28;01mfor\u001b[39;00m metric \u001b[38;5;129;01min\u001b[39;00m \u001b[38;5;28mself\u001b[39m\u001b[38;5;241m.\u001b[39m_iter_calc(run):\n\u001b[1;32m     24\u001b[0m     expected_measure_qids\u001b[38;5;241m.\u001b[39mdiscard((metric\u001b[38;5;241m.\u001b[39mmeasure, metric\u001b[38;5;241m.\u001b[39mquery_id))\n\u001b[1;32m     25\u001b[0m     \u001b[38;5;28;01myield\u001b[39;00m metric\n",
      "File \u001b[0;32m/opt/miniconda3/envs/nuggetizer/lib/python3.10/site-packages/ir_measures/providers/runtime_provider.py:46\u001b[0m, in \u001b[0;36mRuntimeEvaluator._iter_calc\u001b[0;34m(self, run)\u001b[0m\n\u001b[1;32m     44\u001b[0m run \u001b[38;5;241m=\u001b[39m run\u001b[38;5;241m.\u001b[39msort_values(by\u001b[38;5;241m=\u001b[39msort_columns, ascending\u001b[38;5;241m=\u001b[39msort_orders)\n\u001b[1;32m     45\u001b[0m \u001b[38;5;28;01mfor\u001b[39;00m measure \u001b[38;5;129;01min\u001b[39;00m \u001b[38;5;28mself\u001b[39m\u001b[38;5;241m.\u001b[39mmeasures:\n\u001b[0;32m---> 46\u001b[0m     \u001b[38;5;28;01myield from\u001b[39;00m measure\u001b[38;5;241m.\u001b[39mruntime_impl(\u001b[38;5;28mself\u001b[39m\u001b[38;5;241m.\u001b[39mqrels, run)\n",
      "File \u001b[0;32m/opt/miniconda3/envs/nuggetizer/lib/python3.10/site-packages/ir_measures/providers/runtime_provider.py:79\u001b[0m, in \u001b[0;36mdefine.<locals>._RuntimeMeasure.runtime_impl\u001b[0;34m(self, qrels, run)\u001b[0m\n\u001b[1;32m     77\u001b[0m     \u001b[38;5;66;03m# assumes results already sorted (as is done in RuntimeEvaluator)\u001b[39;00m\n\u001b[1;32m     78\u001b[0m     run \u001b[38;5;241m=\u001b[39m run\u001b[38;5;241m.\u001b[39mgroupby(\u001b[38;5;124m'\u001b[39m\u001b[38;5;124mquery_id\u001b[39m\u001b[38;5;124m'\u001b[39m)\u001b[38;5;241m.\u001b[39mhead(cutoff)\u001b[38;5;241m.\u001b[39mreset_index(drop\u001b[38;5;241m=\u001b[39m\u001b[38;5;28;01mTrue\u001b[39;00m)\n\u001b[0;32m---> 79\u001b[0m \u001b[38;5;28;01mfor\u001b[39;00m qid, score \u001b[38;5;129;01min\u001b[39;00m impl(qrels, run):\n\u001b[1;32m     80\u001b[0m     \u001b[38;5;28;01myield\u001b[39;00m Metric(qid, \u001b[38;5;28mself\u001b[39m, score)\n",
      "File \u001b[0;32m/opt/miniconda3/envs/nuggetizer/lib/python3.10/site-packages/ir_measures/providers/runtime_provider.py:88\u001b[0m, in \u001b[0;36m_byquery_impl.<locals>._wrapped\u001b[0;34m(qrels, run)\u001b[0m\n\u001b[1;32m     86\u001b[0m \u001b[38;5;28;01mfor\u001b[39;00m qid, run_subdf \u001b[38;5;129;01min\u001b[39;00m run\u001b[38;5;241m.\u001b[39mgroupby(\u001b[38;5;124m\"\u001b[39m\u001b[38;5;124mquery_id\u001b[39m\u001b[38;5;124m\"\u001b[39m):\n\u001b[1;32m     87\u001b[0m     qrels_subdf \u001b[38;5;241m=\u001b[39m qrels[qrels[\u001b[38;5;124m'\u001b[39m\u001b[38;5;124mquery_id\u001b[39m\u001b[38;5;124m'\u001b[39m] \u001b[38;5;241m==\u001b[39m qid]\n\u001b[0;32m---> 88\u001b[0m     res \u001b[38;5;241m=\u001b[39m \u001b[43mimpl\u001b[49m\u001b[43m(\u001b[49m\u001b[43mqrels_subdf\u001b[49m\u001b[43m,\u001b[49m\u001b[43m \u001b[49m\u001b[43mrun_subdf\u001b[49m\u001b[43m)\u001b[49m\n\u001b[1;32m     89\u001b[0m     \u001b[38;5;28;01myield\u001b[39;00m qid, res\n",
      "File \u001b[0;32m/opt/miniconda3/envs/nuggetizer/lib/python3.10/site-packages/pyterrier_rag/_measures.py:58\u001b[0m, in \u001b[0;36m<lambda>\u001b[0;34m(qrels, res)\u001b[0m\n\u001b[1;32m     52\u001b[0m AnswerZeroLen \u001b[38;5;241m=\u001b[39m ir_measures\u001b[38;5;241m.\u001b[39mdefine_byquery(\n\u001b[1;32m     53\u001b[0m     \u001b[38;5;28;01mlambda\u001b[39;00m qrels, res: \u001b[38;5;241m1\u001b[39m \u001b[38;5;28;01mif\u001b[39;00m \u001b[38;5;28mlen\u001b[39m(res\u001b[38;5;241m.\u001b[39miloc[\u001b[38;5;241m0\u001b[39m][\u001b[38;5;124m'\u001b[39m\u001b[38;5;124mqanswer\u001b[39m\u001b[38;5;124m'\u001b[39m]) \u001b[38;5;241m==\u001b[39m \u001b[38;5;241m0\u001b[39m \u001b[38;5;28;01melse\u001b[39;00m \u001b[38;5;241m0\u001b[39m,\n\u001b[1;32m     54\u001b[0m     name\u001b[38;5;241m=\u001b[39m\u001b[38;5;124m'\u001b[39m\u001b[38;5;124mAnswerZeroLen\u001b[39m\u001b[38;5;124m'\u001b[39m, support_cutoff\u001b[38;5;241m=\u001b[39m\u001b[38;5;28;01mFalse\u001b[39;00m)\n\u001b[1;32m     56\u001b[0m \u001b[38;5;66;03m# we aggregate across multiple gold_answer values using max().\u001b[39;00m\n\u001b[1;32m     57\u001b[0m F1 \u001b[38;5;241m=\u001b[39m ir_measures\u001b[38;5;241m.\u001b[39mdefine_byquery(\n\u001b[0;32m---> 58\u001b[0m     \u001b[38;5;28;01mlambda\u001b[39;00m qrels, res: \u001b[38;5;28;43mmax\u001b[39;49m\u001b[43m(\u001b[49m\u001b[43m[\u001b[49m\u001b[43mf1_score\u001b[49m\u001b[43m(\u001b[49m\u001b[43mres\u001b[49m\u001b[38;5;241;43m.\u001b[39;49m\u001b[43miloc\u001b[49m\u001b[43m[\u001b[49m\u001b[38;5;241;43m0\u001b[39;49m\u001b[43m]\u001b[49m\u001b[43m[\u001b[49m\u001b[38;5;124;43m'\u001b[39;49m\u001b[38;5;124;43mqanswer\u001b[39;49m\u001b[38;5;124;43m'\u001b[39;49m\u001b[43m]\u001b[49m\u001b[43m,\u001b[49m\u001b[43m \u001b[49m\u001b[43mgold\u001b[49m\u001b[43m)\u001b[49m\u001b[43m \u001b[49m\u001b[38;5;28;43;01mfor\u001b[39;49;00m\u001b[43m \u001b[49m\u001b[43mgold\u001b[49m\u001b[43m \u001b[49m\u001b[38;5;129;43;01min\u001b[39;49;00m\u001b[43m \u001b[49m\u001b[43mqrels\u001b[49m\u001b[43m[\u001b[49m\u001b[38;5;124;43m'\u001b[39;49m\u001b[38;5;124;43mgold_answer\u001b[39;49m\u001b[38;5;124;43m'\u001b[39;49m\u001b[43m]\u001b[49m\u001b[43m]\u001b[49m\u001b[43m)\u001b[49m, support_cutoff\u001b[38;5;241m=\u001b[39m\u001b[38;5;28;01mFalse\u001b[39;00m, name\u001b[38;5;241m=\u001b[39m\u001b[38;5;124m\"\u001b[39m\u001b[38;5;124mF1\u001b[39m\u001b[38;5;124m\"\u001b[39m)\n\u001b[1;32m     59\u001b[0m \u001b[38;5;66;03m# ems function handles the max()\u001b[39;00m\n\u001b[1;32m     60\u001b[0m EM \u001b[38;5;241m=\u001b[39m ir_measures\u001b[38;5;241m.\u001b[39mdefine_byquery(\n\u001b[1;32m     61\u001b[0m     \u001b[38;5;28;01mlambda\u001b[39;00m qrels, res: ems(res\u001b[38;5;241m.\u001b[39miloc[\u001b[38;5;241m0\u001b[39m][\u001b[38;5;124m'\u001b[39m\u001b[38;5;124mqanswer\u001b[39m\u001b[38;5;124m'\u001b[39m], qrels[\u001b[38;5;124m'\u001b[39m\u001b[38;5;124mgold_answer\u001b[39m\u001b[38;5;124m'\u001b[39m]), support_cutoff\u001b[38;5;241m=\u001b[39m\u001b[38;5;28;01mFalse\u001b[39;00m, name\u001b[38;5;241m=\u001b[39m\u001b[38;5;124m\"\u001b[39m\u001b[38;5;124mEM\u001b[39m\u001b[38;5;124m\"\u001b[39m)\n",
      "\u001b[0;31mValueError\u001b[0m: max() arg is an empty sequence"
     ]
    }
   ],
   "source": [
    "import pyterrier_rag.measures\n",
    "\n",
    "results = pt.Experiment(\n",
    "    [\n",
    "        rag_pipeline\n",
    "    ],\n",
    "    topics_df.head(2), \n",
    "    answers_df,\n",
    "    [pyterrier_rag.measures.F1, nuggetizer.VitalScore()],\n",
    "    #batch_size=25,\n",
    "    names=['baseline retriever'],\n",
    ")"
   ]
  }
 ],
 "metadata": {
  "kernelspec": {
   "display_name": "Python [conda env:nuggetizer]",
   "language": "python",
   "name": "conda-env-nuggetizer-py"
  },
  "language_info": {
   "codemirror_mode": {
    "name": "ipython",
    "version": 3
   },
   "file_extension": ".py",
   "mimetype": "text/x-python",
   "name": "python",
   "nbconvert_exporter": "python",
   "pygments_lexer": "ipython3",
   "version": "3.10.16"
  }
 },
 "nbformat": 4,
 "nbformat_minor": 5
}
