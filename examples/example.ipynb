{
 "cells": [
  {
   "cell_type": "markdown",
   "id": "7518c5c9-79ab-4daa-a7af-a5c699821c3a",
   "metadata": {},
   "source": [
    "# 📘 Nuggetizer: A lightweight nugget-based evaluation framework for pyterrier-rag"
   ]
  },
  {
   "cell_type": "markdown",
   "id": "a3c04970-bc5a-4e55-a669-fa19abcd1574",
   "metadata": {},
   "source": [
    "## 📌 Introduction\n",
    "In this notebook, we demonstrate how to evaluate a Retrieval-Augmented Generation (RAG) system\n",
    "using a semantic nugget-based evaluation framework inspired by the \"AutoNuggetizer\" used in TREC 2024.\n",
    "The goal is to assess the factual informativeness of generated answers through fine-grained nugget detection\n",
    "and scoring. This setup is general and compatible with Google Colab (T4 GPU)."
   ]
  },
  {
   "cell_type": "markdown",
   "id": "37a5defa-adae-403b-a890-751d489416ab",
   "metadata": {},
   "source": [
    "## 🎯 Motivation and Background\n",
    "- The Problem: Traditional RAG evaluations rely on lexical overlap or ROUGE scores, which miss semantic correctness.\n",
    "- The Solution: Nugget evaluation, originally proposed in TREC QA 2003, revived by AutoNuggetizer, uses semantically atomic facts (“nuggets”) to evaluate answers.\n",
    "- Inspiration: This library reimplements a simplified, local version of AutoNuggetizer with modular hooks into PyTerrier and HuggingFace models."
   ]
  },
  {
   "cell_type": "markdown",
   "id": "421df4f6-9dda-45b7-9de6-464cd3313fca",
   "metadata": {},
   "source": [
    "## ⚙️ Installation and Setup"
   ]
  },
  {
   "cell_type": "code",
   "execution_count": 1,
   "id": "d3f5d1de-738e-422b-9680-fa58dc3cc671",
   "metadata": {},
   "outputs": [
    {
     "name": "stdout",
     "output_type": "stream",
     "text": [
      "\u001b[33mWARNING: The directory '/mnt/primary/launcher-cache/pip' or its parent directory is not owned or is not writable by the current user. The cache has been disabled. Check the permissions and owner of that directory. If executing pip with sudo, you should use sudo's -H flag.\u001b[0m\u001b[33m\n",
      "\u001b[0mCollecting git+https://github.com/MattiWe/ir_datasets.git@add-msmarco-v2.1-trec-rag\n",
      "  Cloning https://github.com/MattiWe/ir_datasets.git (to revision add-msmarco-v2.1-trec-rag) to /tmp/pip-req-build-mi7hhf8g\n",
      "  Running command git clone --filter=blob:none --quiet https://github.com/MattiWe/ir_datasets.git /tmp/pip-req-build-mi7hhf8g\n",
      "  Running command git checkout -b add-msmarco-v2.1-trec-rag --track origin/add-msmarco-v2.1-trec-rag\n",
      "  Switched to a new branch 'add-msmarco-v2.1-trec-rag'\n",
      "  Branch 'add-msmarco-v2.1-trec-rag' set up to track remote branch 'add-msmarco-v2.1-trec-rag' from 'origin'.\n",
      "  Resolved https://github.com/MattiWe/ir_datasets.git to commit bd018b783e3d25942b69290f7be19eeb929022c2\n",
      "  Installing build dependencies ... \u001b[?25ldone\n",
      "\u001b[?25h  Getting requirements to build wheel ... \u001b[?25ldone\n",
      "\u001b[?25h  Preparing metadata (pyproject.toml) ... \u001b[?25ldone\n",
      "\u001b[?25hRequirement already satisfied: beautifulsoup4>=4.4.1 in /mnt/primary/conda-envs/nuggetizer/lib/python3.10/site-packages (from ir_datasets==0.5.10) (4.13.4)\n",
      "Requirement already satisfied: inscriptis>=2.2.0 in /mnt/primary/conda-envs/nuggetizer/lib/python3.10/site-packages (from ir_datasets==0.5.10) (2.6.0)\n",
      "Requirement already satisfied: lxml>=4.5.2 in /mnt/primary/conda-envs/nuggetizer/lib/python3.10/site-packages (from ir_datasets==0.5.10) (5.4.0)\n",
      "Requirement already satisfied: numpy>=1.18.1 in /mnt/primary/conda-envs/nuggetizer/lib/python3.10/site-packages (from ir_datasets==0.5.10) (1.26.4)\n",
      "Requirement already satisfied: pyyaml>=5.3.1 in /mnt/primary/conda-envs/nuggetizer/lib/python3.10/site-packages (from ir_datasets==0.5.10) (6.0.2)\n",
      "Requirement already satisfied: requests>=2.22.0 in /mnt/primary/conda-envs/nuggetizer/lib/python3.10/site-packages (from ir_datasets==0.5.10) (2.32.3)\n",
      "Requirement already satisfied: tqdm>=4.38.0 in /mnt/primary/conda-envs/nuggetizer/lib/python3.10/site-packages (from ir_datasets==0.5.10) (4.67.1)\n",
      "Requirement already satisfied: trec-car-tools>=2.5.4 in /mnt/primary/conda-envs/nuggetizer/lib/python3.10/site-packages (from ir_datasets==0.5.10) (2.6)\n",
      "Requirement already satisfied: lz4>=3.1.10 in /mnt/primary/conda-envs/nuggetizer/lib/python3.10/site-packages (from ir_datasets==0.5.10) (4.4.4)\n",
      "Requirement already satisfied: warc3-wet>=0.2.3 in /mnt/primary/conda-envs/nuggetizer/lib/python3.10/site-packages (from ir_datasets==0.5.10) (0.2.5)\n",
      "Requirement already satisfied: warc3-wet-clueweb09>=0.2.5 in /mnt/primary/conda-envs/nuggetizer/lib/python3.10/site-packages (from ir_datasets==0.5.10) (0.2.5)\n",
      "Requirement already satisfied: zlib-state>=0.1.3 in /mnt/primary/conda-envs/nuggetizer/lib/python3.10/site-packages (from ir_datasets==0.5.10) (0.1.9)\n",
      "Requirement already satisfied: ijson>=3.1.3 in /mnt/primary/conda-envs/nuggetizer/lib/python3.10/site-packages (from ir_datasets==0.5.10) (3.3.0)\n",
      "Requirement already satisfied: unlzw3>=0.2.1 in /mnt/primary/conda-envs/nuggetizer/lib/python3.10/site-packages (from ir_datasets==0.5.10) (0.2.3)\n",
      "Requirement already satisfied: pyarrow>=16.1.0 in /mnt/primary/conda-envs/nuggetizer/lib/python3.10/site-packages (from ir_datasets==0.5.10) (20.0.0)\n",
      "Requirement already satisfied: soupsieve>1.2 in /mnt/primary/conda-envs/nuggetizer/lib/python3.10/site-packages (from beautifulsoup4>=4.4.1->ir_datasets==0.5.10) (2.7)\n",
      "Requirement already satisfied: typing-extensions>=4.0.0 in /mnt/primary/conda-envs/nuggetizer/lib/python3.10/site-packages (from beautifulsoup4>=4.4.1->ir_datasets==0.5.10) (4.12.2)\n",
      "Requirement already satisfied: charset-normalizer<4,>=2 in /mnt/primary/conda-envs/nuggetizer/lib/python3.10/site-packages (from requests>=2.22.0->ir_datasets==0.5.10) (3.4.2)\n",
      "Requirement already satisfied: idna<4,>=2.5 in /mnt/primary/conda-envs/nuggetizer/lib/python3.10/site-packages (from requests>=2.22.0->ir_datasets==0.5.10) (3.10)\n",
      "Requirement already satisfied: urllib3<3,>=1.21.1 in /mnt/primary/conda-envs/nuggetizer/lib/python3.10/site-packages (from requests>=2.22.0->ir_datasets==0.5.10) (2.4.0)\n",
      "Requirement already satisfied: certifi>=2017.4.17 in /mnt/primary/conda-envs/nuggetizer/lib/python3.10/site-packages (from requests>=2.22.0->ir_datasets==0.5.10) (2025.4.26)\n",
      "Requirement already satisfied: cbor>=1.0.0 in /mnt/primary/conda-envs/nuggetizer/lib/python3.10/site-packages (from trec-car-tools>=2.5.4->ir_datasets==0.5.10) (1.0.0)\n",
      "\u001b[33mWARNING: Running pip as the 'root' user can result in broken permissions and conflicting behaviour with the system package manager, possibly rendering your system unusable. It is recommended to use a virtual environment instead: https://pip.pypa.io/warnings/venv. Use the --root-user-action option if you know what you are doing and want to suppress this warning.\u001b[0m\u001b[33m\n",
      "\u001b[0m"
     ]
    }
   ],
   "source": [
    "!pip install git+https://github.com/MattiWe/ir_datasets.git@add-msmarco-v2.1-trec-rag"
   ]
  },
  {
   "cell_type": "code",
   "execution_count": 2,
   "id": "56b2ebd4-f984-4ec3-aabb-6e5adca3a20f",
   "metadata": {},
   "outputs": [
    {
     "name": "stdout",
     "output_type": "stream",
     "text": [
      "\u001b[33mWARNING: The directory '/mnt/primary/launcher-cache/pip' or its parent directory is not owned or is not writable by the current user. The cache has been disabled. Check the permissions and owner of that directory. If executing pip with sudo, you should use sudo's -H flag.\u001b[0m\u001b[33m\n",
      "\u001b[0mCollecting git+https://github.com/terrier-org/pyterrier\n",
      "  Cloning https://github.com/terrier-org/pyterrier to /tmp/pip-req-build-iltyqsds\n",
      "  Running command git clone --filter=blob:none --quiet https://github.com/terrier-org/pyterrier /tmp/pip-req-build-iltyqsds\n",
      "  Resolved https://github.com/terrier-org/pyterrier to commit b5a7910386a0e860283d08c4f971b93de603bf15\n",
      "  Installing build dependencies ... \u001b[?25ldone\n",
      "\u001b[?25h  Getting requirements to build wheel ... \u001b[?25ldone\n",
      "\u001b[?25h  Preparing metadata (pyproject.toml) ... \u001b[?25ldone\n",
      "\u001b[?25hRequirement already satisfied: numpy in /mnt/primary/conda-envs/nuggetizer/lib/python3.10/site-packages (from python-terrier==0.13.0) (1.26.4)\n",
      "Requirement already satisfied: pandas in /mnt/primary/conda-envs/nuggetizer/lib/python3.10/site-packages (from python-terrier==0.13.0) (2.2.3)\n",
      "Requirement already satisfied: more_itertools in /mnt/primary/conda-envs/nuggetizer/lib/python3.10/site-packages (from python-terrier==0.13.0) (10.7.0)\n",
      "Requirement already satisfied: tqdm in /mnt/primary/conda-envs/nuggetizer/lib/python3.10/site-packages (from python-terrier==0.13.0) (4.67.1)\n",
      "Requirement already satisfied: requests in /mnt/primary/conda-envs/nuggetizer/lib/python3.10/site-packages (from python-terrier==0.13.0) (2.32.3)\n",
      "Requirement already satisfied: ir_datasets>=0.3.2 in /mnt/primary/conda-envs/nuggetizer/lib/python3.10/site-packages (from python-terrier==0.13.0) (0.5.10)\n",
      "Requirement already satisfied: pyjnius>=1.4.2 in /mnt/primary/conda-envs/nuggetizer/lib/python3.10/site-packages (from python-terrier==0.13.0) (1.6.1)\n",
      "Requirement already satisfied: deprecated in /mnt/primary/conda-envs/nuggetizer/lib/python3.10/site-packages (from python-terrier==0.13.0) (1.2.18)\n",
      "Requirement already satisfied: scipy in /mnt/primary/conda-envs/nuggetizer/lib/python3.10/site-packages (from python-terrier==0.13.0) (1.15.2)\n",
      "Requirement already satisfied: ir_measures>=0.3.1 in /mnt/primary/conda-envs/nuggetizer/lib/python3.10/site-packages (from python-terrier==0.13.0) (0.3.7)\n",
      "Requirement already satisfied: pytrec_eval_terrier>=0.5.3 in /mnt/primary/conda-envs/nuggetizer/lib/python3.10/site-packages (from python-terrier==0.13.0) (0.5.7)\n",
      "Requirement already satisfied: jinja2 in /mnt/primary/conda-envs/nuggetizer/lib/python3.10/site-packages (from python-terrier==0.13.0) (3.1.6)\n",
      "Requirement already satisfied: statsmodels in /mnt/primary/conda-envs/nuggetizer/lib/python3.10/site-packages (from python-terrier==0.13.0) (0.14.4)\n",
      "Requirement already satisfied: dill in /mnt/primary/conda-envs/nuggetizer/lib/python3.10/site-packages (from python-terrier==0.13.0) (0.3.8)\n",
      "Requirement already satisfied: joblib in /mnt/primary/conda-envs/nuggetizer/lib/python3.10/site-packages (from python-terrier==0.13.0) (1.5.0)\n",
      "Requirement already satisfied: chest in /mnt/primary/conda-envs/nuggetizer/lib/python3.10/site-packages (from python-terrier==0.13.0) (0.2.3)\n",
      "Requirement already satisfied: lz4 in /mnt/primary/conda-envs/nuggetizer/lib/python3.10/site-packages (from python-terrier==0.13.0) (4.4.4)\n",
      "Requirement already satisfied: beautifulsoup4>=4.4.1 in /mnt/primary/conda-envs/nuggetizer/lib/python3.10/site-packages (from ir_datasets>=0.3.2->python-terrier==0.13.0) (4.13.4)\n",
      "Requirement already satisfied: inscriptis>=2.2.0 in /mnt/primary/conda-envs/nuggetizer/lib/python3.10/site-packages (from ir_datasets>=0.3.2->python-terrier==0.13.0) (2.6.0)\n",
      "Requirement already satisfied: lxml>=4.5.2 in /mnt/primary/conda-envs/nuggetizer/lib/python3.10/site-packages (from ir_datasets>=0.3.2->python-terrier==0.13.0) (5.4.0)\n",
      "Requirement already satisfied: pyyaml>=5.3.1 in /mnt/primary/conda-envs/nuggetizer/lib/python3.10/site-packages (from ir_datasets>=0.3.2->python-terrier==0.13.0) (6.0.2)\n",
      "Requirement already satisfied: trec-car-tools>=2.5.4 in /mnt/primary/conda-envs/nuggetizer/lib/python3.10/site-packages (from ir_datasets>=0.3.2->python-terrier==0.13.0) (2.6)\n",
      "Requirement already satisfied: warc3-wet>=0.2.3 in /mnt/primary/conda-envs/nuggetizer/lib/python3.10/site-packages (from ir_datasets>=0.3.2->python-terrier==0.13.0) (0.2.5)\n",
      "Requirement already satisfied: warc3-wet-clueweb09>=0.2.5 in /mnt/primary/conda-envs/nuggetizer/lib/python3.10/site-packages (from ir_datasets>=0.3.2->python-terrier==0.13.0) (0.2.5)\n",
      "Requirement already satisfied: zlib-state>=0.1.3 in /mnt/primary/conda-envs/nuggetizer/lib/python3.10/site-packages (from ir_datasets>=0.3.2->python-terrier==0.13.0) (0.1.9)\n",
      "Requirement already satisfied: ijson>=3.1.3 in /mnt/primary/conda-envs/nuggetizer/lib/python3.10/site-packages (from ir_datasets>=0.3.2->python-terrier==0.13.0) (3.3.0)\n",
      "Requirement already satisfied: unlzw3>=0.2.1 in /mnt/primary/conda-envs/nuggetizer/lib/python3.10/site-packages (from ir_datasets>=0.3.2->python-terrier==0.13.0) (0.2.3)\n",
      "Requirement already satisfied: pyarrow>=16.1.0 in /mnt/primary/conda-envs/nuggetizer/lib/python3.10/site-packages (from ir_datasets>=0.3.2->python-terrier==0.13.0) (20.0.0)\n",
      "Requirement already satisfied: soupsieve>1.2 in /mnt/primary/conda-envs/nuggetizer/lib/python3.10/site-packages (from beautifulsoup4>=4.4.1->ir_datasets>=0.3.2->python-terrier==0.13.0) (2.7)\n",
      "Requirement already satisfied: typing-extensions>=4.0.0 in /mnt/primary/conda-envs/nuggetizer/lib/python3.10/site-packages (from beautifulsoup4>=4.4.1->ir_datasets>=0.3.2->python-terrier==0.13.0) (4.12.2)\n",
      "Requirement already satisfied: charset-normalizer<4,>=2 in /mnt/primary/conda-envs/nuggetizer/lib/python3.10/site-packages (from requests->python-terrier==0.13.0) (3.4.2)\n",
      "Requirement already satisfied: idna<4,>=2.5 in /mnt/primary/conda-envs/nuggetizer/lib/python3.10/site-packages (from requests->python-terrier==0.13.0) (3.10)\n",
      "Requirement already satisfied: urllib3<3,>=1.21.1 in /mnt/primary/conda-envs/nuggetizer/lib/python3.10/site-packages (from requests->python-terrier==0.13.0) (2.4.0)\n",
      "Requirement already satisfied: certifi>=2017.4.17 in /mnt/primary/conda-envs/nuggetizer/lib/python3.10/site-packages (from requests->python-terrier==0.13.0) (2025.4.26)\n",
      "Requirement already satisfied: cbor>=1.0.0 in /mnt/primary/conda-envs/nuggetizer/lib/python3.10/site-packages (from trec-car-tools>=2.5.4->ir_datasets>=0.3.2->python-terrier==0.13.0) (1.0.0)\n",
      "Requirement already satisfied: heapdict in /mnt/primary/conda-envs/nuggetizer/lib/python3.10/site-packages (from chest->python-terrier==0.13.0) (1.0.1)\n",
      "Requirement already satisfied: wrapt<2,>=1.10 in /mnt/primary/conda-envs/nuggetizer/lib/python3.10/site-packages (from deprecated->python-terrier==0.13.0) (1.17.2)\n",
      "Requirement already satisfied: MarkupSafe>=2.0 in /mnt/primary/conda-envs/nuggetizer/lib/python3.10/site-packages (from jinja2->python-terrier==0.13.0) (3.0.2)\n",
      "Requirement already satisfied: python-dateutil>=2.8.2 in /mnt/primary/conda-envs/nuggetizer/lib/python3.10/site-packages (from pandas->python-terrier==0.13.0) (2.9.0.post0)\n",
      "Requirement already satisfied: pytz>=2020.1 in /mnt/primary/conda-envs/nuggetizer/lib/python3.10/site-packages (from pandas->python-terrier==0.13.0) (2025.2)\n",
      "Requirement already satisfied: tzdata>=2022.7 in /mnt/primary/conda-envs/nuggetizer/lib/python3.10/site-packages (from pandas->python-terrier==0.13.0) (2025.2)\n",
      "Requirement already satisfied: six>=1.5 in /mnt/primary/conda-envs/nuggetizer/lib/python3.10/site-packages (from python-dateutil>=2.8.2->pandas->python-terrier==0.13.0) (1.17.0)\n",
      "Requirement already satisfied: patsy>=0.5.6 in /mnt/primary/conda-envs/nuggetizer/lib/python3.10/site-packages (from statsmodels->python-terrier==0.13.0) (1.0.1)\n",
      "Requirement already satisfied: packaging>=21.3 in /mnt/primary/conda-envs/nuggetizer/lib/python3.10/site-packages (from statsmodels->python-terrier==0.13.0) (24.2)\n",
      "\u001b[33mWARNING: Running pip as the 'root' user can result in broken permissions and conflicting behaviour with the system package manager, possibly rendering your system unusable. It is recommended to use a virtual environment instead: https://pip.pypa.io/warnings/venv. Use the --root-user-action option if you know what you are doing and want to suppress this warning.\u001b[0m\u001b[33m\n",
      "\u001b[0m"
     ]
    }
   ],
   "source": [
    "!pip install git+https://github.com/terrier-org/pyterrier"
   ]
  },
  {
   "cell_type": "code",
   "execution_count": 3,
   "id": "bcda75f3-f54f-46c1-8635-6888b41002fa",
   "metadata": {},
   "outputs": [
    {
     "name": "stdout",
     "output_type": "stream",
     "text": [
      "\u001b[33mWARNING: The directory '/mnt/primary/launcher-cache/pip' or its parent directory is not owned or is not writable by the current user. The cache has been disabled. Check the permissions and owner of that directory. If executing pip with sudo, you should use sudo's -H flag.\u001b[0m\u001b[33m\n",
      "\u001b[0m\u001b[33mWARNING: Running pip as the 'root' user can result in broken permissions and conflicting behaviour with the system package manager, possibly rendering your system unusable. It is recommended to use a virtual environment instead: https://pip.pypa.io/warnings/venv. Use the --root-user-action option if you know what you are doing and want to suppress this warning.\u001b[0m\u001b[33m\n",
      "\u001b[0m"
     ]
    }
   ],
   "source": [
    "!pip install -q pyterrier_t5 pyterrier_pisa"
   ]
  },
  {
   "cell_type": "code",
   "execution_count": 4,
   "id": "abe1c6a1-8a49-436f-80b6-39b1634c9ab5",
   "metadata": {},
   "outputs": [
    {
     "name": "stdout",
     "output_type": "stream",
     "text": [
      "\u001b[33mWARNING: The directory '/mnt/primary/launcher-cache/pip' or its parent directory is not owned or is not writable by the current user. The cache has been disabled. Check the permissions and owner of that directory. If executing pip with sudo, you should use sudo's -H flag.\u001b[0m\u001b[33m\n",
      "\u001b[0m\u001b[33mWARNING: Running pip as the 'root' user can result in broken permissions and conflicting behaviour with the system package manager, possibly rendering your system unusable. It is recommended to use a virtual environment instead: https://pip.pypa.io/warnings/venv. Use the --root-user-action option if you know what you are doing and want to suppress this warning.\u001b[0m\u001b[33m\n",
      "\u001b[0m"
     ]
    }
   ],
   "source": [
    "!pip install -q git+https://github.com/terrierteam/pyterrier_rag.git"
   ]
  },
  {
   "cell_type": "code",
   "execution_count": 5,
   "id": "7275f3bc-b007-4ae6-a04b-a906c83be541",
   "metadata": {},
   "outputs": [
    {
     "name": "stdout",
     "output_type": "stream",
     "text": [
      "\u001b[33mWARNING: The directory '/mnt/primary/launcher-cache/pip' or its parent directory is not owned or is not writable by the current user. The cache has been disabled. Check the permissions and owner of that directory. If executing pip with sudo, you should use sudo's -H flag.\u001b[0m\u001b[33m\n",
      "\u001b[0m\u001b[33mWARNING: Running pip as the 'root' user can result in broken permissions and conflicting behaviour with the system package manager, possibly rendering your system unusable. It is recommended to use a virtual environment instead: https://pip.pypa.io/warnings/venv. Use the --root-user-action option if you know what you are doing and want to suppress this warning.\u001b[0m\u001b[33m\n",
      "\u001b[0m"
     ]
    }
   ],
   "source": [
    "!pip install -q --no-deps ../."
   ]
  },
  {
   "cell_type": "code",
   "execution_count": 6,
   "id": "fe713d5c-c5f6-4f84-8429-740f2cab3948",
   "metadata": {},
   "outputs": [
    {
     "name": "stderr",
     "output_type": "stream",
     "text": [
      "/opt/miniconda3/envs/nuggetizer/lib/python3.10/site-packages/tqdm/auto.py:21: TqdmWarning: IProgress not found. Please update jupyter and ipywidgets. See https://ipywidgets.readthedocs.io/en/stable/user_install.html\n",
      "  from .autonotebook import tqdm as notebook_tqdm\n"
     ]
    }
   ],
   "source": [
    "import pyterrier as pt\n",
    "from pyterrier_rag.backend import Backend"
   ]
  },
  {
   "cell_type": "markdown",
   "id": "11648e98-66ab-487f-998e-fab8d232c8ba",
   "metadata": {},
   "source": [
    "# Dataset"
   ]
  },
  {
   "cell_type": "code",
   "execution_count": 7,
   "id": "74c43bcb-63d3-40af-98d5-0918f370ae88",
   "metadata": {},
   "outputs": [],
   "source": [
    "import ir_datasets\n",
    "dataset = ir_datasets.load('msmarco-segment-v2.1')"
   ]
  },
  {
   "cell_type": "code",
   "execution_count": 8,
   "id": "94859fe6-63f4-495a-b51c-18058d795fb7",
   "metadata": {},
   "outputs": [],
   "source": [
    "pt_dataset = pt.get_dataset(\"irds:msmarco-segment-v2.1\")"
   ]
  },
  {
   "cell_type": "markdown",
   "id": "938bc72d-8861-4f58-a2b6-6b0a4f2c4cc4",
   "metadata": {},
   "source": [
    "# Pipelines"
   ]
  },
  {
   "cell_type": "code",
   "execution_count": 9,
   "id": "eb5944f7-91b8-468d-bd92-b66a0305e44a",
   "metadata": {},
   "outputs": [],
   "source": [
    "def rename_segment(run):\n",
    "    run = run.rename(columns={\"segment\": \"text\"})\n",
    "    return run\n",
    "rename_pipe = pt.apply.generic(rename_segment)"
   ]
  },
  {
   "cell_type": "code",
   "execution_count": 10,
   "id": "da2c9fa9-963a-4370-9c9f-1c805bed29e9",
   "metadata": {},
   "outputs": [
    {
     "name": "stderr",
     "output_type": "stream",
     "text": [
      "You are using the default legacy behaviour of the <class 'transformers.models.t5.tokenization_t5.T5Tokenizer'>. This is expected, and simply means that the `legacy` (previous) behavior will be used so nothing changes for you. If you want to use the new behaviour, set `legacy=False`. This should only be set if you understand what it means, and thoroughly read the reason why this was added as explained in https://github.com/huggingface/transformers/pull/24565\n"
     ]
    }
   ],
   "source": [
    "import pyterrier_alpha as pta\n",
    "from pyterrier_pisa import PisaIndex\n",
    "from pyterrier_t5 import MonoT5ReRanker\n",
    "\n",
    "index = pta.Artifact.from_hf('namawho/msmarco-segment-v2.1.pisa')\n",
    "bm25_ret = index.bm25() >> pt.text.get_text(pt_dataset, \"segment\") >> rename_pipe\n",
    "\n",
    "monoT5 = MonoT5ReRanker(batch_size=64, verbose=False)\n",
    "monoT5_ret = bm25_ret % 10 >> monoT5"
   ]
  },
  {
   "cell_type": "markdown",
   "id": "62bf39de-7eb2-4c4d-95d7-567d2223aaa9",
   "metadata": {},
   "source": [
    "# Building a baseline retrieval run to generate baseline nuggets"
   ]
  },
  {
   "cell_type": "code",
   "execution_count": 11,
   "id": "a8f7a963-1f70-4b5f-85c3-820f8089e370",
   "metadata": {},
   "outputs": [],
   "source": [
    "from datasets import load_dataset\n",
    "dataset = load_dataset(\"namawho/trec-raggy-dev\")[\"validation\"].to_pandas()\n",
    "topics_df  = dataset[[\"qid\", \"query\"]]\n",
    "answers_df = dataset[[\"qid\", \"query\", \"gold_answer\"]]"
   ]
  },
  {
   "cell_type": "code",
   "execution_count": 12,
   "id": "a1b1e4a1-24d9-42bb-9a26-ffae53ca5fac",
   "metadata": {},
   "outputs": [
    {
     "name": "stderr",
     "output_type": "stream",
     "text": [
      "Passing a tuple of `past_key_values` is deprecated and will be removed in Transformers v4.48.0. You should pass an instance of `EncoderDecoderCache` instead, e.g. `past_key_values=EncoderDecoderCache.from_legacy_cache(past_key_values)`.\n"
     ]
    },
    {
     "data": {
      "text/html": [
       "<div>\n",
       "<style scoped>\n",
       "    .dataframe tbody tr th:only-of-type {\n",
       "        vertical-align: middle;\n",
       "    }\n",
       "\n",
       "    .dataframe tbody tr th {\n",
       "        vertical-align: top;\n",
       "    }\n",
       "\n",
       "    .dataframe thead th {\n",
       "        text-align: right;\n",
       "    }\n",
       "</style>\n",
       "<table border=\"1\" class=\"dataframe\">\n",
       "  <thead>\n",
       "    <tr style=\"text-align: right;\">\n",
       "      <th></th>\n",
       "      <th>qid</th>\n",
       "      <th>query</th>\n",
       "      <th>docno</th>\n",
       "      <th>text</th>\n",
       "      <th>score</th>\n",
       "      <th>rank</th>\n",
       "    </tr>\n",
       "  </thead>\n",
       "  <tbody>\n",
       "    <tr>\n",
       "      <th>0</th>\n",
       "      <td>23287</td>\n",
       "      <td>are landlords liable if someone breaks in a hu...</td>\n",
       "      <td>msmarco_v2.1_doc_02_759557285#0_1325339642</td>\n",
       "      <td>Is a landlord liable if a tenant or visitor is...</td>\n",
       "      <td>-0.002110</td>\n",
       "      <td>0</td>\n",
       "    </tr>\n",
       "    <tr>\n",
       "      <th>1</th>\n",
       "      <td>23287</td>\n",
       "      <td>are landlords liable if someone breaks in a hu...</td>\n",
       "      <td>msmarco_v2.1_doc_48_841527758#3_1529122925</td>\n",
       "      <td>1996), reh'g denied (1996).) If a landlord is ...</td>\n",
       "      <td>-0.035341</td>\n",
       "      <td>6</td>\n",
       "    </tr>\n",
       "    <tr>\n",
       "      <th>2</th>\n",
       "      <td>23287</td>\n",
       "      <td>are landlords liable if someone breaks in a hu...</td>\n",
       "      <td>msmarco_v2.1_doc_02_759557285#1_1325342568</td>\n",
       "      <td>To do this, the injured person must show that:...</td>\n",
       "      <td>-0.003268</td>\n",
       "      <td>1</td>\n",
       "    </tr>\n",
       "    <tr>\n",
       "      <th>3</th>\n",
       "      <td>23287</td>\n",
       "      <td>are landlords liable if someone breaks in a hu...</td>\n",
       "      <td>msmarco_v2.1_doc_48_841527758#12_1529136555</td>\n",
       "      <td>But if the tenant has a month-to-month rental ...</td>\n",
       "      <td>-0.027581</td>\n",
       "      <td>5</td>\n",
       "    </tr>\n",
       "    <tr>\n",
       "      <th>4</th>\n",
       "      <td>23287</td>\n",
       "      <td>are landlords liable if someone breaks in a hu...</td>\n",
       "      <td>msmarco_v2.1_doc_48_841527758#11_1529134815</td>\n",
       "      <td>most courts hold landlords liable for knowing ...</td>\n",
       "      <td>-0.065491</td>\n",
       "      <td>8</td>\n",
       "    </tr>\n",
       "    <tr>\n",
       "      <th>...</th>\n",
       "      <td>...</td>\n",
       "      <td>...</td>\n",
       "      <td>...</td>\n",
       "      <td>...</td>\n",
       "      <td>...</td>\n",
       "      <td>...</td>\n",
       "    </tr>\n",
       "    <tr>\n",
       "      <th>95</th>\n",
       "      <td>395948</td>\n",
       "      <td>information about who howard gardner and what ...</td>\n",
       "      <td>msmarco_v2.1_doc_43_701261032#3_1477785431</td>\n",
       "      <td>Multiple Intelligences Test\\nBased on the work...</td>\n",
       "      <td>-4.660838</td>\n",
       "      <td>8</td>\n",
       "    </tr>\n",
       "    <tr>\n",
       "      <th>96</th>\n",
       "      <td>395948</td>\n",
       "      <td>information about who howard gardner and what ...</td>\n",
       "      <td>msmarco_v2.1_doc_45_911384240#2_1740648328</td>\n",
       "      <td>He is the director of Harvard Project Zero , A...</td>\n",
       "      <td>-0.016688</td>\n",
       "      <td>2</td>\n",
       "    </tr>\n",
       "    <tr>\n",
       "      <th>97</th>\n",
       "      <td>395948</td>\n",
       "      <td>information about who howard gardner and what ...</td>\n",
       "      <td>msmarco_v2.1_doc_01_1630976798#1_2378503407</td>\n",
       "      <td>and some of the issues around its conceptualiz...</td>\n",
       "      <td>-0.748225</td>\n",
       "      <td>6</td>\n",
       "    </tr>\n",
       "    <tr>\n",
       "      <th>98</th>\n",
       "      <td>395948</td>\n",
       "      <td>information about who howard gardner and what ...</td>\n",
       "      <td>msmarco_v2.1_doc_44_376498252#0_936606965</td>\n",
       "      <td>Multiple Intelligences (Howard Gardner) - Inst...</td>\n",
       "      <td>-5.776030</td>\n",
       "      <td>9</td>\n",
       "    </tr>\n",
       "    <tr>\n",
       "      <th>99</th>\n",
       "      <td>395948</td>\n",
       "      <td>information about who howard gardner and what ...</td>\n",
       "      <td>msmarco_v2.1_doc_26_1758869456#6_3043248021</td>\n",
       "      <td>nine\\nThose who define intelligence as academi...</td>\n",
       "      <td>-4.245889</td>\n",
       "      <td>7</td>\n",
       "    </tr>\n",
       "  </tbody>\n",
       "</table>\n",
       "<p>100 rows × 6 columns</p>\n",
       "</div>"
      ],
      "text/plain": [
       "       qid                                              query  \\\n",
       "0    23287  are landlords liable if someone breaks in a hu...   \n",
       "1    23287  are landlords liable if someone breaks in a hu...   \n",
       "2    23287  are landlords liable if someone breaks in a hu...   \n",
       "3    23287  are landlords liable if someone breaks in a hu...   \n",
       "4    23287  are landlords liable if someone breaks in a hu...   \n",
       "..     ...                                                ...   \n",
       "95  395948  information about who howard gardner and what ...   \n",
       "96  395948  information about who howard gardner and what ...   \n",
       "97  395948  information about who howard gardner and what ...   \n",
       "98  395948  information about who howard gardner and what ...   \n",
       "99  395948  information about who howard gardner and what ...   \n",
       "\n",
       "                                          docno  \\\n",
       "0    msmarco_v2.1_doc_02_759557285#0_1325339642   \n",
       "1    msmarco_v2.1_doc_48_841527758#3_1529122925   \n",
       "2    msmarco_v2.1_doc_02_759557285#1_1325342568   \n",
       "3   msmarco_v2.1_doc_48_841527758#12_1529136555   \n",
       "4   msmarco_v2.1_doc_48_841527758#11_1529134815   \n",
       "..                                          ...   \n",
       "95   msmarco_v2.1_doc_43_701261032#3_1477785431   \n",
       "96   msmarco_v2.1_doc_45_911384240#2_1740648328   \n",
       "97  msmarco_v2.1_doc_01_1630976798#1_2378503407   \n",
       "98    msmarco_v2.1_doc_44_376498252#0_936606965   \n",
       "99  msmarco_v2.1_doc_26_1758869456#6_3043248021   \n",
       "\n",
       "                                                 text     score  rank  \n",
       "0   Is a landlord liable if a tenant or visitor is... -0.002110     0  \n",
       "1   1996), reh'g denied (1996).) If a landlord is ... -0.035341     6  \n",
       "2   To do this, the injured person must show that:... -0.003268     1  \n",
       "3   But if the tenant has a month-to-month rental ... -0.027581     5  \n",
       "4   most courts hold landlords liable for knowing ... -0.065491     8  \n",
       "..                                                ...       ...   ...  \n",
       "95  Multiple Intelligences Test\\nBased on the work... -4.660838     8  \n",
       "96  He is the director of Harvard Project Zero , A... -0.016688     2  \n",
       "97  and some of the issues around its conceptualiz... -0.748225     6  \n",
       "98  Multiple Intelligences (Howard Gardner) - Inst... -5.776030     9  \n",
       "99  nine\\nThose who define intelligence as academi... -4.245889     7  \n",
       "\n",
       "[100 rows x 6 columns]"
      ]
     },
     "execution_count": 12,
     "metadata": {},
     "output_type": "execute_result"
    }
   ],
   "source": [
    "baseline = (monoT5_ret)(topics_df.head(10))\n",
    "baseline"
   ]
  },
  {
   "cell_type": "markdown",
   "id": "010b0d35-68e3-4918-97a9-440209c0d7b3",
   "metadata": {},
   "source": [
    "# Nuggetizer setup"
   ]
  },
  {
   "cell_type": "code",
   "execution_count": 13,
   "id": "d428aa08-c6ce-4f9f-962d-e69791e08f5b",
   "metadata": {},
   "outputs": [
    {
     "name": "stderr",
     "output_type": "stream",
     "text": [
      "--- Logging error ---\n",
      "Traceback (most recent call last):\n",
      "  File \"/opt/miniconda3/envs/nuggetizer/lib/python3.10/logging/__init__.py\", line 1100, in emit\n",
      "    msg = self.format(record)\n",
      "  File \"/opt/miniconda3/envs/nuggetizer/lib/python3.10/logging/__init__.py\", line 943, in format\n",
      "    return fmt.format(record)\n",
      "  File \"/opt/miniconda3/envs/nuggetizer/lib/python3.10/logging/__init__.py\", line 678, in format\n",
      "    record.message = record.getMessage()\n",
      "  File \"/opt/miniconda3/envs/nuggetizer/lib/python3.10/logging/__init__.py\", line 368, in getMessage\n",
      "    msg = msg % self.args\n",
      "TypeError: not all arguments converted during string formatting\n",
      "Call stack:\n",
      "  File \"/opt/miniconda3/envs/nuggetizer/lib/python3.10/runpy.py\", line 196, in _run_module_as_main\n",
      "    return _run_code(code, main_globals, None,\n",
      "  File \"/opt/miniconda3/envs/nuggetizer/lib/python3.10/runpy.py\", line 86, in _run_code\n",
      "    exec(code, run_globals)\n",
      "  File \"/opt/miniconda3/envs/nuggetizer/lib/python3.10/site-packages/ipykernel_launcher.py\", line 18, in <module>\n",
      "    app.launch_new_instance()\n",
      "  File \"/opt/miniconda3/envs/nuggetizer/lib/python3.10/site-packages/traitlets/config/application.py\", line 1075, in launch_instance\n",
      "    app.start()\n",
      "  File \"/opt/miniconda3/envs/nuggetizer/lib/python3.10/site-packages/ipykernel/kernelapp.py\", line 739, in start\n",
      "    self.io_loop.start()\n",
      "  File \"/opt/miniconda3/envs/nuggetizer/lib/python3.10/site-packages/tornado/platform/asyncio.py\", line 205, in start\n",
      "    self.asyncio_loop.run_forever()\n",
      "  File \"/opt/miniconda3/envs/nuggetizer/lib/python3.10/asyncio/base_events.py\", line 603, in run_forever\n",
      "    self._run_once()\n",
      "  File \"/opt/miniconda3/envs/nuggetizer/lib/python3.10/asyncio/base_events.py\", line 1909, in _run_once\n",
      "    handle._run()\n",
      "  File \"/opt/miniconda3/envs/nuggetizer/lib/python3.10/asyncio/events.py\", line 80, in _run\n",
      "    self._context.run(self._callback, *self._args)\n",
      "  File \"/opt/miniconda3/envs/nuggetizer/lib/python3.10/site-packages/ipykernel/kernelbase.py\", line 545, in dispatch_queue\n",
      "    await self.process_one()\n",
      "  File \"/opt/miniconda3/envs/nuggetizer/lib/python3.10/site-packages/ipykernel/kernelbase.py\", line 534, in process_one\n",
      "    await dispatch(*args)\n",
      "  File \"/opt/miniconda3/envs/nuggetizer/lib/python3.10/site-packages/ipykernel/kernelbase.py\", line 437, in dispatch_shell\n",
      "    await result\n",
      "  File \"/opt/miniconda3/envs/nuggetizer/lib/python3.10/site-packages/ipykernel/ipkernel.py\", line 362, in execute_request\n",
      "    await super().execute_request(stream, ident, parent)\n",
      "  File \"/opt/miniconda3/envs/nuggetizer/lib/python3.10/site-packages/ipykernel/kernelbase.py\", line 778, in execute_request\n",
      "    reply_content = await reply_content\n",
      "  File \"/opt/miniconda3/envs/nuggetizer/lib/python3.10/site-packages/ipykernel/ipkernel.py\", line 449, in do_execute\n",
      "    res = shell.run_cell(\n",
      "  File \"/opt/miniconda3/envs/nuggetizer/lib/python3.10/site-packages/ipykernel/zmqshell.py\", line 549, in run_cell\n",
      "    return super().run_cell(*args, **kwargs)\n",
      "  File \"/opt/miniconda3/envs/nuggetizer/lib/python3.10/site-packages/IPython/core/interactiveshell.py\", line 3075, in run_cell\n",
      "    result = self._run_cell(\n",
      "  File \"/opt/miniconda3/envs/nuggetizer/lib/python3.10/site-packages/IPython/core/interactiveshell.py\", line 3130, in _run_cell\n",
      "    result = runner(coro)\n",
      "  File \"/opt/miniconda3/envs/nuggetizer/lib/python3.10/site-packages/IPython/core/async_helpers.py\", line 128, in _pseudo_sync_runner\n",
      "    coro.send(None)\n",
      "  File \"/opt/miniconda3/envs/nuggetizer/lib/python3.10/site-packages/IPython/core/interactiveshell.py\", line 3334, in run_cell_async\n",
      "    has_raised = await self.run_ast_nodes(code_ast.body, cell_name,\n",
      "  File \"/opt/miniconda3/envs/nuggetizer/lib/python3.10/site-packages/IPython/core/interactiveshell.py\", line 3517, in run_ast_nodes\n",
      "    if await self.run_code(code, result, async_=asy):\n",
      "  File \"/opt/miniconda3/envs/nuggetizer/lib/python3.10/site-packages/IPython/core/interactiveshell.py\", line 3577, in run_code\n",
      "    exec(code_obj, self.user_global_ns, self.user_ns)\n",
      "  File \"/tmp/ipykernel_7021/419458502.py\", line 3, in <module>\n",
      "    backend =  HuggingFaceBackend(\"hugging-quants/gemma-2-9b-it-AWQ-INT4\",\n",
      "  File \"/opt/miniconda3/envs/nuggetizer/lib/python3.10/site-packages/pyterrier_rag/backend/_hf.py\", line 60, in __init__\n",
      "    else self._model_class.from_pretrained(model_name_or_path, **model_args).to(self.device).eval()\n",
      "  File \"/opt/miniconda3/envs/nuggetizer/lib/python3.10/site-packages/transformers/models/auto/auto_factory.py\", line 564, in from_pretrained\n",
      "    return model_class.from_pretrained(\n",
      "  File \"/opt/miniconda3/envs/nuggetizer/lib/python3.10/site-packages/transformers/modeling_utils.py\", line 4130, in from_pretrained\n",
      "    model = cls(config, *model_args, **model_kwargs)\n",
      "  File \"/opt/miniconda3/envs/nuggetizer/lib/python3.10/site-packages/transformers/models/gemma2/modeling_gemma2.py\", line 891, in __init__\n",
      "    super().__init__(config)\n",
      "  File \"/opt/miniconda3/envs/nuggetizer/lib/python3.10/site-packages/transformers/modeling_utils.py\", line 1393, in __init__\n",
      "    self.generation_config = GenerationConfig.from_model_config(config) if self.can_generate() else None\n",
      "  File \"/opt/miniconda3/envs/nuggetizer/lib/python3.10/site-packages/transformers/generation/configuration_utils.py\", line 1281, in from_model_config\n",
      "    generation_config = cls.from_dict(config_dict, return_unused_kwargs=False, _from_model_config=True)\n",
      "  File \"/opt/miniconda3/envs/nuggetizer/lib/python3.10/site-packages/transformers/generation/configuration_utils.py\", line 1137, in from_dict\n",
      "    config = cls(**{**config_dict, **kwargs})\n",
      "  File \"/opt/miniconda3/envs/nuggetizer/lib/python3.10/site-packages/transformers/generation/configuration_utils.py\", line 509, in __init__\n",
      "    self.validate(is_init=True)\n",
      "  File \"/opt/miniconda3/envs/nuggetizer/lib/python3.10/site-packages/transformers/generation/configuration_utils.py\", line 789, in validate\n",
      "    logger.warning_once(\n",
      "  File \"/opt/miniconda3/envs/nuggetizer/lib/python3.10/site-packages/transformers/utils/logging.py\", line 328, in warning_once\n",
      "    self.warning(*args, **kwargs)\n",
      "Message: 'You have set `use_cache` to `False`, but cache_implementation is set to hybrid. cache_implementation will have no effect.'\n",
      "Arguments: (<class 'UserWarning'>,)\n",
      "Loading checkpoint shards: 100%|██████████| 2/2 [00:11<00:00,  5.60s/it]\n"
     ]
    }
   ],
   "source": [
    "from pyterrier_rag.backend import HuggingFaceBackend\n",
    "\n",
    "backend =  HuggingFaceBackend(\"hugging-quants/gemma-2-9b-it-AWQ-INT4\",\n",
    "                                          max_new_tokens=2048,\n",
    "                                          model_args={\n",
    "                                              \"device_map\": \"cuda\"\n",
    "                                          }\n",
    "                                         )\n",
    "# backend =  HuggingFaceBackend(\"hugging-quants/Meta-Llama-3.1-70B-Instruct-AWQ-INT4\",\n",
    "#                                           max_new_tokens=2048,\n",
    "#                                           model_args={\n",
    "#                                               \"device_map\": \"auto\"\n",
    "#                                           }\n",
    "#                                          )"
   ]
  },
  {
   "cell_type": "code",
   "execution_count": 14,
   "id": "ed0516ff-760b-46d0-b1c7-ccc3e3fd9bb4",
   "metadata": {},
   "outputs": [],
   "source": [
    "from fastchat.conversation import register_conv_template, get_conv_template, Conversation, SeparatorStyle\n",
    "\n",
    "register_conv_template(\n",
    "    Conversation(\n",
    "        name=\"meta-llama-3.1-sp\",\n",
    "        system_message=\"\",\n",
    "        roles=(\"user\", \"assistant\"),\n",
    "        sep_style=SeparatorStyle.ADD_COLON_SINGLE,\n",
    "        sep=\"\\n\",\n",
    "        messages=[],\n",
    "    )\n",
    ")\n",
    "\n",
    "conv_template = get_conv_template(\"meta-llama-3.1-sp\")"
   ]
  },
  {
   "cell_type": "code",
   "execution_count": 15,
   "id": "15180598-f175-4882-8c1b-44232c8a76d6",
   "metadata": {},
   "outputs": [],
   "source": [
    "import pandas as pd\n",
    "\n",
    "def save_csv(path, content):\n",
    "    content.to_csv(path, index=False)\n",
    "\n",
    "def load_csv(path):\n",
    "    try:\n",
    "        content = pd.read_csv(path)\n",
    "        return content\n",
    "    except Exception:\n",
    "        return None"
   ]
  },
  {
   "cell_type": "code",
   "execution_count": 16,
   "id": "bec0c3eb-3896-4f50-adc8-eaef610d51af",
   "metadata": {},
   "outputs": [],
   "source": [
    "from open_nuggetizer.nuggetizer import Nuggetizer\n",
    "\n",
    "nuggetizer = Nuggetizer(\n",
    "    backend=backend, \n",
    "    conversation_template=conv_template,\n",
    "    verbose=True\n",
    ")\n",
    "\n",
    "nuggets = load_csv(\"nuggets.csv\")\n",
    "if nuggets is None:\n",
    "    nuggets = nuggetizer.create(baseline)\n",
    "    save_csv(\"nuggets.csv\", nuggets)\n",
    "\n",
    "scored_nuggets = load_csv(\"scored_nuggets.csv\")\n",
    "if scored_nuggets is None:\n",
    "    scored_nuggets = nuggetizer.score(nuggets)\n",
    "    save_csv(\"scored_nuggets.csv\", scored_nuggets)"
   ]
  },
  {
   "cell_type": "markdown",
   "id": "221e6935-f55d-4b68-a9cf-e517e9f20727",
   "metadata": {},
   "source": [
    "# Evaluation"
   ]
  },
  {
   "cell_type": "code",
   "execution_count": 17,
   "id": "bd8df853-4120-442c-ad08-6ccd743bbc97",
   "metadata": {},
   "outputs": [
    {
     "name": "stderr",
     "output_type": "stream",
     "text": [
      "The 'batch_size' attribute of HybridCache is deprecated and will be removed in v4.49. Use the more precisely named 'self.max_batch_size' attribute instead.\n"
     ]
    },
    {
     "data": {
      "text/html": [
       "<div>\n",
       "<style scoped>\n",
       "    .dataframe tbody tr th:only-of-type {\n",
       "        vertical-align: middle;\n",
       "    }\n",
       "\n",
       "    .dataframe tbody tr th {\n",
       "        vertical-align: top;\n",
       "    }\n",
       "\n",
       "    .dataframe thead th {\n",
       "        text-align: right;\n",
       "    }\n",
       "</style>\n",
       "<table border=\"1\" class=\"dataframe\">\n",
       "  <thead>\n",
       "    <tr style=\"text-align: right;\">\n",
       "      <th></th>\n",
       "      <th>prompt</th>\n",
       "      <th>qid</th>\n",
       "      <th>query_0</th>\n",
       "      <th>qanswer</th>\n",
       "    </tr>\n",
       "  </thead>\n",
       "  <tbody>\n",
       "    <tr>\n",
       "      <th>0</th>\n",
       "      <td>You are an helpful assistant.\\nuser: Use the c...</td>\n",
       "      <td>23287</td>\n",
       "      <td>are landlords liable if someone breaks in a hu...</td>\n",
       "      <td>\\n\\n\\nThe provided text focuses on landlord li...</td>\n",
       "    </tr>\n",
       "    <tr>\n",
       "      <th>1</th>\n",
       "      <td>You are an helpful assistant.\\nuser: Use the c...</td>\n",
       "      <td>30611</td>\n",
       "      <td>average age of men at marriage</td>\n",
       "      <td>analysis showed the vast majority of American...</td>\n",
       "    </tr>\n",
       "  </tbody>\n",
       "</table>\n",
       "</div>"
      ],
      "text/plain": [
       "                                              prompt    qid  \\\n",
       "0  You are an helpful assistant.\\nuser: Use the c...  23287   \n",
       "1  You are an helpful assistant.\\nuser: Use the c...  30611   \n",
       "\n",
       "                                             query_0  \\\n",
       "0  are landlords liable if someone breaks in a hu...   \n",
       "1                     average age of men at marriage   \n",
       "\n",
       "                                             qanswer  \n",
       "0  \\n\\n\\nThe provided text focuses on landlord li...  \n",
       "1   analysis showed the vast majority of American...  "
      ]
     },
     "execution_count": 17,
     "metadata": {},
     "output_type": "execute_result"
    }
   ],
   "source": [
    "from pyterrier_rag.prompt import Concatenator\n",
    "from pyterrier_rag.readers import Reader\n",
    "from pyterrier_rag.prompt import PromptTransformer\n",
    "from jinja2 import Template\n",
    "\n",
    "def make_callable_template(template: Template):\n",
    "    def template_call(**kwargs):\n",
    "        return template.render(**kwargs)\n",
    "\n",
    "    return template_call\n",
    "\n",
    "GENERIC_PROMPT = Template(\n",
    "    \"Use the context information to answer the Question: \\n Context: {{ context }} \\n Question: {{ query }} \\n Answer:\"\n",
    ")\n",
    "\n",
    "prompt = PromptTransformer(\n",
    "            instruction=make_callable_template(GENERIC_PROMPT),\n",
    "            system_message=\"You are an helpful assistant.\",\n",
    "            conversation_template=conv_template,\n",
    "            input_fields=[\n",
    "                \"context\",\n",
    "                \"query\",\n",
    "            ],\n",
    "        )\n",
    "\n",
    "reader = Reader(backend, prompt)\n",
    "rag_pipeline = monoT5_ret % 3 >> Concatenator() >> reader\n",
    "\n",
    "results = (rag_pipeline)(topics_df.head(2))\n",
    "results"
   ]
  },
  {
   "cell_type": "code",
   "execution_count": null,
   "id": "9096d6d2",
   "metadata": {},
   "outputs": [],
   "source": []
  },
  {
   "cell_type": "code",
   "execution_count": 18,
   "id": "f050527d-4725-4be2-88bc-ebb3debe9271",
   "metadata": {},
   "outputs": [
    {
     "ename": "KeyError",
     "evalue": "'query_id'",
     "output_type": "error",
     "traceback": [
      "\u001b[0;31m---------------------------------------------------------------------------\u001b[0m",
      "\u001b[0;31mKeyError\u001b[0m                                  Traceback (most recent call last)",
      "\u001b[0;32m/tmp/ipykernel_7021/490129294.py\u001b[0m in \u001b[0;36m?\u001b[0;34m()\u001b[0m\n\u001b[1;32m      1\u001b[0m \u001b[0mscored_nuggets\u001b[0m \u001b[0;34m=\u001b[0m \u001b[0mscored_nuggets\u001b[0m\u001b[0;34m.\u001b[0m\u001b[0mrename\u001b[0m\u001b[0;34m(\u001b[0m\u001b[0mcolumns\u001b[0m\u001b[0;34m=\u001b[0m\u001b[0;34m{\u001b[0m\u001b[0;34m\"qid\"\u001b[0m\u001b[0;34m:\u001b[0m \u001b[0;34m\"query_id\"\u001b[0m\u001b[0;34m}\u001b[0m\u001b[0;34m)\u001b[0m\u001b[0;34m\u001b[0m\u001b[0;34m\u001b[0m\u001b[0m\n\u001b[0;32m----> 2\u001b[0;31m \u001b[0;32mfor\u001b[0m \u001b[0melement\u001b[0m \u001b[0;32min\u001b[0m \u001b[0mnuggetizer\u001b[0m\u001b[0;34m.\u001b[0m\u001b[0mVitalScore\u001b[0m\u001b[0;34m(\u001b[0m\u001b[0;34m)\u001b[0m\u001b[0;34m.\u001b[0m\u001b[0miter_calc\u001b[0m\u001b[0;34m(\u001b[0m\u001b[0mscored_nuggets\u001b[0m\u001b[0;34m,\u001b[0m \u001b[0mresults\u001b[0m\u001b[0;34m)\u001b[0m\u001b[0;34m:\u001b[0m\u001b[0;34m\u001b[0m\u001b[0;34m\u001b[0m\u001b[0m\n\u001b[0m\u001b[1;32m      3\u001b[0m     \u001b[0mprint\u001b[0m\u001b[0;34m(\u001b[0m\u001b[0;34m\"Hello\"\u001b[0m\u001b[0;34m)\u001b[0m\u001b[0;34m\u001b[0m\u001b[0;34m\u001b[0m\u001b[0m\n\u001b[1;32m      4\u001b[0m     \u001b[0mprint\u001b[0m\u001b[0;34m(\u001b[0m\u001b[0;34mf\"Query ID: {element['query_id']}, Measure: {element['measure']}, Value: {element['value']}\"\u001b[0m\u001b[0;34m)\u001b[0m\u001b[0;34m\u001b[0m\u001b[0;34m\u001b[0m\u001b[0m\n\u001b[1;32m      5\u001b[0m     \u001b[0;32mbreak\u001b[0m\u001b[0;34m\u001b[0m\u001b[0;34m\u001b[0m\u001b[0m\n",
      "\u001b[0;32m/opt/miniconda3/envs/nuggetizer/lib/python3.10/site-packages/ir_measures/providers/base.py\u001b[0m in \u001b[0;36m?\u001b[0;34m(self, run)\u001b[0m\n\u001b[1;32m     19\u001b[0m         \"\"\"\n\u001b[1;32m     20\u001b[0m         \u001b[0mYields\u001b[0m \u001b[0mper\u001b[0m\u001b[0;34m-\u001b[0m\u001b[0mtopic\u001b[0m \u001b[0mmetrics\u001b[0m \u001b[0mthis\u001b[0m \u001b[0mrun\u001b[0m\u001b[0;34m.\u001b[0m\u001b[0;34m\u001b[0m\u001b[0;34m\u001b[0m\u001b[0m\n\u001b[1;32m     21\u001b[0m         \"\"\"\n\u001b[1;32m     22\u001b[0m         \u001b[0mexpected_measure_qids\u001b[0m \u001b[0;34m=\u001b[0m \u001b[0mset\u001b[0m\u001b[0;34m(\u001b[0m\u001b[0mitertools\u001b[0m\u001b[0;34m.\u001b[0m\u001b[0mproduct\u001b[0m\u001b[0;34m(\u001b[0m\u001b[0mself\u001b[0m\u001b[0;34m.\u001b[0m\u001b[0mmeasures\u001b[0m\u001b[0;34m,\u001b[0m \u001b[0mself\u001b[0m\u001b[0;34m.\u001b[0m\u001b[0mqrel_qids\u001b[0m\u001b[0;34m)\u001b[0m\u001b[0;34m)\u001b[0m\u001b[0;34m\u001b[0m\u001b[0;34m\u001b[0m\u001b[0m\n\u001b[0;32m---> 23\u001b[0;31m         \u001b[0;32mfor\u001b[0m \u001b[0mmetric\u001b[0m \u001b[0;32min\u001b[0m \u001b[0mself\u001b[0m\u001b[0;34m.\u001b[0m\u001b[0m_iter_calc\u001b[0m\u001b[0;34m(\u001b[0m\u001b[0mrun\u001b[0m\u001b[0;34m)\u001b[0m\u001b[0;34m:\u001b[0m\u001b[0;34m\u001b[0m\u001b[0;34m\u001b[0m\u001b[0m\n\u001b[0m\u001b[1;32m     24\u001b[0m             \u001b[0mexpected_measure_qids\u001b[0m\u001b[0;34m.\u001b[0m\u001b[0mdiscard\u001b[0m\u001b[0;34m(\u001b[0m\u001b[0;34m(\u001b[0m\u001b[0mmetric\u001b[0m\u001b[0;34m.\u001b[0m\u001b[0mmeasure\u001b[0m\u001b[0;34m,\u001b[0m \u001b[0mmetric\u001b[0m\u001b[0;34m.\u001b[0m\u001b[0mquery_id\u001b[0m\u001b[0;34m)\u001b[0m\u001b[0;34m)\u001b[0m\u001b[0;34m\u001b[0m\u001b[0;34m\u001b[0m\u001b[0m\n\u001b[1;32m     25\u001b[0m             \u001b[0;32myield\u001b[0m \u001b[0mmetric\u001b[0m\u001b[0;34m\u001b[0m\u001b[0;34m\u001b[0m\u001b[0m\n\u001b[1;32m     26\u001b[0m         \u001b[0;32mfor\u001b[0m \u001b[0mmeasure\u001b[0m\u001b[0;34m,\u001b[0m \u001b[0mquery_id\u001b[0m \u001b[0;32min\u001b[0m \u001b[0msorted\u001b[0m\u001b[0;34m(\u001b[0m\u001b[0mexpected_measure_qids\u001b[0m\u001b[0;34m,\u001b[0m \u001b[0mkey\u001b[0m\u001b[0;34m=\u001b[0m\u001b[0;32mlambda\u001b[0m \u001b[0mx\u001b[0m\u001b[0;34m:\u001b[0m \u001b[0;34m(\u001b[0m\u001b[0mstr\u001b[0m\u001b[0;34m(\u001b[0m\u001b[0mx\u001b[0m\u001b[0;34m[\u001b[0m\u001b[0;36m0\u001b[0m\u001b[0;34m]\u001b[0m\u001b[0;34m)\u001b[0m\u001b[0;34m,\u001b[0m \u001b[0mx\u001b[0m\u001b[0;34m[\u001b[0m\u001b[0;36m1\u001b[0m\u001b[0;34m]\u001b[0m\u001b[0;34m)\u001b[0m\u001b[0;34m)\u001b[0m\u001b[0;34m:\u001b[0m\u001b[0;34m\u001b[0m\u001b[0;34m\u001b[0m\u001b[0m\n",
      "\u001b[0;32m/opt/miniconda3/envs/nuggetizer/lib/python3.10/site-packages/ir_measures/providers/runtime_provider.py\u001b[0m in \u001b[0;36m?\u001b[0;34m(self, run)\u001b[0m\n\u001b[1;32m     40\u001b[0m         \u001b[0msort_orders\u001b[0m \u001b[0;34m=\u001b[0m \u001b[0;34m[\u001b[0m\u001b[0;32mTrue\u001b[0m\u001b[0;34m]\u001b[0m\u001b[0;34m\u001b[0m\u001b[0;34m\u001b[0m\u001b[0m\n\u001b[1;32m     41\u001b[0m         \u001b[0;32mif\u001b[0m \u001b[0;34m'score'\u001b[0m \u001b[0;32min\u001b[0m \u001b[0mrun\u001b[0m\u001b[0;34m.\u001b[0m\u001b[0mcolumns\u001b[0m\u001b[0;34m:\u001b[0m\u001b[0;34m\u001b[0m\u001b[0;34m\u001b[0m\u001b[0m\n\u001b[1;32m     42\u001b[0m             \u001b[0msort_columns\u001b[0m\u001b[0;34m.\u001b[0m\u001b[0mappend\u001b[0m\u001b[0;34m(\u001b[0m\u001b[0;34m'score'\u001b[0m\u001b[0;34m)\u001b[0m\u001b[0;34m\u001b[0m\u001b[0;34m\u001b[0m\u001b[0m\n\u001b[1;32m     43\u001b[0m             \u001b[0msort_orders\u001b[0m\u001b[0;34m.\u001b[0m\u001b[0mappend\u001b[0m\u001b[0;34m(\u001b[0m\u001b[0;32mFalse\u001b[0m\u001b[0;34m)\u001b[0m\u001b[0;34m\u001b[0m\u001b[0;34m\u001b[0m\u001b[0m\n\u001b[0;32m---> 44\u001b[0;31m         \u001b[0mrun\u001b[0m \u001b[0;34m=\u001b[0m \u001b[0mrun\u001b[0m\u001b[0;34m.\u001b[0m\u001b[0msort_values\u001b[0m\u001b[0;34m(\u001b[0m\u001b[0mby\u001b[0m\u001b[0;34m=\u001b[0m\u001b[0msort_columns\u001b[0m\u001b[0;34m,\u001b[0m \u001b[0mascending\u001b[0m\u001b[0;34m=\u001b[0m\u001b[0msort_orders\u001b[0m\u001b[0;34m)\u001b[0m\u001b[0;34m\u001b[0m\u001b[0;34m\u001b[0m\u001b[0m\n\u001b[0m\u001b[1;32m     45\u001b[0m         \u001b[0;32mfor\u001b[0m \u001b[0mmeasure\u001b[0m \u001b[0;32min\u001b[0m \u001b[0mself\u001b[0m\u001b[0;34m.\u001b[0m\u001b[0mmeasures\u001b[0m\u001b[0;34m:\u001b[0m\u001b[0;34m\u001b[0m\u001b[0;34m\u001b[0m\u001b[0m\n\u001b[1;32m     46\u001b[0m             \u001b[0;32myield\u001b[0m \u001b[0;32mfrom\u001b[0m \u001b[0mmeasure\u001b[0m\u001b[0;34m.\u001b[0m\u001b[0mruntime_impl\u001b[0m\u001b[0;34m(\u001b[0m\u001b[0mself\u001b[0m\u001b[0;34m.\u001b[0m\u001b[0mqrels\u001b[0m\u001b[0;34m,\u001b[0m \u001b[0mrun\u001b[0m\u001b[0;34m)\u001b[0m\u001b[0;34m\u001b[0m\u001b[0;34m\u001b[0m\u001b[0m\n",
      "\u001b[0;32m/opt/miniconda3/envs/nuggetizer/lib/python3.10/site-packages/pandas/core/frame.py\u001b[0m in \u001b[0;36m?\u001b[0;34m(self, by, axis, ascending, inplace, kind, na_position, ignore_index, key)\u001b[0m\n\u001b[1;32m   7185\u001b[0m             )\n\u001b[1;32m   7186\u001b[0m         \u001b[0;32melif\u001b[0m \u001b[0mlen\u001b[0m\u001b[0;34m(\u001b[0m\u001b[0mby\u001b[0m\u001b[0;34m)\u001b[0m\u001b[0;34m:\u001b[0m\u001b[0;34m\u001b[0m\u001b[0;34m\u001b[0m\u001b[0m\n\u001b[1;32m   7187\u001b[0m             \u001b[0;31m# len(by) == 1\u001b[0m\u001b[0;34m\u001b[0m\u001b[0;34m\u001b[0m\u001b[0m\n\u001b[1;32m   7188\u001b[0m \u001b[0;34m\u001b[0m\u001b[0m\n\u001b[0;32m-> 7189\u001b[0;31m             \u001b[0mk\u001b[0m \u001b[0;34m=\u001b[0m \u001b[0mself\u001b[0m\u001b[0;34m.\u001b[0m\u001b[0m_get_label_or_level_values\u001b[0m\u001b[0;34m(\u001b[0m\u001b[0mby\u001b[0m\u001b[0;34m[\u001b[0m\u001b[0;36m0\u001b[0m\u001b[0;34m]\u001b[0m\u001b[0;34m,\u001b[0m \u001b[0maxis\u001b[0m\u001b[0;34m=\u001b[0m\u001b[0maxis\u001b[0m\u001b[0;34m)\u001b[0m\u001b[0;34m\u001b[0m\u001b[0;34m\u001b[0m\u001b[0m\n\u001b[0m\u001b[1;32m   7190\u001b[0m \u001b[0;34m\u001b[0m\u001b[0m\n\u001b[1;32m   7191\u001b[0m             \u001b[0;31m# need to rewrap column in Series to apply key function\u001b[0m\u001b[0;34m\u001b[0m\u001b[0;34m\u001b[0m\u001b[0m\n\u001b[1;32m   7192\u001b[0m             \u001b[0;32mif\u001b[0m \u001b[0mkey\u001b[0m \u001b[0;32mis\u001b[0m \u001b[0;32mnot\u001b[0m \u001b[0;32mNone\u001b[0m\u001b[0;34m:\u001b[0m\u001b[0;34m\u001b[0m\u001b[0;34m\u001b[0m\u001b[0m\n",
      "\u001b[0;32m/opt/miniconda3/envs/nuggetizer/lib/python3.10/site-packages/pandas/core/generic.py\u001b[0m in \u001b[0;36m?\u001b[0;34m(self, key, axis)\u001b[0m\n\u001b[1;32m   1907\u001b[0m             \u001b[0mvalues\u001b[0m \u001b[0;34m=\u001b[0m \u001b[0mself\u001b[0m\u001b[0;34m.\u001b[0m\u001b[0mxs\u001b[0m\u001b[0;34m(\u001b[0m\u001b[0mkey\u001b[0m\u001b[0;34m,\u001b[0m \u001b[0maxis\u001b[0m\u001b[0;34m=\u001b[0m\u001b[0mother_axes\u001b[0m\u001b[0;34m[\u001b[0m\u001b[0;36m0\u001b[0m\u001b[0;34m]\u001b[0m\u001b[0;34m)\u001b[0m\u001b[0;34m.\u001b[0m\u001b[0m_values\u001b[0m\u001b[0;34m\u001b[0m\u001b[0;34m\u001b[0m\u001b[0m\n\u001b[1;32m   1908\u001b[0m         \u001b[0;32melif\u001b[0m \u001b[0mself\u001b[0m\u001b[0;34m.\u001b[0m\u001b[0m_is_level_reference\u001b[0m\u001b[0;34m(\u001b[0m\u001b[0mkey\u001b[0m\u001b[0;34m,\u001b[0m \u001b[0maxis\u001b[0m\u001b[0;34m=\u001b[0m\u001b[0maxis\u001b[0m\u001b[0;34m)\u001b[0m\u001b[0;34m:\u001b[0m\u001b[0;34m\u001b[0m\u001b[0;34m\u001b[0m\u001b[0m\n\u001b[1;32m   1909\u001b[0m             \u001b[0mvalues\u001b[0m \u001b[0;34m=\u001b[0m \u001b[0mself\u001b[0m\u001b[0;34m.\u001b[0m\u001b[0maxes\u001b[0m\u001b[0;34m[\u001b[0m\u001b[0maxis\u001b[0m\u001b[0;34m]\u001b[0m\u001b[0;34m.\u001b[0m\u001b[0mget_level_values\u001b[0m\u001b[0;34m(\u001b[0m\u001b[0mkey\u001b[0m\u001b[0;34m)\u001b[0m\u001b[0;34m.\u001b[0m\u001b[0m_values\u001b[0m\u001b[0;34m\u001b[0m\u001b[0;34m\u001b[0m\u001b[0m\n\u001b[1;32m   1910\u001b[0m         \u001b[0;32melse\u001b[0m\u001b[0;34m:\u001b[0m\u001b[0;34m\u001b[0m\u001b[0;34m\u001b[0m\u001b[0m\n\u001b[0;32m-> 1911\u001b[0;31m             \u001b[0;32mraise\u001b[0m \u001b[0mKeyError\u001b[0m\u001b[0;34m(\u001b[0m\u001b[0mkey\u001b[0m\u001b[0;34m)\u001b[0m\u001b[0;34m\u001b[0m\u001b[0;34m\u001b[0m\u001b[0m\n\u001b[0m\u001b[1;32m   1912\u001b[0m \u001b[0;34m\u001b[0m\u001b[0m\n\u001b[1;32m   1913\u001b[0m         \u001b[0;31m# Check for duplicates\u001b[0m\u001b[0;34m\u001b[0m\u001b[0;34m\u001b[0m\u001b[0m\n\u001b[1;32m   1914\u001b[0m         \u001b[0;32mif\u001b[0m \u001b[0mvalues\u001b[0m\u001b[0;34m.\u001b[0m\u001b[0mndim\u001b[0m \u001b[0;34m>\u001b[0m \u001b[0;36m1\u001b[0m\u001b[0;34m:\u001b[0m\u001b[0;34m\u001b[0m\u001b[0;34m\u001b[0m\u001b[0m\n",
      "\u001b[0;31mKeyError\u001b[0m: 'query_id'"
     ]
    }
   ],
   "source": [
    "scored_nuggets = scored_nuggets.rename(columns={\"qid\": \"query_id\"})\n",
    "for element in nuggetizer.VitalScore().iter_calc(scored_nuggets, results):\n",
    "    print(\"Hello\")\n",
    "    print(f\"Query ID: {element['query_id']}, Measure: {element['measure']}, Value: {element['value']}\")\n",
    "    break"
   ]
  },
  {
   "cell_type": "code",
   "execution_count": null,
   "id": "dea85e93-6c63-4105-9f48-58be6b4d8acc",
   "metadata": {},
   "outputs": [],
   "source": [
    "\"\"\"\n",
    "import pyterrier_rag.measures\n",
    "\n",
    "results = pt.Experiment(\n",
    "    [\n",
    "        rag_pipeline\n",
    "    ],\n",
    "    topics_df.head(2), \n",
    "    answers_df,\n",
    "    [pyterrier_rag.measures.F1, nuggetizer.VitalScore()],\n",
    "    #batch_size=25,\n",
    "    names=['baseline retriever'],\n",
    ")\n",
    "\"\"\""
   ]
  }
 ],
 "metadata": {
  "kernelspec": {
   "display_name": "nuggetizer",
   "language": "python",
   "name": "python3"
  },
  "language_info": {
   "codemirror_mode": {
    "name": "ipython",
    "version": 3
   },
   "file_extension": ".py",
   "mimetype": "text/x-python",
   "name": "python",
   "nbconvert_exporter": "python",
   "pygments_lexer": "ipython3",
   "version": "3.10.16"
  }
 },
 "nbformat": 4,
 "nbformat_minor": 5
}
