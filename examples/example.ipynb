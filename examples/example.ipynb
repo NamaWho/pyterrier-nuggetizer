{
 "cells": [
  {
   "cell_type": "markdown",
   "id": "7518c5c9-79ab-4daa-a7af-a5c699821c3a",
   "metadata": {},
   "source": [
    "# 📘 Nuggetizer: A lightweight nugget-based evaluation framework for pyterrier-rag"
   ]
  },
  {
   "cell_type": "markdown",
   "id": "a3c04970-bc5a-4e55-a669-fa19abcd1574",
   "metadata": {},
   "source": [
    "## 📌 Introduction\n",
    "In this notebook, we demonstrate how to evaluate a Retrieval-Augmented Generation (RAG) system\n",
    "using a semantic nugget-based evaluation framework inspired by the \"AutoNuggetizer\" used in TREC 2024.\n",
    "The goal is to assess the factual informativeness of generated answers through fine-grained nugget detection\n",
    "and scoring. This setup is general and compatible with Google Colab (T4 GPU)."
   ]
  },
  {
   "cell_type": "markdown",
   "id": "37a5defa-adae-403b-a890-751d489416ab",
   "metadata": {},
   "source": [
    "## 🎯 Motivation and Background\n",
    "- The Problem: Traditional RAG evaluations rely on lexical overlap or ROUGE scores, which miss semantic correctness.\n",
    "- The Solution: Nugget evaluation, originally proposed in TREC QA 2003, revived by AutoNuggetizer, uses semantically atomic facts (“nuggets”) to evaluate answers.\n",
    "- Inspiration: This library reimplements a simplified, local version of AutoNuggetizer with modular hooks into PyTerrier and HuggingFace models."
   ]
  },
  {
   "cell_type": "markdown",
   "id": "421df4f6-9dda-45b7-9de6-464cd3313fca",
   "metadata": {},
   "source": [
    "## ⚙️ Installation and Setup"
   ]
  },
  {
   "cell_type": "code",
   "execution_count": 1,
   "id": "d3f5d1de-738e-422b-9680-fa58dc3cc671",
   "metadata": {},
   "outputs": [
    {
     "name": "stdout",
     "output_type": "stream",
     "text": [
      "\u001b[33mWARNING: The directory '/mnt/primary/launcher-cache/pip' or its parent directory is not owned or is not writable by the current user. The cache has been disabled. Check the permissions and owner of that directory. If executing pip with sudo, you should use sudo's -H flag.\u001b[0m\u001b[33m\n",
      "\u001b[0mCollecting git+https://github.com/MattiWe/ir_datasets.git@add-msmarco-v2.1-trec-rag\n",
      "  Cloning https://github.com/MattiWe/ir_datasets.git (to revision add-msmarco-v2.1-trec-rag) to /tmp/pip-req-build-ff0g5x6i\n",
      "  Running command git clone --filter=blob:none --quiet https://github.com/MattiWe/ir_datasets.git /tmp/pip-req-build-ff0g5x6i\n",
      "  Running command git checkout -b add-msmarco-v2.1-trec-rag --track origin/add-msmarco-v2.1-trec-rag\n",
      "  Switched to a new branch 'add-msmarco-v2.1-trec-rag'\n",
      "  Branch 'add-msmarco-v2.1-trec-rag' set up to track remote branch 'add-msmarco-v2.1-trec-rag' from 'origin'.\n",
      "  Resolved https://github.com/MattiWe/ir_datasets.git to commit bd018b783e3d25942b69290f7be19eeb929022c2\n",
      "  Installing build dependencies ... \u001b[?25ldone\n",
      "\u001b[?25h  Getting requirements to build wheel ... \u001b[?25ldone\n",
      "\u001b[?25h  Preparing metadata (pyproject.toml) ... \u001b[?25ldone\n",
      "\u001b[?25hRequirement already satisfied: beautifulsoup4>=4.4.1 in /mnt/primary/conda-envs/pyterrier_rag_dev/lib/python3.10/site-packages (from ir_datasets==0.5.10) (4.13.4)\n",
      "Requirement already satisfied: inscriptis>=2.2.0 in /mnt/primary/conda-envs/pyterrier_rag_dev/lib/python3.10/site-packages (from ir_datasets==0.5.10) (2.6.0)\n",
      "Requirement already satisfied: lxml>=4.5.2 in /mnt/primary/conda-envs/pyterrier_rag_dev/lib/python3.10/site-packages (from ir_datasets==0.5.10) (5.4.0)\n",
      "Requirement already satisfied: numpy>=1.18.1 in /mnt/primary/conda-envs/pyterrier_rag_dev/lib/python3.10/site-packages (from ir_datasets==0.5.10) (1.26.4)\n",
      "Requirement already satisfied: pyyaml>=5.3.1 in /mnt/primary/conda-envs/pyterrier_rag_dev/lib/python3.10/site-packages (from ir_datasets==0.5.10) (6.0.2)\n",
      "Requirement already satisfied: requests>=2.22.0 in /mnt/primary/conda-envs/pyterrier_rag_dev/lib/python3.10/site-packages (from ir_datasets==0.5.10) (2.32.3)\n",
      "Requirement already satisfied: tqdm>=4.38.0 in /mnt/primary/conda-envs/pyterrier_rag_dev/lib/python3.10/site-packages (from ir_datasets==0.5.10) (4.67.1)\n",
      "Requirement already satisfied: trec-car-tools>=2.5.4 in /mnt/primary/conda-envs/pyterrier_rag_dev/lib/python3.10/site-packages (from ir_datasets==0.5.10) (2.6)\n",
      "Requirement already satisfied: lz4>=3.1.10 in /mnt/primary/conda-envs/pyterrier_rag_dev/lib/python3.10/site-packages (from ir_datasets==0.5.10) (4.4.4)\n",
      "Requirement already satisfied: warc3-wet>=0.2.3 in /mnt/primary/conda-envs/pyterrier_rag_dev/lib/python3.10/site-packages (from ir_datasets==0.5.10) (0.2.5)\n",
      "Requirement already satisfied: warc3-wet-clueweb09>=0.2.5 in /mnt/primary/conda-envs/pyterrier_rag_dev/lib/python3.10/site-packages (from ir_datasets==0.5.10) (0.2.5)\n",
      "Requirement already satisfied: zlib-state>=0.1.3 in /mnt/primary/conda-envs/pyterrier_rag_dev/lib/python3.10/site-packages (from ir_datasets==0.5.10) (0.1.9)\n",
      "Requirement already satisfied: ijson>=3.1.3 in /mnt/primary/conda-envs/pyterrier_rag_dev/lib/python3.10/site-packages (from ir_datasets==0.5.10) (3.4.0)\n",
      "Requirement already satisfied: unlzw3>=0.2.1 in /mnt/primary/conda-envs/pyterrier_rag_dev/lib/python3.10/site-packages (from ir_datasets==0.5.10) (0.2.3)\n",
      "Requirement already satisfied: pyarrow>=16.1.0 in /mnt/primary/conda-envs/pyterrier_rag_dev/lib/python3.10/site-packages (from ir_datasets==0.5.10) (20.0.0)\n",
      "Requirement already satisfied: soupsieve>1.2 in /mnt/primary/conda-envs/pyterrier_rag_dev/lib/python3.10/site-packages (from beautifulsoup4>=4.4.1->ir_datasets==0.5.10) (2.7)\n",
      "Requirement already satisfied: typing-extensions>=4.0.0 in /mnt/primary/conda-envs/pyterrier_rag_dev/lib/python3.10/site-packages (from beautifulsoup4>=4.4.1->ir_datasets==0.5.10) (4.12.2)\n",
      "Requirement already satisfied: charset-normalizer<4,>=2 in /mnt/primary/conda-envs/pyterrier_rag_dev/lib/python3.10/site-packages (from requests>=2.22.0->ir_datasets==0.5.10) (3.4.2)\n",
      "Requirement already satisfied: idna<4,>=2.5 in /mnt/primary/conda-envs/pyterrier_rag_dev/lib/python3.10/site-packages (from requests>=2.22.0->ir_datasets==0.5.10) (3.10)\n",
      "Requirement already satisfied: urllib3<3,>=1.21.1 in /mnt/primary/conda-envs/pyterrier_rag_dev/lib/python3.10/site-packages (from requests>=2.22.0->ir_datasets==0.5.10) (2.4.0)\n",
      "Requirement already satisfied: certifi>=2017.4.17 in /mnt/primary/conda-envs/pyterrier_rag_dev/lib/python3.10/site-packages (from requests>=2.22.0->ir_datasets==0.5.10) (2025.4.26)\n",
      "Requirement already satisfied: cbor>=1.0.0 in /mnt/primary/conda-envs/pyterrier_rag_dev/lib/python3.10/site-packages (from trec-car-tools>=2.5.4->ir_datasets==0.5.10) (1.0.0)\n",
      "\u001b[33mWARNING: Running pip as the 'root' user can result in broken permissions and conflicting behaviour with the system package manager, possibly rendering your system unusable. It is recommended to use a virtual environment instead: https://pip.pypa.io/warnings/venv. Use the --root-user-action option if you know what you are doing and want to suppress this warning.\u001b[0m\u001b[33m\n",
      "\u001b[0m"
     ]
    }
   ],
   "source": [
    "!pip install git+https://github.com/MattiWe/ir_datasets.git@add-msmarco-v2.1-trec-rag"
   ]
  },
  {
   "cell_type": "code",
   "execution_count": 2,
   "id": "7275f3bc-b007-4ae6-a04b-a906c83be541",
   "metadata": {},
   "outputs": [
    {
     "name": "stdout",
     "output_type": "stream",
     "text": [
      "\u001b[33mWARNING: The directory '/mnt/primary/launcher-cache/pip' or its parent directory is not owned or is not writable by the current user. The cache has been disabled. Check the permissions and owner of that directory. If executing pip with sudo, you should use sudo's -H flag.\u001b[0m\u001b[33m\n",
      "\u001b[0mObtaining file:///mnt/primary/projects/open-nuggetizer\n",
      "  Installing build dependencies ... \u001b[?25ldone\n",
      "\u001b[?25h  Checking if build backend supports build_editable ... \u001b[?25ldone\n",
      "\u001b[?25h  Getting requirements to build editable ... \u001b[?25ldone\n",
      "\u001b[?25h  Preparing editable metadata (pyproject.toml) ... \u001b[?25ldone\n",
      "\u001b[?25hBuilding wheels for collected packages: open_nuggetizer\n",
      "  Building editable for open_nuggetizer (pyproject.toml) ... \u001b[?25ldone\n",
      "\u001b[?25h  Created wheel for open_nuggetizer: filename=open_nuggetizer-0.0.1-0.editable-py3-none-any.whl size=7001 sha256=0dbf7fc559cc58de883d8d2012d5eb8beb713aa9f5e71c80898fd7cae84302c2\n",
      "  Stored in directory: /tmp/pip-ephem-wheel-cache-_lf8d3gs/wheels/6e/ea/aa/fdd765af96c15c323c9c5cab3ddfdff595a6eaa2f890e08273\n",
      "Successfully built open_nuggetizer\n",
      "Installing collected packages: open_nuggetizer\n",
      "  Attempting uninstall: open_nuggetizer\n",
      "    Found existing installation: open_nuggetizer 0.0.1\n",
      "    Uninstalling open_nuggetizer-0.0.1:\n",
      "      Successfully uninstalled open_nuggetizer-0.0.1\n",
      "Successfully installed open_nuggetizer-0.0.1\n",
      "\u001b[33mWARNING: Running pip as the 'root' user can result in broken permissions and conflicting behaviour with the system package manager, possibly rendering your system unusable. It is recommended to use a virtual environment instead: https://pip.pypa.io/warnings/venv. Use the --root-user-action option if you know what you are doing and want to suppress this warning.\u001b[0m\u001b[33m\n",
      "\u001b[0m"
     ]
    }
   ],
   "source": [
    "!pip install --no-deps -e ../."
   ]
  },
  {
   "cell_type": "code",
   "execution_count": 3,
   "id": "c3b1f043",
   "metadata": {},
   "outputs": [
    {
     "name": "stdout",
     "output_type": "stream",
     "text": [
      "\u001b[33mWARNING: The directory '/mnt/primary/launcher-cache/pip' or its parent directory is not owned or is not writable by the current user. The cache has been disabled. Check the permissions and owner of that directory. If executing pip with sudo, you should use sudo's -H flag.\u001b[0m\u001b[33m\n",
      "\u001b[0mRequirement already satisfied: ir_measures in /mnt/primary/conda-envs/pyterrier_rag_dev/lib/python3.10/site-packages (0.3.7)\n",
      "Requirement already satisfied: pytrec-eval-terrier>=0.5.5 in /mnt/primary/conda-envs/pyterrier_rag_dev/lib/python3.10/site-packages (from ir_measures) (0.5.7)\n",
      "\u001b[33mWARNING: Running pip as the 'root' user can result in broken permissions and conflicting behaviour with the system package manager, possibly rendering your system unusable. It is recommended to use a virtual environment instead: https://pip.pypa.io/warnings/venv. Use the --root-user-action option if you know what you are doing and want to suppress this warning.\u001b[0m\u001b[33m\n",
      "\u001b[0m"
     ]
    }
   ],
   "source": [
    "!pip install ir_measures"
   ]
  },
  {
   "cell_type": "code",
   "execution_count": 4,
   "id": "56b2ebd4-f984-4ec3-aabb-6e5adca3a20f",
   "metadata": {},
   "outputs": [
    {
     "name": "stdout",
     "output_type": "stream",
     "text": [
      "\u001b[33mWARNING: The directory '/mnt/primary/launcher-cache/pip' or its parent directory is not owned or is not writable by the current user. The cache has been disabled. Check the permissions and owner of that directory. If executing pip with sudo, you should use sudo's -H flag.\u001b[0m\u001b[33m\n",
      "\u001b[0m\u001b[33mWARNING: Running pip as the 'root' user can result in broken permissions and conflicting behaviour with the system package manager, possibly rendering your system unusable. It is recommended to use a virtual environment instead: https://pip.pypa.io/warnings/venv. Use the --root-user-action option if you know what you are doing and want to suppress this warning.\u001b[0m\u001b[33m\n",
      "\u001b[0m"
     ]
    }
   ],
   "source": [
    "!pip install -q python-terrier"
   ]
  },
  {
   "cell_type": "code",
   "execution_count": 5,
   "id": "abe1c6a1-8a49-436f-80b6-39b1634c9ab5",
   "metadata": {},
   "outputs": [
    {
     "name": "stdout",
     "output_type": "stream",
     "text": [
      "\u001b[33mWARNING: The directory '/mnt/primary/launcher-cache/pip' or its parent directory is not owned or is not writable by the current user. The cache has been disabled. Check the permissions and owner of that directory. If executing pip with sudo, you should use sudo's -H flag.\u001b[0m\u001b[33m\n",
      "\u001b[0m\u001b[33mWARNING: Running pip as the 'root' user can result in broken permissions and conflicting behaviour with the system package manager, possibly rendering your system unusable. It is recommended to use a virtual environment instead: https://pip.pypa.io/warnings/venv. Use the --root-user-action option if you know what you are doing and want to suppress this warning.\u001b[0m\u001b[33m\n",
      "\u001b[0m"
     ]
    }
   ],
   "source": [
    "!pip install -q git+https://github.com/terrierteam/pyterrier_rag.git"
   ]
  },
  {
   "cell_type": "code",
   "execution_count": 6,
   "id": "bcda75f3-f54f-46c1-8635-6888b41002fa",
   "metadata": {},
   "outputs": [
    {
     "name": "stdout",
     "output_type": "stream",
     "text": [
      "\u001b[33mWARNING: The directory '/mnt/primary/launcher-cache/pip' or its parent directory is not owned or is not writable by the current user. The cache has been disabled. Check the permissions and owner of that directory. If executing pip with sudo, you should use sudo's -H flag.\u001b[0m\u001b[33m\n",
      "\u001b[0m\u001b[33mWARNING: Running pip as the 'root' user can result in broken permissions and conflicting behaviour with the system package manager, possibly rendering your system unusable. It is recommended to use a virtual environment instead: https://pip.pypa.io/warnings/venv. Use the --root-user-action option if you know what you are doing and want to suppress this warning.\u001b[0m\u001b[33m\n",
      "\u001b[0m"
     ]
    }
   ],
   "source": [
    "!pip install -q pyterrier_t5 pyterrier_pisa"
   ]
  },
  {
   "cell_type": "code",
   "execution_count": 7,
   "id": "fe713d5c-c5f6-4f84-8429-740f2cab3948",
   "metadata": {},
   "outputs": [
    {
     "name": "stderr",
     "output_type": "stream",
     "text": [
      "/opt/miniconda3/envs/pyterrier_rag_dev/lib/python3.10/site-packages/tqdm/auto.py:21: TqdmWarning: IProgress not found. Please update jupyter and ipywidgets. See https://ipywidgets.readthedocs.io/en/stable/user_install.html\n",
      "  from .autonotebook import tqdm as notebook_tqdm\n"
     ]
    }
   ],
   "source": [
    "import pyterrier as pt\n",
    "from pyterrier_rag.backend import Backend"
   ]
  },
  {
   "cell_type": "markdown",
   "id": "11648e98-66ab-487f-998e-fab8d232c8ba",
   "metadata": {},
   "source": [
    "# Dataset"
   ]
  },
  {
   "cell_type": "code",
   "execution_count": 8,
   "id": "74c43bcb-63d3-40af-98d5-0918f370ae88",
   "metadata": {},
   "outputs": [],
   "source": [
    "import ir_datasets\n",
    "dataset = ir_datasets.load('msmarco-segment-v2.1')"
   ]
  },
  {
   "cell_type": "code",
   "execution_count": 9,
   "id": "94859fe6-63f4-495a-b51c-18058d795fb7",
   "metadata": {},
   "outputs": [],
   "source": [
    "pt_dataset = pt.get_dataset(\"irds:msmarco-segment-v2.1\")"
   ]
  },
  {
   "cell_type": "markdown",
   "id": "938bc72d-8861-4f58-a2b6-6b0a4f2c4cc4",
   "metadata": {},
   "source": [
    "# Pipelines"
   ]
  },
  {
   "cell_type": "code",
   "execution_count": 10,
   "id": "eb5944f7-91b8-468d-bd92-b66a0305e44a",
   "metadata": {},
   "outputs": [],
   "source": [
    "def rename_segment(run):\n",
    "    run = run.rename(columns={\"segment\": \"text\"})\n",
    "    return run\n",
    "rename_pipe = pt.apply.generic(rename_segment)"
   ]
  },
  {
   "cell_type": "code",
   "execution_count": 11,
   "id": "da2c9fa9-963a-4370-9c9f-1c805bed29e9",
   "metadata": {},
   "outputs": [
    {
     "name": "stderr",
     "output_type": "stream",
     "text": [
      "You are using the default legacy behaviour of the <class 'transformers.models.t5.tokenization_t5.T5Tokenizer'>. This is expected, and simply means that the `legacy` (previous) behavior will be used so nothing changes for you. If you want to use the new behaviour, set `legacy=False`. This should only be set if you understand what it means, and thoroughly read the reason why this was added as explained in https://github.com/huggingface/transformers/pull/24565\n"
     ]
    }
   ],
   "source": [
    "import pyterrier_alpha as pta\n",
    "from pyterrier_pisa import PisaIndex\n",
    "from pyterrier_t5 import MonoT5ReRanker\n",
    "\n",
    "index = pta.Artifact.from_hf('namawho/msmarco-segment-v2.1.pisa')\n",
    "bm25_ret = index.bm25() >> pt.text.get_text(pt_dataset, \"segment\") >> rename_pipe\n",
    "\n",
    "monoT5 = MonoT5ReRanker(batch_size=64, verbose=False)\n",
    "monoT5_ret = bm25_ret % 10 >> monoT5"
   ]
  },
  {
   "cell_type": "markdown",
   "id": "62bf39de-7eb2-4c4d-95d7-567d2223aaa9",
   "metadata": {},
   "source": [
    "# Building a baseline retrieval run to generate baseline nuggets"
   ]
  },
  {
   "cell_type": "code",
   "execution_count": 12,
   "id": "a8f7a963-1f70-4b5f-85c3-820f8089e370",
   "metadata": {},
   "outputs": [],
   "source": [
    "from datasets import load_dataset\n",
    "dataset = load_dataset(\"namawho/trec-raggy-dev\")[\"validation\"].to_pandas()\n",
    "topics_df  = dataset[[\"qid\", \"query\"]]\n",
    "answers_df = dataset[[\"qid\", \"query\", \"gold_answer\"]]"
   ]
  },
  {
   "cell_type": "code",
   "execution_count": 13,
   "id": "a1b1e4a1-24d9-42bb-9a26-ffae53ca5fac",
   "metadata": {},
   "outputs": [
    {
     "name": "stderr",
     "output_type": "stream",
     "text": [
      "Passing a tuple of `past_key_values` is deprecated and will be removed in Transformers v4.48.0. You should pass an instance of `EncoderDecoderCache` instead, e.g. `past_key_values=EncoderDecoderCache.from_legacy_cache(past_key_values)`.\n"
     ]
    },
    {
     "data": {
      "text/html": [
       "<div>\n",
       "<style scoped>\n",
       "    .dataframe tbody tr th:only-of-type {\n",
       "        vertical-align: middle;\n",
       "    }\n",
       "\n",
       "    .dataframe tbody tr th {\n",
       "        vertical-align: top;\n",
       "    }\n",
       "\n",
       "    .dataframe thead th {\n",
       "        text-align: right;\n",
       "    }\n",
       "</style>\n",
       "<table border=\"1\" class=\"dataframe\">\n",
       "  <thead>\n",
       "    <tr style=\"text-align: right;\">\n",
       "      <th></th>\n",
       "      <th>qid</th>\n",
       "      <th>query</th>\n",
       "      <th>docno</th>\n",
       "      <th>text</th>\n",
       "      <th>score</th>\n",
       "      <th>rank</th>\n",
       "    </tr>\n",
       "  </thead>\n",
       "  <tbody>\n",
       "    <tr>\n",
       "      <th>0</th>\n",
       "      <td>23287</td>\n",
       "      <td>are landlords liable if someone breaks in a hu...</td>\n",
       "      <td>msmarco_v2.1_doc_02_759557285#0_1325339642</td>\n",
       "      <td>Is a landlord liable if a tenant or visitor is...</td>\n",
       "      <td>-0.002110</td>\n",
       "      <td>0</td>\n",
       "    </tr>\n",
       "    <tr>\n",
       "      <th>1</th>\n",
       "      <td>23287</td>\n",
       "      <td>are landlords liable if someone breaks in a hu...</td>\n",
       "      <td>msmarco_v2.1_doc_48_841527758#3_1529122925</td>\n",
       "      <td>1996), reh'g denied (1996).) If a landlord is ...</td>\n",
       "      <td>-0.035341</td>\n",
       "      <td>6</td>\n",
       "    </tr>\n",
       "    <tr>\n",
       "      <th>2</th>\n",
       "      <td>23287</td>\n",
       "      <td>are landlords liable if someone breaks in a hu...</td>\n",
       "      <td>msmarco_v2.1_doc_02_759557285#1_1325342568</td>\n",
       "      <td>To do this, the injured person must show that:...</td>\n",
       "      <td>-0.003268</td>\n",
       "      <td>1</td>\n",
       "    </tr>\n",
       "    <tr>\n",
       "      <th>3</th>\n",
       "      <td>23287</td>\n",
       "      <td>are landlords liable if someone breaks in a hu...</td>\n",
       "      <td>msmarco_v2.1_doc_48_841527758#12_1529136555</td>\n",
       "      <td>But if the tenant has a month-to-month rental ...</td>\n",
       "      <td>-0.027580</td>\n",
       "      <td>5</td>\n",
       "    </tr>\n",
       "    <tr>\n",
       "      <th>4</th>\n",
       "      <td>23287</td>\n",
       "      <td>are landlords liable if someone breaks in a hu...</td>\n",
       "      <td>msmarco_v2.1_doc_48_841527758#11_1529134815</td>\n",
       "      <td>most courts hold landlords liable for knowing ...</td>\n",
       "      <td>-0.065491</td>\n",
       "      <td>8</td>\n",
       "    </tr>\n",
       "    <tr>\n",
       "      <th>...</th>\n",
       "      <td>...</td>\n",
       "      <td>...</td>\n",
       "      <td>...</td>\n",
       "      <td>...</td>\n",
       "      <td>...</td>\n",
       "      <td>...</td>\n",
       "    </tr>\n",
       "    <tr>\n",
       "      <th>95</th>\n",
       "      <td>395948</td>\n",
       "      <td>information about who howard gardner and what ...</td>\n",
       "      <td>msmarco_v2.1_doc_43_701261032#3_1477785431</td>\n",
       "      <td>Multiple Intelligences Test\\nBased on the work...</td>\n",
       "      <td>-4.660833</td>\n",
       "      <td>8</td>\n",
       "    </tr>\n",
       "    <tr>\n",
       "      <th>96</th>\n",
       "      <td>395948</td>\n",
       "      <td>information about who howard gardner and what ...</td>\n",
       "      <td>msmarco_v2.1_doc_45_911384240#2_1740648328</td>\n",
       "      <td>He is the director of Harvard Project Zero , A...</td>\n",
       "      <td>-0.016688</td>\n",
       "      <td>2</td>\n",
       "    </tr>\n",
       "    <tr>\n",
       "      <th>97</th>\n",
       "      <td>395948</td>\n",
       "      <td>information about who howard gardner and what ...</td>\n",
       "      <td>msmarco_v2.1_doc_01_1630976798#1_2378503407</td>\n",
       "      <td>and some of the issues around its conceptualiz...</td>\n",
       "      <td>-0.748225</td>\n",
       "      <td>6</td>\n",
       "    </tr>\n",
       "    <tr>\n",
       "      <th>98</th>\n",
       "      <td>395948</td>\n",
       "      <td>information about who howard gardner and what ...</td>\n",
       "      <td>msmarco_v2.1_doc_44_376498252#0_936606965</td>\n",
       "      <td>Multiple Intelligences (Howard Gardner) - Inst...</td>\n",
       "      <td>-5.776028</td>\n",
       "      <td>9</td>\n",
       "    </tr>\n",
       "    <tr>\n",
       "      <th>99</th>\n",
       "      <td>395948</td>\n",
       "      <td>information about who howard gardner and what ...</td>\n",
       "      <td>msmarco_v2.1_doc_26_1758869456#6_3043248021</td>\n",
       "      <td>nine\\nThose who define intelligence as academi...</td>\n",
       "      <td>-4.245891</td>\n",
       "      <td>7</td>\n",
       "    </tr>\n",
       "  </tbody>\n",
       "</table>\n",
       "<p>100 rows × 6 columns</p>\n",
       "</div>"
      ],
      "text/plain": [
       "       qid                                              query  \\\n",
       "0    23287  are landlords liable if someone breaks in a hu...   \n",
       "1    23287  are landlords liable if someone breaks in a hu...   \n",
       "2    23287  are landlords liable if someone breaks in a hu...   \n",
       "3    23287  are landlords liable if someone breaks in a hu...   \n",
       "4    23287  are landlords liable if someone breaks in a hu...   \n",
       "..     ...                                                ...   \n",
       "95  395948  information about who howard gardner and what ...   \n",
       "96  395948  information about who howard gardner and what ...   \n",
       "97  395948  information about who howard gardner and what ...   \n",
       "98  395948  information about who howard gardner and what ...   \n",
       "99  395948  information about who howard gardner and what ...   \n",
       "\n",
       "                                          docno  \\\n",
       "0    msmarco_v2.1_doc_02_759557285#0_1325339642   \n",
       "1    msmarco_v2.1_doc_48_841527758#3_1529122925   \n",
       "2    msmarco_v2.1_doc_02_759557285#1_1325342568   \n",
       "3   msmarco_v2.1_doc_48_841527758#12_1529136555   \n",
       "4   msmarco_v2.1_doc_48_841527758#11_1529134815   \n",
       "..                                          ...   \n",
       "95   msmarco_v2.1_doc_43_701261032#3_1477785431   \n",
       "96   msmarco_v2.1_doc_45_911384240#2_1740648328   \n",
       "97  msmarco_v2.1_doc_01_1630976798#1_2378503407   \n",
       "98    msmarco_v2.1_doc_44_376498252#0_936606965   \n",
       "99  msmarco_v2.1_doc_26_1758869456#6_3043248021   \n",
       "\n",
       "                                                 text     score  rank  \n",
       "0   Is a landlord liable if a tenant or visitor is... -0.002110     0  \n",
       "1   1996), reh'g denied (1996).) If a landlord is ... -0.035341     6  \n",
       "2   To do this, the injured person must show that:... -0.003268     1  \n",
       "3   But if the tenant has a month-to-month rental ... -0.027580     5  \n",
       "4   most courts hold landlords liable for knowing ... -0.065491     8  \n",
       "..                                                ...       ...   ...  \n",
       "95  Multiple Intelligences Test\\nBased on the work... -4.660833     8  \n",
       "96  He is the director of Harvard Project Zero , A... -0.016688     2  \n",
       "97  and some of the issues around its conceptualiz... -0.748225     6  \n",
       "98  Multiple Intelligences (Howard Gardner) - Inst... -5.776028     9  \n",
       "99  nine\\nThose who define intelligence as academi... -4.245891     7  \n",
       "\n",
       "[100 rows x 6 columns]"
      ]
     },
     "execution_count": 13,
     "metadata": {},
     "output_type": "execute_result"
    }
   ],
   "source": [
    "baseline = (monoT5_ret)(topics_df.head(10))\n",
    "baseline"
   ]
  },
  {
   "cell_type": "markdown",
   "id": "010b0d35-68e3-4918-97a9-440209c0d7b3",
   "metadata": {},
   "source": [
    "# Nuggetizer setup"
   ]
  },
  {
   "cell_type": "code",
   "execution_count": 14,
   "id": "d428aa08-c6ce-4f9f-962d-e69791e08f5b",
   "metadata": {},
   "outputs": [
    {
     "name": "stderr",
     "output_type": "stream",
     "text": [
      "You have set `use_cache` to `False`, but cache_implementation is set to hybrid. cache_implementation will have no effect.\n",
      "/opt/miniconda3/envs/pyterrier_rag_dev/lib/python3.10/site-packages/awq/__init__.py:21: DeprecationWarning: \n",
      "I have left this message as the final dev message to help you transition.\n",
      "\n",
      "Important Notice:\n",
      "- AutoAWQ is officially deprecated and will no longer be maintained.\n",
      "- The last tested configuration used Torch 2.6.0 and Transformers 4.51.3.\n",
      "- If future versions of Transformers break AutoAWQ compatibility, please report the issue to the Transformers project.\n",
      "\n",
      "Alternative:\n",
      "- AutoAWQ has been adopted by the vLLM Project: https://github.com/vllm-project/llm-compressor\n",
      "\n",
      "For further inquiries, feel free to reach out:\n",
      "- X: https://x.com/casper_hansen_\n",
      "- LinkedIn: https://www.linkedin.com/in/casper-hansen-804005170/\n",
      "\n",
      "  warnings.warn(_FINAL_DEV_MESSAGE, category=DeprecationWarning, stacklevel=1)\n",
      "Loading checkpoint shards: 100%|████████████████████████████████████████████████████████████████████████████████████████████████| 2/2 [00:00<00:00,  2.01it/s]\n"
     ]
    }
   ],
   "source": [
    "from pyterrier_rag.backend import HuggingFaceBackend\n",
    "\n",
    "backend =  HuggingFaceBackend(\"hugging-quants/gemma-2-9b-it-AWQ-INT4\",\n",
    "                                          max_new_tokens=2048,\n",
    "                                          model_args={\n",
    "                                              \"device_map\": \"cuda\"\n",
    "                                          }\n",
    "                                         )\n",
    "# backend =  HuggingFaceBackend(\"hugging-quants/Meta-Llama-3.1-70B-Instruct-AWQ-INT4\",\n",
    "#                                           max_new_tokens=2048,\n",
    "#                                           model_args={\n",
    "#                                               \"device_map\": \"auto\"\n",
    "#                                           }\n",
    "#                                          )"
   ]
  },
  {
   "cell_type": "code",
   "execution_count": 15,
   "id": "ed0516ff-760b-46d0-b1c7-ccc3e3fd9bb4",
   "metadata": {},
   "outputs": [],
   "source": [
    "from fastchat.conversation import register_conv_template, get_conv_template, Conversation, SeparatorStyle\n",
    "\n",
    "register_conv_template(\n",
    "    Conversation(\n",
    "        name=\"meta-llama-3.1-sp\",\n",
    "        system_message=\"\",\n",
    "        roles=(\"user\", \"assistant\"),\n",
    "        sep_style=SeparatorStyle.ADD_COLON_SINGLE,\n",
    "        sep=\"\\n\",\n",
    "        messages=[],\n",
    "    )\n",
    ")\n",
    "\n",
    "conv_template = get_conv_template(\"meta-llama-3.1-sp\")"
   ]
  },
  {
   "cell_type": "code",
   "execution_count": 16,
   "id": "15180598-f175-4882-8c1b-44232c8a76d6",
   "metadata": {},
   "outputs": [],
   "source": [
    "import pandas as pd\n",
    "\n",
    "def save_csv(path, content):\n",
    "    content.to_csv(path, index=False)\n",
    "\n",
    "def load_csv(path):\n",
    "    try:\n",
    "        content = pd.read_csv(path)\n",
    "        return content\n",
    "    except Exception:\n",
    "        return None"
   ]
  },
  {
   "cell_type": "code",
   "execution_count": 17,
   "id": "bec0c3eb-3896-4f50-adc8-eaef610d51af",
   "metadata": {},
   "outputs": [
    {
     "name": "stdout",
     "output_type": "stream",
     "text": [
      "Registered measures:\n",
      "Accuracy\n",
      "AP\n",
      "MAP\n",
      "BPM\n",
      "Bpref\n",
      "BPref\n",
      "Compat\n",
      "ERR_IA\n",
      "nERR_IA\n",
      "alpha_DCG\n",
      "α_DCG\n",
      "alpha_nDCG\n",
      "α_nDCG\n",
      "NRBP\n",
      "nNRBP\n",
      "AP_IA\n",
      "MAP_IA\n",
      "P_IA\n",
      "StRecall\n",
      "ERR\n",
      "INST\n",
      "INSQ\n",
      "infAP\n",
      "IPrec\n",
      "Judged\n",
      "nDCG\n",
      "NDCG\n",
      "NERR8\n",
      "NERR9\n",
      "NERR10\n",
      "NERR11\n",
      "NumQ\n",
      "NumRel\n",
      "NumRet\n",
      "NumRelRet\n",
      "P\n",
      "Precision\n",
      "R\n",
      "Recall\n",
      "RBP\n",
      "Rprec\n",
      "RPrec\n",
      "RR\n",
      "MRR\n",
      "SDCG\n",
      "SetP\n",
      "SetRelP\n",
      "SetR\n",
      "SetF\n",
      "SetAP\n",
      "Success\n",
      "AllScore\n",
      "VitalScore\n",
      "WeightedScore\n",
      "Registered measures with details:\n"
     ]
    }
   ],
   "source": [
    "from open_nuggetizer.nuggetizer import Nuggetizer\n",
    "\n",
    "nuggetizer = Nuggetizer(\n",
    "    backend=backend, \n",
    "    conversation_template=conv_template,\n",
    "    verbose=True\n",
    ")\n",
    "\n",
    "nuggets = load_csv(\"nuggets.csv\")\n",
    "if nuggets is None:\n",
    "    nuggets = nuggetizer.create(baseline)\n",
    "    save_csv(\"nuggets.csv\", nuggets)\n",
    "\n",
    "scored_nuggets = load_csv(\"scored_nuggets.csv\")\n",
    "if scored_nuggets is None:\n",
    "    scored_nuggets = nuggetizer.score(nuggets)\n",
    "    save_csv(\"scored_nuggets.csv\", scored_nuggets)"
   ]
  },
  {
   "cell_type": "markdown",
   "id": "221e6935-f55d-4b68-a9cf-e517e9f20727",
   "metadata": {},
   "source": [
    "# Evaluation"
   ]
  },
  {
   "cell_type": "code",
   "execution_count": 18,
   "id": "bd8df853-4120-442c-ad08-6ccd743bbc97",
   "metadata": {},
   "outputs": [
    {
     "data": {
      "text/html": [
       "<div>\n",
       "<style scoped>\n",
       "    .dataframe tbody tr th:only-of-type {\n",
       "        vertical-align: middle;\n",
       "    }\n",
       "\n",
       "    .dataframe tbody tr th {\n",
       "        vertical-align: top;\n",
       "    }\n",
       "\n",
       "    .dataframe thead th {\n",
       "        text-align: right;\n",
       "    }\n",
       "</style>\n",
       "<table border=\"1\" class=\"dataframe\">\n",
       "  <thead>\n",
       "    <tr style=\"text-align: right;\">\n",
       "      <th></th>\n",
       "      <th>prompt</th>\n",
       "      <th>qid</th>\n",
       "      <th>query_0</th>\n",
       "      <th>qanswer</th>\n",
       "    </tr>\n",
       "  </thead>\n",
       "  <tbody>\n",
       "    <tr>\n",
       "      <th>0</th>\n",
       "      <td>You are an helpful assistant.\\nuser: Use the c...</td>\n",
       "      <td>23287</td>\n",
       "      <td>are landlords liable if someone breaks in a hu...</td>\n",
       "      <td>It depends on the specific circumstances and l...</td>\n",
       "    </tr>\n",
       "    <tr>\n",
       "      <th>1</th>\n",
       "      <td>You are an helpful assistant.\\nuser: Use the c...</td>\n",
       "      <td>30611</td>\n",
       "      <td>average age of men at marriage</td>\n",
       "      <td>\\n Answer:\\n\\n</td>\n",
       "    </tr>\n",
       "  </tbody>\n",
       "</table>\n",
       "</div>"
      ],
      "text/plain": [
       "                                              prompt    qid  \\\n",
       "0  You are an helpful assistant.\\nuser: Use the c...  23287   \n",
       "1  You are an helpful assistant.\\nuser: Use the c...  30611   \n",
       "\n",
       "                                             query_0  \\\n",
       "0  are landlords liable if someone breaks in a hu...   \n",
       "1                     average age of men at marriage   \n",
       "\n",
       "                                             qanswer  \n",
       "0  It depends on the specific circumstances and l...  \n",
       "1                                     \\n Answer:\\n\\n  "
      ]
     },
     "execution_count": 18,
     "metadata": {},
     "output_type": "execute_result"
    }
   ],
   "source": [
    "from pyterrier_rag.prompt import Concatenator\n",
    "from pyterrier_rag.readers import Reader\n",
    "from pyterrier_rag.prompt import PromptTransformer\n",
    "from jinja2 import Template\n",
    "\n",
    "def make_callable_template(template: Template):\n",
    "    def template_call(**kwargs):\n",
    "        return template.render(**kwargs)\n",
    "\n",
    "    return template_call\n",
    "\n",
    "GENERIC_PROMPT = Template(\n",
    "    \"Use the context information to answer the Question: \\n Context: {{ context }} \\n Question: {{ query }} \\n Answer:\"\n",
    ")\n",
    "\n",
    "prompt = PromptTransformer(\n",
    "            instruction=make_callable_template(GENERIC_PROMPT),\n",
    "            system_message=\"You are an helpful assistant.\",\n",
    "            conversation_template=conv_template,\n",
    "            input_fields=[\n",
    "                \"qcontext\",\n",
    "                \"query\",\n",
    "            ],\n",
    "        )\n",
    "\n",
    "reader = Reader(backend, prompt)\n",
    "rag_pipeline = monoT5_ret % 3 >> Concatenator() >> reader\n",
    "\n",
    "results = (rag_pipeline)(topics_df.head(2))\n",
    "results"
   ]
  },
  {
   "cell_type": "code",
   "execution_count": 19,
   "id": "a6e553ef",
   "metadata": {},
   "outputs": [
    {
     "name": "stdout",
     "output_type": "stream",
     "text": [
      "<open_nuggetizer.measure._provider.NuggetEvalProvider object at 0x7f3999f90880>\n",
      "[AllScore(partial_rel=ANY,strict=ANY), VitalScore(rel=ANY,partial_rel=ANY,strict=ANY), WeightedScore(rel=ANY,partial_rel=ANY,partial_weight=ANY)]\n",
      "VitalScore\n",
      "WeightedScore\n",
      "AllScore\n"
     ]
    }
   ],
   "source": [
    "from ir_measures import measures, providers\n",
    "print(providers.registry['nugget_provider'])\n",
    "print(providers.registry[\"nugget_provider\"].SUPPORTED_MEASURES)\n",
    "print(measures.registry['VitalScore'])\n",
    "print(measures.registry['WeightedScore'])\n",
    "print(measures.registry['AllScore'])"
   ]
  },
  {
   "cell_type": "code",
   "execution_count": null,
   "id": "f050527d-4725-4be2-88bc-ebb3debe9271",
   "metadata": {},
   "outputs": [
    {
     "name": "stdout",
     "output_type": "stream",
     "text": [
      "> \u001b[0;32m/mnt/primary/projects/open-nuggetizer/src/open_nuggetizer/nuggetizer.py\u001b[0m(142)\u001b[0;36m__getattr__\u001b[0;34m()\u001b[0m\n",
      "\u001b[0;32m    140 \u001b[0;31m        \u001b[0;32mif\u001b[0m \u001b[0mmeasure\u001b[0m \u001b[0;32mis\u001b[0m \u001b[0;32mnot\u001b[0m \u001b[0;32mNone\u001b[0m\u001b[0;34m:\u001b[0m\u001b[0;34m\u001b[0m\u001b[0;34m\u001b[0m\u001b[0m\n",
      "\u001b[0m\u001b[0;32m    141 \u001b[0;31m            \u001b[0mpdb\u001b[0m\u001b[0;34m.\u001b[0m\u001b[0mset_trace\u001b[0m\u001b[0;34m(\u001b[0m\u001b[0;34m)\u001b[0m\u001b[0;34m\u001b[0m\u001b[0;34m\u001b[0m\u001b[0m\n",
      "\u001b[0m\u001b[0;32m--> 142 \u001b[0;31m            \u001b[0;32mreturn\u001b[0m \u001b[0mmeasure\u001b[0m\u001b[0;34m\u001b[0m\u001b[0;34m\u001b[0m\u001b[0m\n",
      "\u001b[0m\u001b[0;32m    143 \u001b[0;31m        \u001b[0;32mreturn\u001b[0m \u001b[0mself\u001b[0m\u001b[0;34m.\u001b[0m\u001b[0m__getattribute__\u001b[0m\u001b[0;34m(\u001b[0m\u001b[0mattr\u001b[0m\u001b[0;34m)\u001b[0m\u001b[0;34m\u001b[0m\u001b[0;34m\u001b[0m\u001b[0m\n",
      "\u001b[0m\u001b[0;32m    144 \u001b[0;31m        \u001b[0;31m# SUPPORTED_MEASURES = [\"_VitalScore\", \"WeightedScore\", \"AllScore\"]\u001b[0m\u001b[0;34m\u001b[0m\u001b[0;34m\u001b[0m\u001b[0m\n",
      "\u001b[0m\n"
     ]
    },
    {
     "name": "stdin",
     "output_type": "stream",
     "text": [
      "ipdb>  n\n"
     ]
    },
    {
     "name": "stdout",
     "output_type": "stream",
     "text": [
      "--Return--\n",
      "Nuggetizer(ba...30).VitalScore\n",
      "> \u001b[0;32m/mnt/primary/projects/open-nuggetizer/src/open_nuggetizer/nuggetizer.py\u001b[0m(142)\u001b[0;36m__getattr__\u001b[0;34m()\u001b[0m\n",
      "\u001b[0;32m    140 \u001b[0;31m        \u001b[0;32mif\u001b[0m \u001b[0mmeasure\u001b[0m \u001b[0;32mis\u001b[0m \u001b[0;32mnot\u001b[0m \u001b[0;32mNone\u001b[0m\u001b[0;34m:\u001b[0m\u001b[0;34m\u001b[0m\u001b[0;34m\u001b[0m\u001b[0m\n",
      "\u001b[0m\u001b[0;32m    141 \u001b[0;31m            \u001b[0mpdb\u001b[0m\u001b[0;34m.\u001b[0m\u001b[0mset_trace\u001b[0m\u001b[0;34m(\u001b[0m\u001b[0;34m)\u001b[0m\u001b[0;34m\u001b[0m\u001b[0;34m\u001b[0m\u001b[0m\n",
      "\u001b[0m\u001b[0;32m--> 142 \u001b[0;31m            \u001b[0;32mreturn\u001b[0m \u001b[0mmeasure\u001b[0m\u001b[0;34m\u001b[0m\u001b[0;34m\u001b[0m\u001b[0m\n",
      "\u001b[0m\u001b[0;32m    143 \u001b[0;31m        \u001b[0;32mreturn\u001b[0m \u001b[0mself\u001b[0m\u001b[0;34m.\u001b[0m\u001b[0m__getattribute__\u001b[0m\u001b[0;34m(\u001b[0m\u001b[0mattr\u001b[0m\u001b[0;34m)\u001b[0m\u001b[0;34m\u001b[0m\u001b[0;34m\u001b[0m\u001b[0m\n",
      "\u001b[0m\u001b[0;32m    144 \u001b[0;31m        \u001b[0;31m# SUPPORTED_MEASURES = [\"_VitalScore\", \"WeightedScore\", \"AllScore\"]\u001b[0m\u001b[0;34m\u001b[0m\u001b[0;34m\u001b[0m\u001b[0m\n",
      "\u001b[0m\n"
     ]
    },
    {
     "name": "stdin",
     "output_type": "stream",
     "text": [
      "ipdb>  n\n"
     ]
    },
    {
     "name": "stdout",
     "output_type": "stream",
     "text": [
      "--Call--\n",
      "> \u001b[0;32m/opt/miniconda3/envs/pyterrier_rag_dev/lib/python3.10/site-packages/ir_measures/measures/base.py\u001b[0m(58)\u001b[0;36m__call__\u001b[0;34m()\u001b[0m\n",
      "\u001b[0;32m     56 \u001b[0;31m        \u001b[0mself\u001b[0m\u001b[0;34m.\u001b[0m\u001b[0mvalidated\u001b[0m \u001b[0;34m=\u001b[0m \u001b[0;32mTrue\u001b[0m\u001b[0;34m\u001b[0m\u001b[0;34m\u001b[0m\u001b[0m\n",
      "\u001b[0m\u001b[0;32m     57 \u001b[0;31m\u001b[0;34m\u001b[0m\u001b[0m\n",
      "\u001b[0m\u001b[0;32m---> 58 \u001b[0;31m    \u001b[0;32mdef\u001b[0m \u001b[0m__call__\u001b[0m\u001b[0;34m(\u001b[0m\u001b[0mself\u001b[0m\u001b[0;34m,\u001b[0m \u001b[0;34m**\u001b[0m\u001b[0mkwargs\u001b[0m\u001b[0;34m)\u001b[0m\u001b[0;34m:\u001b[0m\u001b[0;34m\u001b[0m\u001b[0;34m\u001b[0m\u001b[0m\n",
      "\u001b[0m\u001b[0;32m     59 \u001b[0;31m        \u001b[0mparams\u001b[0m \u001b[0;34m=\u001b[0m \u001b[0mdict\u001b[0m\u001b[0;34m(\u001b[0m\u001b[0mself\u001b[0m\u001b[0;34m.\u001b[0m\u001b[0mparams\u001b[0m\u001b[0;34m)\u001b[0m\u001b[0;34m\u001b[0m\u001b[0;34m\u001b[0m\u001b[0m\n",
      "\u001b[0m\u001b[0;32m     60 \u001b[0;31m        \u001b[0mparams\u001b[0m\u001b[0;34m.\u001b[0m\u001b[0mupdate\u001b[0m\u001b[0;34m(\u001b[0m\u001b[0mkwargs\u001b[0m\u001b[0;34m)\u001b[0m\u001b[0;34m\u001b[0m\u001b[0;34m\u001b[0m\u001b[0m\n",
      "\u001b[0m\n"
     ]
    },
    {
     "name": "stdin",
     "output_type": "stream",
     "text": [
      "ipdb>  n\n"
     ]
    },
    {
     "name": "stdout",
     "output_type": "stream",
     "text": [
      "> \u001b[0;32m/opt/miniconda3/envs/pyterrier_rag_dev/lib/python3.10/site-packages/ir_measures/measures/base.py\u001b[0m(59)\u001b[0;36m__call__\u001b[0;34m()\u001b[0m\n",
      "\u001b[0;32m     57 \u001b[0;31m\u001b[0;34m\u001b[0m\u001b[0m\n",
      "\u001b[0m\u001b[0;32m     58 \u001b[0;31m    \u001b[0;32mdef\u001b[0m \u001b[0m__call__\u001b[0m\u001b[0;34m(\u001b[0m\u001b[0mself\u001b[0m\u001b[0;34m,\u001b[0m \u001b[0;34m**\u001b[0m\u001b[0mkwargs\u001b[0m\u001b[0;34m)\u001b[0m\u001b[0;34m:\u001b[0m\u001b[0;34m\u001b[0m\u001b[0;34m\u001b[0m\u001b[0m\n",
      "\u001b[0m\u001b[0;32m---> 59 \u001b[0;31m        \u001b[0mparams\u001b[0m \u001b[0;34m=\u001b[0m \u001b[0mdict\u001b[0m\u001b[0;34m(\u001b[0m\u001b[0mself\u001b[0m\u001b[0;34m.\u001b[0m\u001b[0mparams\u001b[0m\u001b[0;34m)\u001b[0m\u001b[0;34m\u001b[0m\u001b[0;34m\u001b[0m\u001b[0m\n",
      "\u001b[0m\u001b[0;32m     60 \u001b[0;31m        \u001b[0mparams\u001b[0m\u001b[0;34m.\u001b[0m\u001b[0mupdate\u001b[0m\u001b[0;34m(\u001b[0m\u001b[0mkwargs\u001b[0m\u001b[0;34m)\u001b[0m\u001b[0;34m\u001b[0m\u001b[0;34m\u001b[0m\u001b[0m\n",
      "\u001b[0m\u001b[0;32m     61 \u001b[0;31m        \u001b[0;32mreturn\u001b[0m \u001b[0mtype\u001b[0m\u001b[0;34m(\u001b[0m\u001b[0mself\u001b[0m\u001b[0;34m)\u001b[0m\u001b[0;34m(\u001b[0m\u001b[0;34m**\u001b[0m\u001b[0mparams\u001b[0m\u001b[0;34m)\u001b[0m\u001b[0;34m\u001b[0m\u001b[0;34m\u001b[0m\u001b[0m\n",
      "\u001b[0m\n"
     ]
    },
    {
     "name": "stdin",
     "output_type": "stream",
     "text": [
      "ipdb>  n\n"
     ]
    },
    {
     "name": "stdout",
     "output_type": "stream",
     "text": [
      "> \u001b[0;32m/opt/miniconda3/envs/pyterrier_rag_dev/lib/python3.10/site-packages/ir_measures/measures/base.py\u001b[0m(60)\u001b[0;36m__call__\u001b[0;34m()\u001b[0m\n",
      "\u001b[0;32m     58 \u001b[0;31m    \u001b[0;32mdef\u001b[0m \u001b[0m__call__\u001b[0m\u001b[0;34m(\u001b[0m\u001b[0mself\u001b[0m\u001b[0;34m,\u001b[0m \u001b[0;34m**\u001b[0m\u001b[0mkwargs\u001b[0m\u001b[0;34m)\u001b[0m\u001b[0;34m:\u001b[0m\u001b[0;34m\u001b[0m\u001b[0;34m\u001b[0m\u001b[0m\n",
      "\u001b[0m\u001b[0;32m     59 \u001b[0;31m        \u001b[0mparams\u001b[0m \u001b[0;34m=\u001b[0m \u001b[0mdict\u001b[0m\u001b[0;34m(\u001b[0m\u001b[0mself\u001b[0m\u001b[0;34m.\u001b[0m\u001b[0mparams\u001b[0m\u001b[0;34m)\u001b[0m\u001b[0;34m\u001b[0m\u001b[0;34m\u001b[0m\u001b[0m\n",
      "\u001b[0m\u001b[0;32m---> 60 \u001b[0;31m        \u001b[0mparams\u001b[0m\u001b[0;34m.\u001b[0m\u001b[0mupdate\u001b[0m\u001b[0;34m(\u001b[0m\u001b[0mkwargs\u001b[0m\u001b[0;34m)\u001b[0m\u001b[0;34m\u001b[0m\u001b[0;34m\u001b[0m\u001b[0m\n",
      "\u001b[0m\u001b[0;32m     61 \u001b[0;31m        \u001b[0;32mreturn\u001b[0m \u001b[0mtype\u001b[0m\u001b[0;34m(\u001b[0m\u001b[0mself\u001b[0m\u001b[0;34m)\u001b[0m\u001b[0;34m(\u001b[0m\u001b[0;34m**\u001b[0m\u001b[0mparams\u001b[0m\u001b[0;34m)\u001b[0m\u001b[0;34m\u001b[0m\u001b[0;34m\u001b[0m\u001b[0m\n",
      "\u001b[0m\u001b[0;32m     62 \u001b[0;31m\u001b[0;34m\u001b[0m\u001b[0m\n",
      "\u001b[0m\n"
     ]
    },
    {
     "name": "stdin",
     "output_type": "stream",
     "text": [
      "ipdb>  n\n"
     ]
    },
    {
     "name": "stdout",
     "output_type": "stream",
     "text": [
      "> \u001b[0;32m/opt/miniconda3/envs/pyterrier_rag_dev/lib/python3.10/site-packages/ir_measures/measures/base.py\u001b[0m(61)\u001b[0;36m__call__\u001b[0;34m()\u001b[0m\n",
      "\u001b[0;32m     59 \u001b[0;31m        \u001b[0mparams\u001b[0m \u001b[0;34m=\u001b[0m \u001b[0mdict\u001b[0m\u001b[0;34m(\u001b[0m\u001b[0mself\u001b[0m\u001b[0;34m.\u001b[0m\u001b[0mparams\u001b[0m\u001b[0;34m)\u001b[0m\u001b[0;34m\u001b[0m\u001b[0;34m\u001b[0m\u001b[0m\n",
      "\u001b[0m\u001b[0;32m     60 \u001b[0;31m        \u001b[0mparams\u001b[0m\u001b[0;34m.\u001b[0m\u001b[0mupdate\u001b[0m\u001b[0;34m(\u001b[0m\u001b[0mkwargs\u001b[0m\u001b[0;34m)\u001b[0m\u001b[0;34m\u001b[0m\u001b[0;34m\u001b[0m\u001b[0m\n",
      "\u001b[0m\u001b[0;32m---> 61 \u001b[0;31m        \u001b[0;32mreturn\u001b[0m \u001b[0mtype\u001b[0m\u001b[0;34m(\u001b[0m\u001b[0mself\u001b[0m\u001b[0;34m)\u001b[0m\u001b[0;34m(\u001b[0m\u001b[0;34m**\u001b[0m\u001b[0mparams\u001b[0m\u001b[0;34m)\u001b[0m\u001b[0;34m\u001b[0m\u001b[0;34m\u001b[0m\u001b[0m\n",
      "\u001b[0m\u001b[0;32m     62 \u001b[0;31m\u001b[0;34m\u001b[0m\u001b[0m\n",
      "\u001b[0m\u001b[0;32m     63 \u001b[0;31m    \u001b[0;32mdef\u001b[0m \u001b[0m__matmul__\u001b[0m\u001b[0;34m(\u001b[0m\u001b[0mself\u001b[0m\u001b[0;34m,\u001b[0m \u001b[0mat_param\u001b[0m\u001b[0;34m)\u001b[0m \u001b[0;34m->\u001b[0m \u001b[0;34m'ir_measures.Measure'\u001b[0m\u001b[0;34m:\u001b[0m\u001b[0;34m\u001b[0m\u001b[0;34m\u001b[0m\u001b[0m\n",
      "\u001b[0m\n"
     ]
    },
    {
     "name": "stdin",
     "output_type": "stream",
     "text": [
      "ipdb>  n\n"
     ]
    },
    {
     "name": "stdout",
     "output_type": "stream",
     "text": [
      "--Return--\n",
      "Nuggetizer(ba...30).VitalScore\n",
      "> \u001b[0;32m/opt/miniconda3/envs/pyterrier_rag_dev/lib/python3.10/site-packages/ir_measures/measures/base.py\u001b[0m(61)\u001b[0;36m__call__\u001b[0;34m()\u001b[0m\n",
      "\u001b[0;32m     59 \u001b[0;31m        \u001b[0mparams\u001b[0m \u001b[0;34m=\u001b[0m \u001b[0mdict\u001b[0m\u001b[0;34m(\u001b[0m\u001b[0mself\u001b[0m\u001b[0;34m.\u001b[0m\u001b[0mparams\u001b[0m\u001b[0;34m)\u001b[0m\u001b[0;34m\u001b[0m\u001b[0;34m\u001b[0m\u001b[0m\n",
      "\u001b[0m\u001b[0;32m     60 \u001b[0;31m        \u001b[0mparams\u001b[0m\u001b[0;34m.\u001b[0m\u001b[0mupdate\u001b[0m\u001b[0;34m(\u001b[0m\u001b[0mkwargs\u001b[0m\u001b[0;34m)\u001b[0m\u001b[0;34m\u001b[0m\u001b[0;34m\u001b[0m\u001b[0m\n",
      "\u001b[0m\u001b[0;32m---> 61 \u001b[0;31m        \u001b[0;32mreturn\u001b[0m \u001b[0mtype\u001b[0m\u001b[0;34m(\u001b[0m\u001b[0mself\u001b[0m\u001b[0;34m)\u001b[0m\u001b[0;34m(\u001b[0m\u001b[0;34m**\u001b[0m\u001b[0mparams\u001b[0m\u001b[0;34m)\u001b[0m\u001b[0;34m\u001b[0m\u001b[0;34m\u001b[0m\u001b[0m\n",
      "\u001b[0m\u001b[0;32m     62 \u001b[0;31m\u001b[0;34m\u001b[0m\u001b[0m\n",
      "\u001b[0m\u001b[0;32m     63 \u001b[0;31m    \u001b[0;32mdef\u001b[0m \u001b[0m__matmul__\u001b[0m\u001b[0;34m(\u001b[0m\u001b[0mself\u001b[0m\u001b[0;34m,\u001b[0m \u001b[0mat_param\u001b[0m\u001b[0;34m)\u001b[0m \u001b[0;34m->\u001b[0m \u001b[0;34m'ir_measures.Measure'\u001b[0m\u001b[0;34m:\u001b[0m\u001b[0;34m\u001b[0m\u001b[0;34m\u001b[0m\u001b[0m\n",
      "\u001b[0m\n"
     ]
    },
    {
     "name": "stdin",
     "output_type": "stream",
     "text": [
      "ipdb>  n\n"
     ]
    },
    {
     "name": "stdout",
     "output_type": "stream",
     "text": [
      "--Call--\n",
      "> \u001b[0;32m/opt/miniconda3/envs/pyterrier_rag_dev/lib/python3.10/site-packages/ir_measures/measures/base.py\u001b[0m(70)\u001b[0;36miter_calc\u001b[0;34m()\u001b[0m\n",
      "\u001b[0;32m     68 \u001b[0;31m        \u001b[0;32mreturn\u001b[0m \u001b[0mself\u001b[0m\u001b[0;34m.\u001b[0m\u001b[0mparams\u001b[0m\u001b[0;34m.\u001b[0m\u001b[0mget\u001b[0m\u001b[0;34m(\u001b[0m\u001b[0mkey\u001b[0m\u001b[0;34m,\u001b[0m \u001b[0mdefault\u001b[0m\u001b[0;34m)\u001b[0m\u001b[0;34m\u001b[0m\u001b[0;34m\u001b[0m\u001b[0m\n",
      "\u001b[0m\u001b[0;32m     69 \u001b[0;31m\u001b[0;34m\u001b[0m\u001b[0m\n",
      "\u001b[0m\u001b[0;32m---> 70 \u001b[0;31m    \u001b[0;32mdef\u001b[0m \u001b[0miter_calc\u001b[0m\u001b[0;34m(\u001b[0m\u001b[0mself\u001b[0m\u001b[0;34m,\u001b[0m \u001b[0mqrels\u001b[0m\u001b[0;34m,\u001b[0m \u001b[0mrun\u001b[0m\u001b[0;34m)\u001b[0m \u001b[0;34m->\u001b[0m \u001b[0mIterator\u001b[0m\u001b[0;34m[\u001b[0m\u001b[0mMetric\u001b[0m\u001b[0;34m]\u001b[0m\u001b[0;34m:\u001b[0m\u001b[0;34m\u001b[0m\u001b[0;34m\u001b[0m\u001b[0m\n",
      "\u001b[0m\u001b[0;32m     71 \u001b[0;31m        \u001b[0mself\u001b[0m\u001b[0;34m.\u001b[0m\u001b[0mvalidate_params\u001b[0m\u001b[0;34m(\u001b[0m\u001b[0;34m)\u001b[0m\u001b[0;34m\u001b[0m\u001b[0;34m\u001b[0m\u001b[0m\n",
      "\u001b[0m\u001b[0;32m     72 \u001b[0;31m        \u001b[0;32mreturn\u001b[0m \u001b[0mir_measures\u001b[0m\u001b[0;34m.\u001b[0m\u001b[0miter_calc\u001b[0m\u001b[0;34m(\u001b[0m\u001b[0;34m[\u001b[0m\u001b[0mself\u001b[0m\u001b[0;34m]\u001b[0m\u001b[0;34m,\u001b[0m \u001b[0mqrels\u001b[0m\u001b[0;34m,\u001b[0m \u001b[0mrun\u001b[0m\u001b[0;34m)\u001b[0m\u001b[0;34m\u001b[0m\u001b[0;34m\u001b[0m\u001b[0m\n",
      "\u001b[0m\n"
     ]
    },
    {
     "name": "stdin",
     "output_type": "stream",
     "text": [
      "ipdb>  n\n"
     ]
    },
    {
     "name": "stdout",
     "output_type": "stream",
     "text": [
      "> \u001b[0;32m/opt/miniconda3/envs/pyterrier_rag_dev/lib/python3.10/site-packages/ir_measures/measures/base.py\u001b[0m(71)\u001b[0;36miter_calc\u001b[0;34m()\u001b[0m\n",
      "\u001b[0;32m     69 \u001b[0;31m\u001b[0;34m\u001b[0m\u001b[0m\n",
      "\u001b[0m\u001b[0;32m     70 \u001b[0;31m    \u001b[0;32mdef\u001b[0m \u001b[0miter_calc\u001b[0m\u001b[0;34m(\u001b[0m\u001b[0mself\u001b[0m\u001b[0;34m,\u001b[0m \u001b[0mqrels\u001b[0m\u001b[0;34m,\u001b[0m \u001b[0mrun\u001b[0m\u001b[0;34m)\u001b[0m \u001b[0;34m->\u001b[0m \u001b[0mIterator\u001b[0m\u001b[0;34m[\u001b[0m\u001b[0mMetric\u001b[0m\u001b[0;34m]\u001b[0m\u001b[0;34m:\u001b[0m\u001b[0;34m\u001b[0m\u001b[0;34m\u001b[0m\u001b[0m\n",
      "\u001b[0m\u001b[0;32m---> 71 \u001b[0;31m        \u001b[0mself\u001b[0m\u001b[0;34m.\u001b[0m\u001b[0mvalidate_params\u001b[0m\u001b[0;34m(\u001b[0m\u001b[0;34m)\u001b[0m\u001b[0;34m\u001b[0m\u001b[0;34m\u001b[0m\u001b[0m\n",
      "\u001b[0m\u001b[0;32m     72 \u001b[0;31m        \u001b[0;32mreturn\u001b[0m \u001b[0mir_measures\u001b[0m\u001b[0;34m.\u001b[0m\u001b[0miter_calc\u001b[0m\u001b[0;34m(\u001b[0m\u001b[0;34m[\u001b[0m\u001b[0mself\u001b[0m\u001b[0;34m]\u001b[0m\u001b[0;34m,\u001b[0m \u001b[0mqrels\u001b[0m\u001b[0;34m,\u001b[0m \u001b[0mrun\u001b[0m\u001b[0;34m)\u001b[0m\u001b[0;34m\u001b[0m\u001b[0;34m\u001b[0m\u001b[0m\n",
      "\u001b[0m\u001b[0;32m     73 \u001b[0;31m\u001b[0;34m\u001b[0m\u001b[0m\n",
      "\u001b[0m\n"
     ]
    },
    {
     "name": "stdin",
     "output_type": "stream",
     "text": [
      "ipdb>  n\n"
     ]
    },
    {
     "name": "stdout",
     "output_type": "stream",
     "text": [
      "> \u001b[0;32m/opt/miniconda3/envs/pyterrier_rag_dev/lib/python3.10/site-packages/ir_measures/measures/base.py\u001b[0m(72)\u001b[0;36miter_calc\u001b[0;34m()\u001b[0m\n",
      "\u001b[0;32m     70 \u001b[0;31m    \u001b[0;32mdef\u001b[0m \u001b[0miter_calc\u001b[0m\u001b[0;34m(\u001b[0m\u001b[0mself\u001b[0m\u001b[0;34m,\u001b[0m \u001b[0mqrels\u001b[0m\u001b[0;34m,\u001b[0m \u001b[0mrun\u001b[0m\u001b[0;34m)\u001b[0m \u001b[0;34m->\u001b[0m \u001b[0mIterator\u001b[0m\u001b[0;34m[\u001b[0m\u001b[0mMetric\u001b[0m\u001b[0;34m]\u001b[0m\u001b[0;34m:\u001b[0m\u001b[0;34m\u001b[0m\u001b[0;34m\u001b[0m\u001b[0m\n",
      "\u001b[0m\u001b[0;32m     71 \u001b[0;31m        \u001b[0mself\u001b[0m\u001b[0;34m.\u001b[0m\u001b[0mvalidate_params\u001b[0m\u001b[0;34m(\u001b[0m\u001b[0;34m)\u001b[0m\u001b[0;34m\u001b[0m\u001b[0;34m\u001b[0m\u001b[0m\n",
      "\u001b[0m\u001b[0;32m---> 72 \u001b[0;31m        \u001b[0;32mreturn\u001b[0m \u001b[0mir_measures\u001b[0m\u001b[0;34m.\u001b[0m\u001b[0miter_calc\u001b[0m\u001b[0;34m(\u001b[0m\u001b[0;34m[\u001b[0m\u001b[0mself\u001b[0m\u001b[0;34m]\u001b[0m\u001b[0;34m,\u001b[0m \u001b[0mqrels\u001b[0m\u001b[0;34m,\u001b[0m \u001b[0mrun\u001b[0m\u001b[0;34m)\u001b[0m\u001b[0;34m\u001b[0m\u001b[0;34m\u001b[0m\u001b[0m\n",
      "\u001b[0m\u001b[0;32m     73 \u001b[0;31m\u001b[0;34m\u001b[0m\u001b[0m\n",
      "\u001b[0m\u001b[0;32m     74 \u001b[0;31m    \u001b[0;32mdef\u001b[0m \u001b[0mcalc_aggregate\u001b[0m\u001b[0;34m(\u001b[0m\u001b[0mself\u001b[0m\u001b[0;34m,\u001b[0m \u001b[0mqrels\u001b[0m\u001b[0;34m,\u001b[0m \u001b[0mrun\u001b[0m\u001b[0;34m)\u001b[0m \u001b[0;34m->\u001b[0m \u001b[0mUnion\u001b[0m\u001b[0;34m[\u001b[0m\u001b[0mfloat\u001b[0m\u001b[0;34m,\u001b[0m \u001b[0mint\u001b[0m\u001b[0;34m]\u001b[0m\u001b[0;34m:\u001b[0m\u001b[0;34m\u001b[0m\u001b[0;34m\u001b[0m\u001b[0m\n",
      "\u001b[0m\n"
     ]
    },
    {
     "name": "stdin",
     "output_type": "stream",
     "text": [
      "ipdb>  n\n"
     ]
    },
    {
     "name": "stdout",
     "output_type": "stream",
     "text": [
      "--Return--\n",
      "<generator ob...x7f391a3fb060>\n",
      "> \u001b[0;32m/opt/miniconda3/envs/pyterrier_rag_dev/lib/python3.10/site-packages/ir_measures/measures/base.py\u001b[0m(72)\u001b[0;36miter_calc\u001b[0;34m()\u001b[0m\n",
      "\u001b[0;32m     70 \u001b[0;31m    \u001b[0;32mdef\u001b[0m \u001b[0miter_calc\u001b[0m\u001b[0;34m(\u001b[0m\u001b[0mself\u001b[0m\u001b[0;34m,\u001b[0m \u001b[0mqrels\u001b[0m\u001b[0;34m,\u001b[0m \u001b[0mrun\u001b[0m\u001b[0;34m)\u001b[0m \u001b[0;34m->\u001b[0m \u001b[0mIterator\u001b[0m\u001b[0;34m[\u001b[0m\u001b[0mMetric\u001b[0m\u001b[0;34m]\u001b[0m\u001b[0;34m:\u001b[0m\u001b[0;34m\u001b[0m\u001b[0;34m\u001b[0m\u001b[0m\n",
      "\u001b[0m\u001b[0;32m     71 \u001b[0;31m        \u001b[0mself\u001b[0m\u001b[0;34m.\u001b[0m\u001b[0mvalidate_params\u001b[0m\u001b[0;34m(\u001b[0m\u001b[0;34m)\u001b[0m\u001b[0;34m\u001b[0m\u001b[0;34m\u001b[0m\u001b[0m\n",
      "\u001b[0m\u001b[0;32m---> 72 \u001b[0;31m        \u001b[0;32mreturn\u001b[0m \u001b[0mir_measures\u001b[0m\u001b[0;34m.\u001b[0m\u001b[0miter_calc\u001b[0m\u001b[0;34m(\u001b[0m\u001b[0;34m[\u001b[0m\u001b[0mself\u001b[0m\u001b[0;34m]\u001b[0m\u001b[0;34m,\u001b[0m \u001b[0mqrels\u001b[0m\u001b[0;34m,\u001b[0m \u001b[0mrun\u001b[0m\u001b[0;34m)\u001b[0m\u001b[0;34m\u001b[0m\u001b[0;34m\u001b[0m\u001b[0m\n",
      "\u001b[0m\u001b[0;32m     73 \u001b[0;31m\u001b[0;34m\u001b[0m\u001b[0m\n",
      "\u001b[0m\u001b[0;32m     74 \u001b[0;31m    \u001b[0;32mdef\u001b[0m \u001b[0mcalc_aggregate\u001b[0m\u001b[0;34m(\u001b[0m\u001b[0mself\u001b[0m\u001b[0;34m,\u001b[0m \u001b[0mqrels\u001b[0m\u001b[0;34m,\u001b[0m \u001b[0mrun\u001b[0m\u001b[0;34m)\u001b[0m \u001b[0;34m->\u001b[0m \u001b[0mUnion\u001b[0m\u001b[0;34m[\u001b[0m\u001b[0mfloat\u001b[0m\u001b[0;34m,\u001b[0m \u001b[0mint\u001b[0m\u001b[0;34m]\u001b[0m\u001b[0;34m:\u001b[0m\u001b[0;34m\u001b[0m\u001b[0;34m\u001b[0m\u001b[0m\n",
      "\u001b[0m\n"
     ]
    },
    {
     "name": "stdin",
     "output_type": "stream",
     "text": [
      "ipdb>  n\n"
     ]
    },
    {
     "name": "stdout",
     "output_type": "stream",
     "text": [
      "--Call--\n",
      "> \u001b[0;32m/opt/miniconda3/envs/pyterrier_rag_dev/lib/python3.10/site-packages/ir_measures/providers/base.py\u001b[0m(18)\u001b[0;36miter_calc\u001b[0;34m()\u001b[0m\n",
      "\u001b[0;32m     16 \u001b[0;31m        \u001b[0mself\u001b[0m\u001b[0;34m.\u001b[0m\u001b[0mqrel_qids\u001b[0m \u001b[0;34m=\u001b[0m \u001b[0mqrel_qids\u001b[0m\u001b[0;34m\u001b[0m\u001b[0;34m\u001b[0m\u001b[0m\n",
      "\u001b[0m\u001b[0;32m     17 \u001b[0;31m\u001b[0;34m\u001b[0m\u001b[0m\n",
      "\u001b[0m\u001b[0;32m---> 18 \u001b[0;31m    \u001b[0;32mdef\u001b[0m \u001b[0miter_calc\u001b[0m\u001b[0;34m(\u001b[0m\u001b[0mself\u001b[0m\u001b[0;34m,\u001b[0m \u001b[0mrun\u001b[0m\u001b[0;34m:\u001b[0m \u001b[0mTYPE_RUN\u001b[0m\u001b[0;34m)\u001b[0m \u001b[0;34m->\u001b[0m \u001b[0mIterator\u001b[0m\u001b[0;34m[\u001b[0m\u001b[0mMetric\u001b[0m\u001b[0;34m]\u001b[0m\u001b[0;34m:\u001b[0m\u001b[0;34m\u001b[0m\u001b[0;34m\u001b[0m\u001b[0m\n",
      "\u001b[0m\u001b[0;32m     19 \u001b[0;31m        \"\"\"\n",
      "\u001b[0m\u001b[0;32m     20 \u001b[0;31m        \u001b[0mYields\u001b[0m \u001b[0mper\u001b[0m\u001b[0;34m-\u001b[0m\u001b[0mtopic\u001b[0m \u001b[0mmetrics\u001b[0m \u001b[0mthis\u001b[0m \u001b[0mrun\u001b[0m\u001b[0;34m.\u001b[0m\u001b[0;34m\u001b[0m\u001b[0;34m\u001b[0m\u001b[0m\n",
      "\u001b[0m\n"
     ]
    },
    {
     "name": "stdin",
     "output_type": "stream",
     "text": [
      "ipdb>  n\n"
     ]
    },
    {
     "name": "stdout",
     "output_type": "stream",
     "text": [
      "> \u001b[0;32m/opt/miniconda3/envs/pyterrier_rag_dev/lib/python3.10/site-packages/ir_measures/providers/base.py\u001b[0m(22)\u001b[0;36miter_calc\u001b[0;34m()\u001b[0m\n",
      "\u001b[0;32m     20 \u001b[0;31m        \u001b[0mYields\u001b[0m \u001b[0mper\u001b[0m\u001b[0;34m-\u001b[0m\u001b[0mtopic\u001b[0m \u001b[0mmetrics\u001b[0m \u001b[0mthis\u001b[0m \u001b[0mrun\u001b[0m\u001b[0;34m.\u001b[0m\u001b[0;34m\u001b[0m\u001b[0;34m\u001b[0m\u001b[0m\n",
      "\u001b[0m\u001b[0;32m     21 \u001b[0;31m        \"\"\"\n",
      "\u001b[0m\u001b[0;32m---> 22 \u001b[0;31m        \u001b[0mexpected_measure_qids\u001b[0m \u001b[0;34m=\u001b[0m \u001b[0mset\u001b[0m\u001b[0;34m(\u001b[0m\u001b[0mitertools\u001b[0m\u001b[0;34m.\u001b[0m\u001b[0mproduct\u001b[0m\u001b[0;34m(\u001b[0m\u001b[0mself\u001b[0m\u001b[0;34m.\u001b[0m\u001b[0mmeasures\u001b[0m\u001b[0;34m,\u001b[0m \u001b[0mself\u001b[0m\u001b[0;34m.\u001b[0m\u001b[0mqrel_qids\u001b[0m\u001b[0;34m)\u001b[0m\u001b[0;34m)\u001b[0m\u001b[0;34m\u001b[0m\u001b[0;34m\u001b[0m\u001b[0m\n",
      "\u001b[0m\u001b[0;32m     23 \u001b[0;31m        \u001b[0;32mfor\u001b[0m \u001b[0mmetric\u001b[0m \u001b[0;32min\u001b[0m \u001b[0mself\u001b[0m\u001b[0;34m.\u001b[0m\u001b[0m_iter_calc\u001b[0m\u001b[0;34m(\u001b[0m\u001b[0mrun\u001b[0m\u001b[0;34m)\u001b[0m\u001b[0;34m:\u001b[0m\u001b[0;34m\u001b[0m\u001b[0;34m\u001b[0m\u001b[0m\n",
      "\u001b[0m\u001b[0;32m     24 \u001b[0;31m            \u001b[0mexpected_measure_qids\u001b[0m\u001b[0;34m.\u001b[0m\u001b[0mdiscard\u001b[0m\u001b[0;34m(\u001b[0m\u001b[0;34m(\u001b[0m\u001b[0mmetric\u001b[0m\u001b[0;34m.\u001b[0m\u001b[0mmeasure\u001b[0m\u001b[0;34m,\u001b[0m \u001b[0mmetric\u001b[0m\u001b[0;34m.\u001b[0m\u001b[0mquery_id\u001b[0m\u001b[0;34m)\u001b[0m\u001b[0;34m)\u001b[0m\u001b[0;34m\u001b[0m\u001b[0;34m\u001b[0m\u001b[0m\n",
      "\u001b[0m\n"
     ]
    },
    {
     "name": "stdin",
     "output_type": "stream",
     "text": [
      "ipdb>  n\n"
     ]
    },
    {
     "name": "stdout",
     "output_type": "stream",
     "text": [
      "> \u001b[0;32m/opt/miniconda3/envs/pyterrier_rag_dev/lib/python3.10/site-packages/ir_measures/providers/base.py\u001b[0m(23)\u001b[0;36miter_calc\u001b[0;34m()\u001b[0m\n",
      "\u001b[0;32m     21 \u001b[0;31m        \"\"\"\n",
      "\u001b[0m\u001b[0;32m     22 \u001b[0;31m        \u001b[0mexpected_measure_qids\u001b[0m \u001b[0;34m=\u001b[0m \u001b[0mset\u001b[0m\u001b[0;34m(\u001b[0m\u001b[0mitertools\u001b[0m\u001b[0;34m.\u001b[0m\u001b[0mproduct\u001b[0m\u001b[0;34m(\u001b[0m\u001b[0mself\u001b[0m\u001b[0;34m.\u001b[0m\u001b[0mmeasures\u001b[0m\u001b[0;34m,\u001b[0m \u001b[0mself\u001b[0m\u001b[0;34m.\u001b[0m\u001b[0mqrel_qids\u001b[0m\u001b[0;34m)\u001b[0m\u001b[0;34m)\u001b[0m\u001b[0;34m\u001b[0m\u001b[0;34m\u001b[0m\u001b[0m\n",
      "\u001b[0m\u001b[0;32m---> 23 \u001b[0;31m        \u001b[0;32mfor\u001b[0m \u001b[0mmetric\u001b[0m \u001b[0;32min\u001b[0m \u001b[0mself\u001b[0m\u001b[0;34m.\u001b[0m\u001b[0m_iter_calc\u001b[0m\u001b[0;34m(\u001b[0m\u001b[0mrun\u001b[0m\u001b[0;34m)\u001b[0m\u001b[0;34m:\u001b[0m\u001b[0;34m\u001b[0m\u001b[0;34m\u001b[0m\u001b[0m\n",
      "\u001b[0m\u001b[0;32m     24 \u001b[0;31m            \u001b[0mexpected_measure_qids\u001b[0m\u001b[0;34m.\u001b[0m\u001b[0mdiscard\u001b[0m\u001b[0;34m(\u001b[0m\u001b[0;34m(\u001b[0m\u001b[0mmetric\u001b[0m\u001b[0;34m.\u001b[0m\u001b[0mmeasure\u001b[0m\u001b[0;34m,\u001b[0m \u001b[0mmetric\u001b[0m\u001b[0;34m.\u001b[0m\u001b[0mquery_id\u001b[0m\u001b[0;34m)\u001b[0m\u001b[0;34m)\u001b[0m\u001b[0;34m\u001b[0m\u001b[0;34m\u001b[0m\u001b[0m\n",
      "\u001b[0m\u001b[0;32m     25 \u001b[0;31m            \u001b[0;32myield\u001b[0m \u001b[0mmetric\u001b[0m\u001b[0;34m\u001b[0m\u001b[0;34m\u001b[0m\u001b[0m\n",
      "\u001b[0m\n"
     ]
    },
    {
     "name": "stdin",
     "output_type": "stream",
     "text": [
      "ipdb>  s\n"
     ]
    },
    {
     "name": "stdout",
     "output_type": "stream",
     "text": [
      "--Call--\n",
      "> \u001b[0;32m/opt/miniconda3/envs/pyterrier_rag_dev/lib/python3.10/site-packages/ir_measures/providers/runtime_provider.py\u001b[0m(39)\u001b[0;36m_iter_calc\u001b[0;34m()\u001b[0m\n",
      "\u001b[0;32m     37 \u001b[0;31m        \u001b[0mself\u001b[0m\u001b[0;34m.\u001b[0m\u001b[0mqrels\u001b[0m \u001b[0;34m=\u001b[0m \u001b[0mqrels\u001b[0m\u001b[0;34m\u001b[0m\u001b[0;34m\u001b[0m\u001b[0m\n",
      "\u001b[0m\u001b[0;32m     38 \u001b[0;31m\u001b[0;34m\u001b[0m\u001b[0m\n",
      "\u001b[0m\u001b[0;32m---> 39 \u001b[0;31m    \u001b[0;32mdef\u001b[0m \u001b[0m_iter_calc\u001b[0m\u001b[0;34m(\u001b[0m\u001b[0mself\u001b[0m\u001b[0;34m,\u001b[0m \u001b[0mrun\u001b[0m\u001b[0;34m)\u001b[0m\u001b[0;34m:\u001b[0m\u001b[0;34m\u001b[0m\u001b[0;34m\u001b[0m\u001b[0m\n",
      "\u001b[0m\u001b[0;32m     40 \u001b[0;31m        \u001b[0mrun\u001b[0m \u001b[0;34m=\u001b[0m \u001b[0mir_measures\u001b[0m\u001b[0;34m.\u001b[0m\u001b[0mutil\u001b[0m\u001b[0;34m.\u001b[0m\u001b[0mRunConverter\u001b[0m\u001b[0;34m(\u001b[0m\u001b[0mrun\u001b[0m\u001b[0;34m,\u001b[0m \u001b[0mstrict\u001b[0m\u001b[0;34m=\u001b[0m\u001b[0;32mFalse\u001b[0m\u001b[0;34m)\u001b[0m\u001b[0;34m.\u001b[0m\u001b[0mas_pd_dataframe\u001b[0m\u001b[0;34m(\u001b[0m\u001b[0;34m)\u001b[0m\u001b[0;34m\u001b[0m\u001b[0;34m\u001b[0m\u001b[0m\n",
      "\u001b[0m\u001b[0;32m     41 \u001b[0;31m        \u001b[0;32mif\u001b[0m \u001b[0;34m\"query_id\"\u001b[0m \u001b[0;32mnot\u001b[0m \u001b[0;32min\u001b[0m \u001b[0mrun\u001b[0m\u001b[0;34m.\u001b[0m\u001b[0mcolumns\u001b[0m\u001b[0;34m:\u001b[0m\u001b[0;34m\u001b[0m\u001b[0;34m\u001b[0m\u001b[0m\n",
      "\u001b[0m\n"
     ]
    }
   ],
   "source": [
    "scored_nuggets = scored_nuggets.rename(columns={\"qid\": \"query_id\"})\n",
    "results = results.rename(columns={\"qid\": \"query_id\"})\n",
    "for element in nuggetizer.VitalScore().iter_calc(scored_nuggets, results):\n",
    "    print(f\"Query ID: {element['query_id']}, Measure: {element['measure']}, Value: {element['value']}\")\n",
    "    break"
   ]
  },
  {
   "cell_type": "code",
   "execution_count": null,
   "id": "dea85e93-6c63-4105-9f48-58be6b4d8acc",
   "metadata": {},
   "outputs": [],
   "source": [
    "\"\"\"\n",
    "import pyterrier_rag.measures\n",
    "\n",
    "results = pt.Experiment(\n",
    "    [\n",
    "        rag_pipeline\n",
    "    ],\n",
    "    topics_df.head(2), \n",
    "    answers_df,\n",
    "    [pyterrier_rag.measures.F1, nuggetizer.VitalScore()],\n",
    "    #batch_size=25,\n",
    "    names=['baseline retriever'],\n",
    ")\n",
    "\"\"\""
   ]
  }
 ],
 "metadata": {
  "kernelspec": {
   "display_name": "Python [conda env:pyterrier_rag_dev]",
   "language": "python",
   "name": "conda-env-pyterrier_rag_dev-py"
  },
  "language_info": {
   "codemirror_mode": {
    "name": "ipython",
    "version": 3
   },
   "file_extension": ".py",
   "mimetype": "text/x-python",
   "name": "python",
   "nbconvert_exporter": "python",
   "pygments_lexer": "ipython3",
   "version": "3.10.16"
  }
 },
 "nbformat": 4,
 "nbformat_minor": 5
}
